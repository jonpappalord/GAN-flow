{
 "cells": [
  {
   "cell_type": "code",
   "execution_count": 1,
   "metadata": {
    "id": "x561-XD-JziU",
    "scrolled": true
   },
   "outputs": [],
   "source": [
    "from utils import *\n",
    "\n",
    "import numpy as np\n",
    "from sklearn.model_selection import train_test_split\n",
    "import itertools\n",
    "from random import sample\n",
    "import pickle\n",
    "from scipy.spatial import distance\n",
    "\n",
    "\n",
    "%matplotlib inline\n",
    "from matplotlib import pyplot as plt\n",
    "from matplotlib.offsetbox import AnchoredText\n",
    "plt.rcParams[\"figure.figsize\"] = (12, 9) # (w, h)"
   ]
  },
  {
   "cell_type": "code",
   "execution_count": 2,
   "metadata": {
    "scrolled": true
   },
   "outputs": [],
   "source": [
    "city = 'CHI'\n",
    "transp = 'Bike'"
   ]
  },
  {
   "cell_type": "code",
   "execution_count": 3,
   "metadata": {
    "scrolled": true
   },
   "outputs": [
    {
     "data": {
      "text/plain": [
       "array([[0.8       , 1.04457947, 2.08900526, ..., 8.92751626, 8.42290739,\n",
       "        8.35724999],\n",
       "       [1.04457947, 0.8       , 1.04442579, ..., 9.34506394, 8.6144561 ,\n",
       "        8.42166846],\n",
       "       [2.08900526, 1.04442579, 0.8       , ..., 9.85599213, 8.9248904 ,\n",
       "        8.61318888],\n",
       "       ...,\n",
       "       [8.92751626, 9.34506394, 9.85599213, ..., 0.8       , 2.08992727,\n",
       "        3.13466041],\n",
       "       [8.42290739, 8.6144561 , 8.9248904 , ..., 2.08992727, 0.8       ,\n",
       "        1.04473314],\n",
       "       [8.35724999, 8.42166846, 8.61318888, ..., 3.13466041, 1.04473314,\n",
       "        0.8       ]])"
      ]
     },
     "execution_count": 3,
     "metadata": {},
     "output_type": "execute_result"
    }
   ],
   "source": [
    "distanze = np.load(\"./DataLoading/dist_mat_\" +city +\".npy\")\n",
    "np.fill_diagonal(distanze, 0.8)\n",
    "distanze"
   ]
  },
  {
   "cell_type": "code",
   "execution_count": 4,
   "metadata": {
    "scrolled": true
   },
   "outputs": [],
   "source": [
    "with open(\"./\" +transp + city +\"/fake_set_random.txt\", \"rb\") as fp:   # Unpickling\n",
    "    fake_set = pickle.load(fp)"
   ]
  },
  {
   "cell_type": "code",
   "execution_count": 5,
   "metadata": {
    "scrolled": true
   },
   "outputs": [],
   "source": [
    "with open(\"./\" +transp + city +\"/v_test.txt\", \"rb\") as fp:   # Unpickling\n",
    "    v_test = pickle.load(fp)"
   ]
  },
  {
   "cell_type": "code",
   "execution_count": 6,
   "metadata": {
    "id": "zp2jVvl3XjrJ",
    "scrolled": true
   },
   "outputs": [],
   "source": [
    "number_of_items = np.floor(len(v_test)/(1.5)).astype(int)\n",
    "uno = sample(v_test, number_of_items)\n",
    "due = sample(fake_set, number_of_items)\n",
    "mixed_set_pairs = [pair for pair in itertools.product(uno , due)]"
   ]
  },
  {
   "cell_type": "code",
   "execution_count": 7,
   "metadata": {
    "scrolled": true
   },
   "outputs": [
    {
     "data": {
      "text/plain": [
       "(146, 146, 9409, 97)"
      ]
     },
     "execution_count": 7,
     "metadata": {},
     "output_type": "execute_result"
    }
   ],
   "source": [
    "len(fake_set), len(v_test), len(mixed_set_pairs), number_of_items"
   ]
  },
  {
   "cell_type": "markdown",
   "metadata": {
    "id": "6mEM3DVeHi9Q"
   },
   "source": [
    "# EXPERIMENTS #"
   ]
  },
  {
   "cell_type": "markdown",
   "metadata": {
    "id": "XzPB9XWoOanV"
   },
   "source": [
    "## EXPERIMENT WEIGHT 1 ##"
   ]
  },
  {
   "cell_type": "code",
   "execution_count": 8,
   "metadata": {
    "id": "PRtuOlDTOZ1S",
    "scrolled": true
   },
   "outputs": [
    {
     "name": "stdout",
     "output_type": "stream",
     "text": [
      "10585\n",
      "Wall time: 12.3 s\n"
     ]
    }
   ],
   "source": [
    "%%time\n",
    "exp_weight_1_sim = get_exp_dist(v_test)\n",
    "print(len(exp_weight_1_sim))"
   ]
  },
  {
   "cell_type": "markdown",
   "metadata": {
    "id": "NwQgygIBTN7A"
   },
   "source": [
    "## EXPERIMENT WEIGHT 2 ##"
   ]
  },
  {
   "cell_type": "code",
   "execution_count": 9,
   "metadata": {
    "id": "0_nKOfgjUsjG",
    "scrolled": true,
    "tags": []
   },
   "outputs": [
    {
     "name": "stdout",
     "output_type": "stream",
     "text": [
      "10585\n",
      "Wall time: 15.5 s\n"
     ]
    }
   ],
   "source": [
    "%%time\n",
    "exp_weight_2_sim = get_exp_dist(fake_set)\n",
    "print(len(exp_weight_2_sim))"
   ]
  },
  {
   "cell_type": "markdown",
   "metadata": {
    "id": "W7THJs8wWw1W"
   },
   "source": [
    "### EXPERIMENT WEIGHT 3 ##"
   ]
  },
  {
   "cell_type": "code",
   "execution_count": 10,
   "metadata": {
    "id": "juGnCDFka4Rx",
    "scrolled": true
   },
   "outputs": [
    {
     "name": "stdout",
     "output_type": "stream",
     "text": [
      "9409\n",
      "Wall time: 12.5 s\n"
     ]
    }
   ],
   "source": [
    "%%time\n",
    "exp_weight_3_sim =get_exp_dist(mixed_set_pairs, paired = True)\n",
    "print(len(exp_weight_3_sim))\n"
   ]
  },
  {
   "cell_type": "markdown",
   "metadata": {},
   "source": [
    "# WEIGHT-DISTANCES #"
   ]
  },
  {
   "cell_type": "markdown",
   "metadata": {
    "id": "XzPB9XWoOanV"
   },
   "source": [
    "## EXPERIMENT WEIGHT-DIST 1 ##"
   ]
  },
  {
   "cell_type": "code",
   "execution_count": 11,
   "metadata": {
    "id": "PRtuOlDTOZ1S",
    "scrolled": true
   },
   "outputs": [
    {
     "name": "stdout",
     "output_type": "stream",
     "text": [
      "Wall time: 13.5 s\n"
     ]
    }
   ],
   "source": [
    "%%time\n",
    "exp_weight_dist_1_sim = get_exp_dist(v_test,method = \"weight-dist\", distanze = distanze)"
   ]
  },
  {
   "cell_type": "code",
   "execution_count": 12,
   "metadata": {
    "scrolled": true
   },
   "outputs": [
    {
     "name": "stdout",
     "output_type": "stream",
     "text": [
      "10585\n"
     ]
    }
   ],
   "source": [
    "print(len(exp_weight_dist_1_sim))"
   ]
  },
  {
   "cell_type": "markdown",
   "metadata": {
    "id": "NwQgygIBTN7A"
   },
   "source": [
    "## EXPERIMENT WEIGHT-DIST 2 ##"
   ]
  },
  {
   "cell_type": "code",
   "execution_count": 13,
   "metadata": {
    "id": "0_nKOfgjUsjG",
    "scrolled": true
   },
   "outputs": [
    {
     "name": "stdout",
     "output_type": "stream",
     "text": [
      "Wall time: 17.5 s\n"
     ]
    }
   ],
   "source": [
    "%%time\n",
    "exp_weight_dist_2_sim = get_exp_dist(fake_set,method = \"weight-dist\", distanze = distanze)"
   ]
  },
  {
   "cell_type": "code",
   "execution_count": 14,
   "metadata": {
    "id": "laqIddf_U3Bo",
    "scrolled": true
   },
   "outputs": [
    {
     "name": "stdout",
     "output_type": "stream",
     "text": [
      "10585\n"
     ]
    }
   ],
   "source": [
    "print(len(exp_weight_dist_2_sim))"
   ]
  },
  {
   "cell_type": "markdown",
   "metadata": {
    "id": "W7THJs8wWw1W"
   },
   "source": [
    "## EXPERIMENT WEIGHT-DIST 3 ##"
   ]
  },
  {
   "cell_type": "code",
   "execution_count": 15,
   "metadata": {
    "id": "zp2jVvl3XjrJ",
    "scrolled": true
   },
   "outputs": [],
   "source": [
    "mixed_set_pairs = [pair for pair in itertools.product(uno , due)]"
   ]
  },
  {
   "cell_type": "code",
   "execution_count": 16,
   "metadata": {
    "id": "juGnCDFka4Rx",
    "scrolled": true
   },
   "outputs": [
    {
     "name": "stdout",
     "output_type": "stream",
     "text": [
      "Wall time: 13.8 s\n"
     ]
    }
   ],
   "source": [
    "%%time\n",
    "exp_weight_dist_3_sim =get_exp_dist(mixed_set_pairs, paired = True, method = \"weight-dist\", distanze = distanze)"
   ]
  },
  {
   "cell_type": "code",
   "execution_count": 17,
   "metadata": {
    "id": "08mbubRja4SR",
    "scrolled": true
   },
   "outputs": [
    {
     "name": "stdout",
     "output_type": "stream",
     "text": [
      "9409\n"
     ]
    }
   ],
   "source": [
    "print(len(exp_weight_dist_3_sim))"
   ]
  },
  {
   "cell_type": "markdown",
   "metadata": {},
   "source": [
    "# OTHER MEASURES #"
   ]
  },
  {
   "cell_type": "markdown",
   "metadata": {},
   "source": [
    "### WARNING, COMPUTATIONLLY REALLY HEAVY ###"
   ]
  },
  {
   "cell_type": "markdown",
   "metadata": {
    "id": "4FnCq26Cgzfl"
   },
   "source": [
    "## EXPERIMENT CUTNORM 1 ##"
   ]
  },
  {
   "cell_type": "code",
   "execution_count": 18,
   "metadata": {
    "id": "IZGkLTt4RRln",
    "scrolled": true,
    "tags": []
   },
   "outputs": [
    {
     "name": "stdout",
     "output_type": "stream",
     "text": [
      "0\n",
      "100\n",
      "200\n",
      "300\n",
      "400\n",
      "500\n",
      "600\n",
      "700\n",
      "800\n",
      "900\n",
      "1000\n",
      "1100\n",
      "1200\n",
      "1300\n",
      "1400\n",
      "1500\n",
      "1600\n",
      "1700\n",
      "1800\n",
      "1900\n",
      "2000\n",
      "2100\n",
      "2200\n",
      "2300\n",
      "2400\n",
      "2500\n",
      "2600\n",
      "2700\n",
      "2800\n",
      "2900\n",
      "3000\n",
      "3100\n",
      "3200\n",
      "3300\n",
      "3400\n",
      "3500\n",
      "3600\n",
      "3700\n",
      "3800\n",
      "3900\n",
      "4000\n",
      "4100\n",
      "4200\n",
      "4300\n",
      "4400\n",
      "4500\n",
      "4600\n",
      "4700\n",
      "4800\n",
      "4900\n",
      "5000\n",
      "5100\n",
      "5200\n",
      "5300\n",
      "5400\n",
      "5500\n",
      "5600\n",
      "5700\n",
      "5800\n",
      "5900\n",
      "6000\n",
      "6100\n",
      "6200\n",
      "6300\n",
      "6400\n",
      "6500\n",
      "6600\n",
      "6700\n",
      "6800\n",
      "6900\n",
      "7000\n",
      "7100\n",
      "7200\n",
      "7300\n",
      "7400\n",
      "7500\n",
      "7600\n",
      "7700\n",
      "7800\n",
      "7900\n",
      "8000\n",
      "8100\n",
      "8200\n",
      "8300\n",
      "8400\n",
      "8500\n",
      "8600\n",
      "8700\n",
      "8800\n",
      "8900\n",
      "9000\n",
      "9100\n",
      "9200\n",
      "9300\n",
      "9400\n",
      "9500\n",
      "9600\n",
      "9700\n",
      "9800\n",
      "9900\n",
      "10000\n",
      "10100\n",
      "10200\n",
      "10300\n",
      "10400\n",
      "10500\n",
      "10585\n",
      "Wall time: 24min 49s\n"
     ]
    }
   ],
   "source": [
    "%%time\n",
    "exp_cutnorm_1_sim = get_exp_measures(v_test, method = \"cutnorm\")\n",
    "print(len(exp_cutnorm_1_sim))"
   ]
  },
  {
   "cell_type": "markdown",
   "metadata": {
    "id": "olo2K08ERRmH"
   },
   "source": [
    "## EXPERIMENT CUTNORM 2 ##"
   ]
  },
  {
   "cell_type": "code",
   "execution_count": 19,
   "metadata": {
    "id": "-y2zQiXXRRmI",
    "scrolled": true
   },
   "outputs": [
    {
     "name": "stdout",
     "output_type": "stream",
     "text": [
      "0\n",
      "100\n",
      "200\n",
      "300\n",
      "400\n",
      "500\n",
      "600\n",
      "700\n",
      "800\n",
      "900\n",
      "1000\n",
      "1100\n",
      "1200\n",
      "1300\n",
      "1400\n",
      "1500\n",
      "1600\n",
      "1700\n",
      "1800\n",
      "1900\n",
      "2000\n",
      "2100\n",
      "2200\n",
      "2300\n",
      "2400\n",
      "2500\n",
      "2600\n",
      "2700\n",
      "2800\n",
      "2900\n",
      "3000\n",
      "3100\n",
      "3200\n",
      "3300\n",
      "3400\n",
      "3500\n",
      "3600\n",
      "3700\n",
      "3800\n",
      "3900\n",
      "4000\n",
      "4100\n",
      "4200\n",
      "4300\n",
      "4400\n",
      "4500\n",
      "4600\n",
      "4700\n",
      "4800\n",
      "4900\n",
      "5000\n",
      "5100\n",
      "5200\n",
      "5300\n",
      "5400\n",
      "5500\n",
      "5600\n",
      "5700\n",
      "5800\n",
      "5900\n",
      "6000\n",
      "6100\n",
      "6200\n",
      "6300\n",
      "6400\n",
      "6500\n",
      "6600\n",
      "6700\n",
      "6800\n",
      "6900\n",
      "7000\n",
      "7100\n",
      "7200\n",
      "7300\n",
      "7400\n",
      "7500\n",
      "7600\n",
      "7700\n",
      "7800\n",
      "7900\n",
      "8000\n",
      "8100\n",
      "8200\n",
      "8300\n",
      "8400\n",
      "8500\n",
      "8600\n",
      "8700\n",
      "8800\n",
      "8900\n",
      "9000\n",
      "9100\n",
      "9200\n",
      "9300\n",
      "9400\n",
      "9500\n",
      "9600\n",
      "9700\n",
      "9800\n",
      "9900\n",
      "10000\n",
      "10100\n",
      "10200\n",
      "10300\n",
      "10400\n",
      "10500\n",
      "10585\n",
      "Wall time: 19min 11s\n"
     ]
    }
   ],
   "source": [
    "%%time\n",
    "exp_cutnorm_2_sim = get_exp_measures(fake_set, method = \"cutnorm\")\n",
    "print(len(exp_cutnorm_2_sim))"
   ]
  },
  {
   "cell_type": "markdown",
   "metadata": {
    "id": "omk2JlX0RRmK"
   },
   "source": [
    "## EXPERIMENT CUTNORM 3 ##"
   ]
  },
  {
   "cell_type": "code",
   "execution_count": 20,
   "metadata": {
    "id": "1FF59hplRRmL",
    "scrolled": true
   },
   "outputs": [
    {
     "name": "stdout",
     "output_type": "stream",
     "text": [
      "0\n",
      "100\n",
      "200\n",
      "300\n",
      "400\n",
      "500\n",
      "600\n",
      "700\n",
      "800\n",
      "900\n",
      "1000\n",
      "1100\n",
      "1200\n",
      "1300\n",
      "1400\n",
      "1500\n",
      "1600\n",
      "1700\n",
      "1800\n",
      "1900\n",
      "2000\n",
      "2100\n",
      "2200\n",
      "2300\n",
      "2400\n",
      "2500\n",
      "2600\n",
      "2700\n",
      "2800\n",
      "2900\n",
      "3000\n",
      "3100\n",
      "3200\n",
      "3300\n",
      "3400\n",
      "3500\n",
      "3600\n",
      "3700\n",
      "3800\n",
      "3900\n",
      "4000\n",
      "4100\n",
      "4200\n",
      "4300\n",
      "4400\n",
      "4500\n",
      "4600\n",
      "4700\n",
      "4800\n",
      "4900\n",
      "5000\n",
      "5100\n",
      "5200\n",
      "5300\n",
      "5400\n",
      "5500\n",
      "5600\n",
      "5700\n",
      "5800\n",
      "5900\n",
      "6000\n",
      "6100\n",
      "6200\n",
      "6300\n",
      "6400\n",
      "6500\n",
      "6600\n",
      "6700\n",
      "6800\n",
      "6900\n",
      "7000\n",
      "7100\n",
      "7200\n",
      "7300\n",
      "7400\n",
      "7500\n",
      "7600\n",
      "7700\n",
      "7800\n",
      "7900\n",
      "8000\n",
      "8100\n",
      "8200\n",
      "8300\n",
      "8400\n",
      "8500\n",
      "8600\n",
      "8700\n",
      "8800\n",
      "8900\n",
      "9000\n",
      "9100\n",
      "9200\n",
      "9300\n",
      "9400\n",
      "9409\n",
      "Wall time: 3min 4s\n"
     ]
    }
   ],
   "source": [
    "%%time\n",
    "exp_cutnorm_3_sim = get_exp_measures(mixed_set_pairs, paired = True, method=\"cutnorm\")\n",
    "print(len(exp_cutnorm_3_sim))"
   ]
  },
  {
   "cell_type": "markdown",
   "metadata": {},
   "source": [
    "## EXPERIMENT CPC 1 ##"
   ]
  },
  {
   "cell_type": "code",
   "execution_count": 21,
   "metadata": {
    "id": "IZGkLTt4RRln",
    "scrolled": true
   },
   "outputs": [
    {
     "name": "stdout",
     "output_type": "stream",
     "text": [
      "Wall time: 464 ms\n"
     ]
    }
   ],
   "source": [
    "%%time\n",
    "exp_cpc_1_sim = get_exp_measures(v_test, method = \"cpc\")"
   ]
  },
  {
   "cell_type": "code",
   "execution_count": 22,
   "metadata": {
    "id": "4BO0cyuoRRmE",
    "scrolled": true
   },
   "outputs": [
    {
     "name": "stdout",
     "output_type": "stream",
     "text": [
      "10585\n"
     ]
    }
   ],
   "source": [
    "print(len(exp_cpc_1_sim))"
   ]
  },
  {
   "cell_type": "markdown",
   "metadata": {
    "id": "olo2K08ERRmH"
   },
   "source": [
    "## EXPERIMENT CPC 2 ##"
   ]
  },
  {
   "cell_type": "code",
   "execution_count": 23,
   "metadata": {
    "id": "-y2zQiXXRRmI",
    "scrolled": true
   },
   "outputs": [
    {
     "name": "stdout",
     "output_type": "stream",
     "text": [
      "Wall time: 420 ms\n"
     ]
    }
   ],
   "source": [
    "%%time\n",
    "exp_cpc_2_sim = get_exp_measures(fake_set, method = \"cpc\")"
   ]
  },
  {
   "cell_type": "code",
   "execution_count": 24,
   "metadata": {
    "id": "FCsQUj0rRRmJ",
    "scrolled": true
   },
   "outputs": [
    {
     "name": "stdout",
     "output_type": "stream",
     "text": [
      "10585\n"
     ]
    }
   ],
   "source": [
    "print(len(exp_cpc_2_sim))"
   ]
  },
  {
   "cell_type": "markdown",
   "metadata": {
    "id": "omk2JlX0RRmK"
   },
   "source": [
    "## EXPERIMENT CPC 3 ##"
   ]
  },
  {
   "cell_type": "code",
   "execution_count": 25,
   "metadata": {
    "id": "1FF59hplRRmL",
    "scrolled": true
   },
   "outputs": [
    {
     "name": "stdout",
     "output_type": "stream",
     "text": [
      "Wall time: 398 ms\n"
     ]
    }
   ],
   "source": [
    "%%time\n",
    "exp_cpc_3_sim = get_exp_measures(mixed_set_pairs, paired = True, method=\"cpc\")"
   ]
  },
  {
   "cell_type": "code",
   "execution_count": 26,
   "metadata": {
    "scrolled": true
   },
   "outputs": [
    {
     "name": "stdout",
     "output_type": "stream",
     "text": [
      "9409\n"
     ]
    }
   ],
   "source": [
    "print(len(exp_cpc_3_sim))"
   ]
  },
  {
   "cell_type": "markdown",
   "metadata": {},
   "source": [
    "## EXPERIMENT RMSE 1 ##"
   ]
  },
  {
   "cell_type": "code",
   "execution_count": 27,
   "metadata": {
    "id": "IZGkLTt4RRln",
    "scrolled": true,
    "tags": []
   },
   "outputs": [
    {
     "name": "stdout",
     "output_type": "stream",
     "text": [
      "Wall time: 2.65 s\n"
     ]
    }
   ],
   "source": [
    "%%time\n",
    "exp_rmse_1_sim = get_exp_measures(v_test, method = \"rmse\")"
   ]
  },
  {
   "cell_type": "code",
   "execution_count": 28,
   "metadata": {
    "id": "4BO0cyuoRRmE",
    "scrolled": true
   },
   "outputs": [
    {
     "name": "stdout",
     "output_type": "stream",
     "text": [
      "10585\n"
     ]
    }
   ],
   "source": [
    "print(len(exp_rmse_1_sim))"
   ]
  },
  {
   "cell_type": "markdown",
   "metadata": {
    "id": "olo2K08ERRmH"
   },
   "source": [
    "## EXPERIMENT RMSE 2 ##"
   ]
  },
  {
   "cell_type": "code",
   "execution_count": 29,
   "metadata": {
    "id": "-y2zQiXXRRmI",
    "scrolled": true
   },
   "outputs": [
    {
     "name": "stdout",
     "output_type": "stream",
     "text": [
      "Wall time: 2.51 s\n"
     ]
    }
   ],
   "source": [
    "%%time\n",
    "exp_rmse_2_sim = get_exp_measures(fake_set, method = \"rmse\")"
   ]
  },
  {
   "cell_type": "code",
   "execution_count": 30,
   "metadata": {
    "id": "FCsQUj0rRRmJ",
    "scrolled": true
   },
   "outputs": [
    {
     "name": "stdout",
     "output_type": "stream",
     "text": [
      "10585\n"
     ]
    }
   ],
   "source": [
    "print(len(exp_rmse_2_sim))"
   ]
  },
  {
   "cell_type": "markdown",
   "metadata": {
    "id": "omk2JlX0RRmK"
   },
   "source": [
    "## EXPERIMENT RMSE 3 ##"
   ]
  },
  {
   "cell_type": "code",
   "execution_count": 31,
   "metadata": {
    "id": "1FF59hplRRmL",
    "scrolled": true
   },
   "outputs": [
    {
     "name": "stdout",
     "output_type": "stream",
     "text": [
      "Wall time: 2.19 s\n"
     ]
    }
   ],
   "source": [
    "%%time\n",
    "exp_rmse_3_sim = get_exp_measures(mixed_set_pairs, paired = True, method=\"rmse\")"
   ]
  },
  {
   "cell_type": "code",
   "execution_count": 32,
   "metadata": {
    "scrolled": true
   },
   "outputs": [
    {
     "name": "stdout",
     "output_type": "stream",
     "text": [
      "9409\n"
     ]
    }
   ],
   "source": [
    "print(len(exp_rmse_3_sim))"
   ]
  },
  {
   "cell_type": "code",
   "execution_count": 33,
   "metadata": {
    "scrolled": true
   },
   "outputs": [],
   "source": [
    "\n",
    "with open(\"./\" + transp+city+\"/experiments/weight/Random/1.txt\", \"wb\") as fp:   #Pickling\n",
    "    pickle.dump(exp_weight_1_sim, fp)\n",
    "with open(\"./\" + transp+city+\"/experiments/weight/Random/2.txt\", \"wb\") as fp:   #Pickling\n",
    "    pickle.dump(exp_weight_2_sim, fp)\n",
    "with open(\"./\" + transp+city+\"/experiments/weight/Random/3.txt\", \"wb\") as fp:   #Pickling\n",
    "    pickle.dump(exp_weight_3_sim, fp)\n",
    "    \n",
    "with open(\"./\" + transp+city+\"/experiments/weightdist/Random/1.txt\", \"wb\") as fp:   #Pickling\n",
    "    pickle.dump(exp_weight_dist_1_sim, fp)\n",
    "with open(\"./\" + transp+city+\"/experiments/weightdist/Random/2.txt\", \"wb\") as fp:   #Pickling\n",
    "    pickle.dump(exp_weight_dist_2_sim, fp)\n",
    "with open(\"./\" + transp+city+\"/experiments/weightdist/Random/3.txt\", \"wb\") as fp:   #Pickling\n",
    "    pickle.dump(exp_weight_dist_3_sim, fp)\n",
    "\n",
    "with open(\"./\" + transp+city+\"/experiments/cutnorm/Random/1.txt\", \"wb\") as fp:   #Pickling\n",
    "    pickle.dump(exp_cutnorm_1_sim, fp)\n",
    "with open(\"./\" + transp+city+\"/experiments/cutnorm/Random/2.txt\", \"wb\") as fp:   #Pickling\n",
    "    pickle.dump(exp_cutnorm_2_sim, fp)\n",
    "with open(\"./\" + transp+city+\"/experiments/cutnorm/Random/3.txt\", \"wb\") as fp:   #Pickling\n",
    "    pickle.dump(exp_cutnorm_3_sim, fp)\n",
    "\n",
    "\n",
    "with open(\"./\" + transp+city+\"/experiments/rmse/Random/1.txt\", \"wb\") as fp:   #Pickling\n",
    "    pickle.dump(exp_rmse_1_sim, fp)\n",
    "with open(\"./\" + transp+city+\"/experiments/rmse/Random/2.txt\", \"wb\") as fp:   #Pickling\n",
    "    pickle.dump(exp_rmse_2_sim, fp)\n",
    "with open(\"./\" + transp+city+\"/experiments/rmse/Random/3.txt\", \"wb\") as fp:   #Pickling\n",
    "    pickle.dump(exp_rmse_3_sim, fp)\n",
    "\n",
    "\n",
    "with open(\"./\" + transp+city+\"/experiments/cpc/Random/1.txt\", \"wb\") as fp:   #Pickling\n",
    "    pickle.dump(exp_cpc_1_sim, fp)\n",
    "with open(\"./\" + transp+city+\"/experiments/cpc/Random/2.txt\", \"wb\") as fp:   #Pickling\n",
    "    pickle.dump(exp_cpc_2_sim, fp)\n",
    "with open(\"./\" + transp+city+\"/experiments/cpc/Random/3.txt\", \"wb\") as fp:   #Pickling\n",
    "    pickle.dump(exp_cpc_3_sim, fp)\n"
   ]
  },
  {
   "cell_type": "code",
   "execution_count": null,
   "metadata": {
    "scrolled": true
   },
   "outputs": [],
   "source": []
  }
 ],
 "metadata": {
  "accelerator": "GPU",
  "colab": {
   "name": "DCGAN-backupBCN.ipynb",
   "provenance": []
  },
  "kernelspec": {
   "display_name": "Python [conda env: skm]",
   "language": "python",
   "name": "skm"
  },
  "language_info": {
   "codemirror_mode": {
    "name": "ipython",
    "version": 3
   },
   "file_extension": ".py",
   "mimetype": "text/x-python",
   "name": "python",
   "nbconvert_exporter": "python",
   "pygments_lexer": "ipython3",
   "version": "3.7.11"
  }
 },
 "nbformat": 4,
 "nbformat_minor": 4
}
