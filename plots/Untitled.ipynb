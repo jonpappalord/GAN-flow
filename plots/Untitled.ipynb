{
 "cells": [
  {
   "cell_type": "code",
   "execution_count": 25,
   "id": "628748be-c512-41bc-84d3-22cd6c014ef9",
   "metadata": {},
   "outputs": [],
   "source": [
    "la = [0,25,50,75]\n",
    "lb = [0,25,50,75]\n",
    "lc = [0,25,50,75]\n",
    "ld = [0,25,50,75]\n",
    "le = [0,25,50,75]"
   ]
  },
  {
   "cell_type": "code",
   "execution_count": 26,
   "id": "2c863ba3-1992-411c-b19c-0f4f1ef23263",
   "metadata": {},
   "outputs": [],
   "source": [
    "conta = 0\n",
    "for a in la:\n",
    "    for b in lb:\n",
    "        for c in lc:\n",
    "            for d in ld:\n",
    "                for e in le:\n",
    "                    if a+b+c+d+e == 100:\n",
    "                        conta += 1"
   ]
  },
  {
   "cell_type": "code",
   "execution_count": 27,
   "id": "214cddc4-f01a-41dc-90c4-76aec7dd6240",
   "metadata": {},
   "outputs": [
    {
     "data": {
      "text/plain": [
       "65"
      ]
     },
     "execution_count": 27,
     "metadata": {},
     "output_type": "execute_result"
    }
   ],
   "source": [
    "conta"
   ]
  },
  {
   "cell_type": "markdown",
   "id": "9c15437b-836a-40ff-bfba-ce23882f8142",
   "metadata": {},
   "source": [
    "3----->12"
   ]
  },
  {
   "cell_type": "markdown",
   "id": "5bab158e-89ac-4066-8996-f8b734405b44",
   "metadata": {},
   "source": [
    "4----->31"
   ]
  },
  {
   "cell_type": "markdown",
   "id": "64866529-4558-4d0b-9a15-90183ad63985",
   "metadata": {},
   "source": [
    "5----->65"
   ]
  },
  {
   "cell_type": "code",
   "execution_count": 33,
   "id": "9791cfe7-6752-4128-a3df-107dcf0560b8",
   "metadata": {},
   "outputs": [],
   "source": [
    "la = list(range(0,100,10))\n",
    "lb = list(range(0,100,10))\n",
    "lc = list(range(0,100,10))\n",
    "ld = list(range(0,100,10))"
   ]
  },
  {
   "cell_type": "code",
   "execution_count": 36,
   "id": "fd992b33-1e72-4e77-8356-100a3b25b0dc",
   "metadata": {},
   "outputs": [],
   "source": [
    "conta = 0\n",
    "for a in la:\n",
    "    for b in lb:\n",
    "        for c in lc:\n",
    "            for d in ld:\n",
    "                if a+b+c+d == 100:\n",
    "                    conta += 1"
   ]
  },
  {
   "cell_type": "code",
   "execution_count": 37,
   "id": "6648a0d9-0865-4bd4-b06c-902018fcdd7c",
   "metadata": {},
   "outputs": [
    {
     "data": {
      "text/plain": [
       "84"
      ]
     },
     "execution_count": 37,
     "metadata": {},
     "output_type": "execute_result"
    }
   ],
   "source": [
    "conta"
   ]
  },
  {
   "cell_type": "code",
   "execution_count": 49,
   "id": "8b28a4d8-3a83-4e8e-9664-61d716246929",
   "metadata": {},
   "outputs": [
    {
     "data": {
      "text/plain": [
       "103.33333333333333"
      ]
     },
     "execution_count": 49,
     "metadata": {},
     "output_type": "execute_result"
    }
   ],
   "source": [
    "(31*10*20)/60"
   ]
  },
  {
   "cell_type": "code",
   "execution_count": 51,
   "id": "a744d75b-523f-4cd8-9a9a-d3bc5ebd0dcb",
   "metadata": {},
   "outputs": [
    {
     "data": {
      "text/plain": [
       "4.291666666666667"
      ]
     },
     "execution_count": 51,
     "metadata": {},
     "output_type": "execute_result"
    }
   ],
   "source": [
    "103/24"
   ]
  },
  {
   "cell_type": "code",
   "execution_count": null,
   "id": "e85778b9-54c9-4bf1-b33e-adb04b10f13e",
   "metadata": {},
   "outputs": [],
   "source": []
  }
 ],
 "metadata": {
  "kernelspec": {
   "display_name": "Python [conda env:skm]",
   "language": "python",
   "name": "skm"
  },
  "language_info": {
   "codemirror_mode": {
    "name": "ipython",
    "version": 3
   },
   "file_extension": ".py",
   "mimetype": "text/x-python",
   "name": "python",
   "nbconvert_exporter": "python",
   "pygments_lexer": "ipython3",
   "version": "3.7.13"
  }
 },
 "nbformat": 4,
 "nbformat_minor": 5
}
