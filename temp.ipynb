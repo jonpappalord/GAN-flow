{
 "cells": [
  {
   "cell_type": "code",
   "execution_count": 10,
   "id": "ebc57482-c223-432d-8d30-154b96513ab5",
   "metadata": {
    "scrolled": true
   },
   "outputs": [],
   "source": [
    "from utils import *\n",
    "\n",
    "import numpy as np\n",
    "from sklearn.model_selection import train_test_split\n",
    "import itertools\n",
    "from random import sample\n",
    "import pickle\n",
    "from scipy.spatial import distance\n",
    "import time\n",
    "import sys\n",
    "from skmob.measures import evaluation\n",
    "\n",
    "\n",
    "import random\n",
    "random.seed(3110)"
   ]
  },
  {
   "cell_type": "code",
   "execution_count": 11,
   "id": "7b4a1662-2357-4e36-9bc8-56b33556ce51",
   "metadata": {
    "scrolled": true
   },
   "outputs": [],
   "source": [
    "with open(\"./BikeCHI/fake_set.txt\", \"rb\") as fp:   # Unpickling\n",
    "            fake_set = pickle.load(fp)"
   ]
  },
  {
   "cell_type": "code",
   "execution_count": 12,
   "id": "fd2b9f4d-ed51-47a6-b356-6c75b98759e8",
   "metadata": {
    "scrolled": true
   },
   "outputs": [],
   "source": [
    "G1 = nx.from_numpy_matrix(np.matrix(fake_set[0]), create_using=nx.DiGraph)\n",
    "G2 = nx.from_numpy_matrix(np.matrix(fake_set[1]), create_using=nx.DiGraph)"
   ]
  },
  {
   "cell_type": "code",
   "execution_count": 19,
   "id": "422f7064-289d-412d-9d5b-2cf1f6ed17c8",
   "metadata": {
    "scrolled": true
   },
   "outputs": [
    {
     "name": "stdout",
     "output_type": "stream",
     "text": [
      "CPU times: user 401 ms, sys: 2.25 ms, total: 403 ms\n",
      "Wall time: 402 ms\n"
     ]
    }
   ],
   "source": [
    "%%time\n",
    "cl1 = list(nx.clustering(G1,weight='weight').values())\n",
    "cl2 = list(nx.clustering(G2,weight='weight').values())"
   ]
  },
  {
   "cell_type": "code",
   "execution_count": 20,
   "id": "e85843e9-03e3-4a97-a3e8-bb08eac48354",
   "metadata": {
    "scrolled": true,
    "tags": []
   },
   "outputs": [
    {
     "data": {
      "text/plain": [
       "[0.007313650507084936,\n",
       " 0.007667190117347215,\n",
       " 0.0065194898582381314,\n",
       " 0.0028848957044856124,\n",
       " 0.005654904581330411,\n",
       " 0.006159909027196875,\n",
       " 0.006199454181070845,\n",
       " 0.00579751923941265,\n",
       " 0.0061572252038780955,\n",
       " 0.008850173691439853,\n",
       " 0.009444128269107411,\n",
       " 0.011473143838693961,\n",
       " 0.0026615907850834138,\n",
       " 0.005012396484337779,\n",
       " 0.006837776246668423,\n",
       " 0.013302530734979633,\n",
       " 0.004803562353650244,\n",
       " 0.010006151262803721,\n",
       " 0.011745937788951348,\n",
       " 0.014673982936146074,\n",
       " 0.012500963765201267,\n",
       " 0.00697202229829843,\n",
       " 0.002928233498400389,\n",
       " 0.005983338816920186,\n",
       " 0.0075022726311910716,\n",
       " 0.009214389101320854,\n",
       " 0.01315113890094361,\n",
       " 0.01162134982158852,\n",
       " 0.014689063331604284,\n",
       " 0.008611702864224916,\n",
       " 0.0035974798077888868,\n",
       " 0.009215422806808253,\n",
       " 0.013604722840388559,\n",
       " 0.014533578233770944,\n",
       " 0.020563120910595877,\n",
       " 0.015095399872983943,\n",
       " 0.0110111384344398,\n",
       " 0.016948639774702096,\n",
       " 0.0043886197290631075,\n",
       " 0.005810085723983606,\n",
       " 0.009210382774959653,\n",
       " 0.025347326710451683,\n",
       " 0.031031861620055504,\n",
       " 0.028095115932140466,\n",
       " 0.03421693300988303,\n",
       " 0.02956349435431072,\n",
       " 0.021297125292719172,\n",
       " 0.017374218791306028,\n",
       " 0.01946036610287276,\n",
       " 0.02220087585318224,\n",
       " 0.033649060033824285,\n",
       " 0.026037394168989553,\n",
       " 0.023174341764260833,\n",
       " 0,\n",
       " 0,\n",
       " 0.013414061987835365,\n",
       " 0.0264038484667208,\n",
       " 0.0024522028998088027,\n",
       " 0.023310280023653283,\n",
       " 0.03191086221412683,\n",
       " 0.0017615520287294565,\n",
       " 0,\n",
       " 0.0034375656841247526,\n",
       " 0.006615232806956746]"
      ]
     },
     "execution_count": 20,
     "metadata": {},
     "output_type": "execute_result"
    }
   ],
   "source": [
    "cl1"
   ]
  },
  {
   "cell_type": "code",
   "execution_count": 21,
   "id": "29312633-b1de-4e42-8bc9-7a19a2c6cd92",
   "metadata": {
    "scrolled": true
   },
   "outputs": [],
   "source": [
    "cl1 = cl1/np.linalg.norm(cl1)\n",
    "cl2 = cl2/np.linalg.norm(cl2)"
   ]
  },
  {
   "cell_type": "code",
   "execution_count": 22,
   "id": "49c1172b-cec8-430a-8280-e1b81e2c43d0",
   "metadata": {},
   "outputs": [
    {
     "data": {
      "text/plain": [
       "array([0.05977251, 0.06266189, 0.05328205, 0.02357748, 0.04621602,\n",
       "       0.05034329, 0.05066648, 0.04738157, 0.05032135, 0.0723301 ,\n",
       "       0.07718433, 0.09376694, 0.02175247, 0.04096498, 0.05588332,\n",
       "       0.10871802, 0.03925823, 0.0817776 , 0.09599641, 0.11992654,\n",
       "       0.10216703, 0.05698047, 0.02393167, 0.04890023, 0.06131407,\n",
       "       0.07530674, 0.10748074, 0.09497818, 0.12004978, 0.07038114,\n",
       "       0.02940124, 0.07531519, 0.11118776, 0.11877905, 0.16805689,\n",
       "       0.12337066, 0.08999109, 0.1385167 , 0.03586701, 0.04748428,\n",
       "       0.07527399, 0.20715692, 0.2536151 , 0.22961387, 0.27964584,\n",
       "       0.24161453, 0.17405571, 0.14199484, 0.15904437, 0.18144182,\n",
       "       0.27500477, 0.21279666, 0.1893977 , 0.        , 0.        ,\n",
       "       0.10962954, 0.21579159, 0.0200412 , 0.19050868, 0.26079894,\n",
       "       0.01439669, 0.        , 0.0280943 , 0.05406453])"
      ]
     },
     "execution_count": 22,
     "metadata": {},
     "output_type": "execute_result"
    }
   ],
   "source": [
    "cl1"
   ]
  },
  {
   "cell_type": "code",
   "execution_count": 23,
   "id": "f7700dce-c155-4c98-acf5-95e0e4312bfd",
   "metadata": {
    "scrolled": true
   },
   "outputs": [
    {
     "name": "stdout",
     "output_type": "stream",
     "text": [
      "CPU times: user 335 µs, sys: 42 µs, total: 377 µs\n",
      "Wall time: 342 µs\n"
     ]
    },
    {
     "data": {
      "text/plain": [
       "0.058885010363620253"
      ]
     },
     "execution_count": 23,
     "metadata": {},
     "output_type": "execute_result"
    }
   ],
   "source": [
    "%%time\n",
    "evaluation.rmse(cl1,cl2)"
   ]
  },
  {
   "cell_type": "code",
   "execution_count": null,
   "id": "1b97c343-3ce9-4787-8fc2-879339d53ba8",
   "metadata": {
    "scrolled": true
   },
   "outputs": [],
   "source": []
  },
  {
   "cell_type": "code",
   "execution_count": null,
   "id": "0b21d2cd-4c5f-4778-ab8b-1462c75c50ff",
   "metadata": {
    "scrolled": true
   },
   "outputs": [],
   "source": []
  }
 ],
 "metadata": {
  "kernelspec": {
   "display_name": "Python [conda env:skm]",
   "language": "python",
   "name": "skm"
  },
  "language_info": {
   "codemirror_mode": {
    "name": "ipython",
    "version": 3
   },
   "file_extension": ".py",
   "mimetype": "text/x-python",
   "name": "python",
   "nbconvert_exporter": "python",
   "pygments_lexer": "ipython3",
   "version": "3.7.13"
  }
 },
 "nbformat": 4,
 "nbformat_minor": 5
}
