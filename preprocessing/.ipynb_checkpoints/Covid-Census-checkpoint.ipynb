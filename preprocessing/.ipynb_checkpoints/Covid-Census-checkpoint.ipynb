{
 "cells": [
  {
   "cell_type": "code",
   "execution_count": 10,
   "id": "above-argentina",
   "metadata": {},
   "outputs": [],
   "source": [
    "import pandas as pd"
   ]
  },
  {
   "cell_type": "markdown",
   "id": "weekly-carroll",
   "metadata": {},
   "source": [
    "# Exploration #"
   ]
  },
  {
   "cell_type": "code",
   "execution_count": 11,
   "id": "professional-touch",
   "metadata": {},
   "outputs": [],
   "source": [
    "df = pd.read_csv(\"https://raw.githubusercontent.com/GeoDS/COVID19USFlows/master/weekly_flows/ct2ct/2021_03_02/weekly_ct2ct_2021_03_02_0.csv\")"
   ]
  },
  {
   "cell_type": "code",
   "execution_count": 12,
   "id": "induced-collins",
   "metadata": {},
   "outputs": [
    {
     "data": {
      "text/html": [
       "<div>\n",
       "<style scoped>\n",
       "    .dataframe tbody tr th:only-of-type {\n",
       "        vertical-align: middle;\n",
       "    }\n",
       "\n",
       "    .dataframe tbody tr th {\n",
       "        vertical-align: top;\n",
       "    }\n",
       "\n",
       "    .dataframe thead th {\n",
       "        text-align: right;\n",
       "    }\n",
       "</style>\n",
       "<table border=\"1\" class=\"dataframe\">\n",
       "  <thead>\n",
       "    <tr style=\"text-align: right;\">\n",
       "      <th></th>\n",
       "      <th>geoid_o</th>\n",
       "      <th>geoid_d</th>\n",
       "      <th>lng_o</th>\n",
       "      <th>lat_o</th>\n",
       "      <th>lng_d</th>\n",
       "      <th>lat_d</th>\n",
       "      <th>date_range</th>\n",
       "      <th>visitor_flows</th>\n",
       "      <th>pop_flows</th>\n",
       "    </tr>\n",
       "  </thead>\n",
       "  <tbody>\n",
       "    <tr>\n",
       "      <th>0</th>\n",
       "      <td>1001020100</td>\n",
       "      <td>1001020100</td>\n",
       "      <td>-86.490076</td>\n",
       "      <td>32.477185</td>\n",
       "      <td>-86.490076</td>\n",
       "      <td>32.477185</td>\n",
       "      <td>03/02/21 - 03/08/21</td>\n",
       "      <td>14</td>\n",
       "      <td>158.0</td>\n",
       "    </tr>\n",
       "    <tr>\n",
       "      <th>1</th>\n",
       "      <td>1001020100</td>\n",
       "      <td>1001020200</td>\n",
       "      <td>-86.490076</td>\n",
       "      <td>32.477185</td>\n",
       "      <td>-86.473375</td>\n",
       "      <td>32.474248</td>\n",
       "      <td>03/02/21 - 03/08/21</td>\n",
       "      <td>44</td>\n",
       "      <td>499.0</td>\n",
       "    </tr>\n",
       "    <tr>\n",
       "      <th>2</th>\n",
       "      <td>1001020100</td>\n",
       "      <td>1001020300</td>\n",
       "      <td>-86.490076</td>\n",
       "      <td>32.477185</td>\n",
       "      <td>-86.460190</td>\n",
       "      <td>32.475428</td>\n",
       "      <td>03/02/21 - 03/08/21</td>\n",
       "      <td>174</td>\n",
       "      <td>1975.0</td>\n",
       "    </tr>\n",
       "    <tr>\n",
       "      <th>3</th>\n",
       "      <td>1001020100</td>\n",
       "      <td>1001020400</td>\n",
       "      <td>-86.490076</td>\n",
       "      <td>32.477185</td>\n",
       "      <td>-86.443624</td>\n",
       "      <td>32.472001</td>\n",
       "      <td>03/02/21 - 03/08/21</td>\n",
       "      <td>61</td>\n",
       "      <td>692.0</td>\n",
       "    </tr>\n",
       "    <tr>\n",
       "      <th>4</th>\n",
       "      <td>1001020100</td>\n",
       "      <td>1001020500</td>\n",
       "      <td>-86.490076</td>\n",
       "      <td>32.477185</td>\n",
       "      <td>-86.422661</td>\n",
       "      <td>32.458833</td>\n",
       "      <td>03/02/21 - 03/08/21</td>\n",
       "      <td>275</td>\n",
       "      <td>3122.0</td>\n",
       "    </tr>\n",
       "  </tbody>\n",
       "</table>\n",
       "</div>"
      ],
      "text/plain": [
       "      geoid_o     geoid_d      lng_o      lat_o      lng_d      lat_d  \\\n",
       "0  1001020100  1001020100 -86.490076  32.477185 -86.490076  32.477185   \n",
       "1  1001020100  1001020200 -86.490076  32.477185 -86.473375  32.474248   \n",
       "2  1001020100  1001020300 -86.490076  32.477185 -86.460190  32.475428   \n",
       "3  1001020100  1001020400 -86.490076  32.477185 -86.443624  32.472001   \n",
       "4  1001020100  1001020500 -86.490076  32.477185 -86.422661  32.458833   \n",
       "\n",
       "            date_range  visitor_flows  pop_flows  \n",
       "0  03/02/21 - 03/08/21             14      158.0  \n",
       "1  03/02/21 - 03/08/21             44      499.0  \n",
       "2  03/02/21 - 03/08/21            174     1975.0  \n",
       "3  03/02/21 - 03/08/21             61      692.0  \n",
       "4  03/02/21 - 03/08/21            275     3122.0  "
      ]
     },
     "execution_count": 12,
     "metadata": {},
     "output_type": "execute_result"
    }
   ],
   "source": [
    "df.head()"
   ]
  },
  {
   "cell_type": "code",
   "execution_count": 13,
   "id": "traditional-daily",
   "metadata": {},
   "outputs": [
    {
     "data": {
      "text/plain": [
       "geoid_o            int64\n",
       "geoid_d            int64\n",
       "lng_o            float64\n",
       "lat_o            float64\n",
       "lng_d            float64\n",
       "lat_d            float64\n",
       "date_range        object\n",
       "visitor_flows      int64\n",
       "pop_flows        float64\n",
       "dtype: object"
      ]
     },
     "execution_count": 13,
     "metadata": {},
     "output_type": "execute_result"
    }
   ],
   "source": [
    "df.dtypes"
   ]
  },
  {
   "cell_type": "code",
   "execution_count": 23,
   "id": "lasting-injury",
   "metadata": {},
   "outputs": [],
   "source": [
    "df_nyc = df[ (df['geoid_d'].astype(str).str.startswith('36061')) | (df['geoid_o'].astype(str).str.startswith('36061') ) ]"
   ]
  },
  {
   "cell_type": "code",
   "execution_count": 24,
   "id": "prime-bottom",
   "metadata": {},
   "outputs": [
    {
     "data": {
      "text/html": [
       "<div>\n",
       "<style scoped>\n",
       "    .dataframe tbody tr th:only-of-type {\n",
       "        vertical-align: middle;\n",
       "    }\n",
       "\n",
       "    .dataframe tbody tr th {\n",
       "        vertical-align: top;\n",
       "    }\n",
       "\n",
       "    .dataframe thead th {\n",
       "        text-align: right;\n",
       "    }\n",
       "</style>\n",
       "<table border=\"1\" class=\"dataframe\">\n",
       "  <thead>\n",
       "    <tr style=\"text-align: right;\">\n",
       "      <th></th>\n",
       "      <th>geoid_o</th>\n",
       "      <th>geoid_d</th>\n",
       "      <th>lng_o</th>\n",
       "      <th>lat_o</th>\n",
       "      <th>lng_d</th>\n",
       "      <th>lat_d</th>\n",
       "      <th>date_range</th>\n",
       "      <th>visitor_flows</th>\n",
       "      <th>pop_flows</th>\n",
       "    </tr>\n",
       "  </thead>\n",
       "  <tbody>\n",
       "    <tr>\n",
       "      <th>7329</th>\n",
       "      <td>1081040700</td>\n",
       "      <td>36061004500</td>\n",
       "      <td>-85.495071</td>\n",
       "      <td>32.595459</td>\n",
       "      <td>-73.999391</td>\n",
       "      <td>40.720570</td>\n",
       "      <td>03/02/21 - 03/08/21</td>\n",
       "      <td>4</td>\n",
       "      <td>24.0</td>\n",
       "    </tr>\n",
       "    <tr>\n",
       "      <th>7330</th>\n",
       "      <td>1081040700</td>\n",
       "      <td>36061004700</td>\n",
       "      <td>-85.495071</td>\n",
       "      <td>32.595459</td>\n",
       "      <td>-74.002863</td>\n",
       "      <td>40.722419</td>\n",
       "      <td>03/02/21 - 03/08/21</td>\n",
       "      <td>4</td>\n",
       "      <td>24.0</td>\n",
       "    </tr>\n",
       "    <tr>\n",
       "      <th>7331</th>\n",
       "      <td>1081040700</td>\n",
       "      <td>36061010000</td>\n",
       "      <td>-85.495071</td>\n",
       "      <td>32.595459</td>\n",
       "      <td>-73.971232</td>\n",
       "      <td>40.758065</td>\n",
       "      <td>03/02/21 - 03/08/21</td>\n",
       "      <td>4</td>\n",
       "      <td>24.0</td>\n",
       "    </tr>\n",
       "    <tr>\n",
       "      <th>7332</th>\n",
       "      <td>1081040700</td>\n",
       "      <td>36061013700</td>\n",
       "      <td>-85.495071</td>\n",
       "      <td>32.595459</td>\n",
       "      <td>-73.980234</td>\n",
       "      <td>40.765207</td>\n",
       "      <td>03/02/21 - 03/08/21</td>\n",
       "      <td>4</td>\n",
       "      <td>24.0</td>\n",
       "    </tr>\n",
       "    <tr>\n",
       "      <th>7823</th>\n",
       "      <td>1081040902</td>\n",
       "      <td>36061010900</td>\n",
       "      <td>-85.467959</td>\n",
       "      <td>32.620428</td>\n",
       "      <td>-73.989703</td>\n",
       "      <td>40.752250</td>\n",
       "      <td>03/02/21 - 03/08/21</td>\n",
       "      <td>4</td>\n",
       "      <td>37.0</td>\n",
       "    </tr>\n",
       "  </tbody>\n",
       "</table>\n",
       "</div>"
      ],
      "text/plain": [
       "         geoid_o      geoid_d      lng_o      lat_o      lng_d      lat_d  \\\n",
       "7329  1081040700  36061004500 -85.495071  32.595459 -73.999391  40.720570   \n",
       "7330  1081040700  36061004700 -85.495071  32.595459 -74.002863  40.722419   \n",
       "7331  1081040700  36061010000 -85.495071  32.595459 -73.971232  40.758065   \n",
       "7332  1081040700  36061013700 -85.495071  32.595459 -73.980234  40.765207   \n",
       "7823  1081040902  36061010900 -85.467959  32.620428 -73.989703  40.752250   \n",
       "\n",
       "               date_range  visitor_flows  pop_flows  \n",
       "7329  03/02/21 - 03/08/21              4       24.0  \n",
       "7330  03/02/21 - 03/08/21              4       24.0  \n",
       "7331  03/02/21 - 03/08/21              4       24.0  \n",
       "7332  03/02/21 - 03/08/21              4       24.0  \n",
       "7823  03/02/21 - 03/08/21              4       37.0  "
      ]
     },
     "execution_count": 24,
     "metadata": {},
     "output_type": "execute_result"
    }
   ],
   "source": [
    "df_nyc.head()"
   ]
  },
  {
   "cell_type": "code",
   "execution_count": 25,
   "id": "editorial-transformation",
   "metadata": {},
   "outputs": [
    {
     "data": {
      "text/plain": [
       "1152"
      ]
     },
     "execution_count": 25,
     "metadata": {},
     "output_type": "execute_result"
    }
   ],
   "source": [
    "df_nyc.size"
   ]
  },
  {
   "cell_type": "markdown",
   "id": "suited-apollo",
   "metadata": {},
   "source": [
    "# Bulk loading #"
   ]
  },
  {
   "cell_type": "code",
   "execution_count": 4,
   "id": "appointed-highland",
   "metadata": {},
   "outputs": [],
   "source": [
    "def wkt_loads(x):\n",
    "    try:\n",
    "        return wkt.loads(x)\n",
    "    except Exception:\n",
    "        return None"
   ]
  },
  {
   "cell_type": "code",
   "execution_count": 67,
   "id": "introductory-necessity",
   "metadata": {},
   "outputs": [],
   "source": [
    "#REQUIRE a geodataframe with a column named 'geometry_source' and another named 'geometry_target'\n",
    "#                   and with an unique row-identifier column named 'id'\n",
    "#REQUIRE a tesselletion in OpenStreetMap format\n",
    "\n",
    "def flow_from_flow_in_tess(df_flow_city, tess_city):\n",
    "    gdf_1 = gpd.GeoDataFrame(df_flow_city, crs=\"EPSG:4326\", geometry=df_flow_city['geometry_source']).drop(['geometry_target', 'geometry_source'],axis =1)\n",
    "    \n",
    "    res_merge_source = gpd.sjoin(tess_city, gdf_1, how='right', op='contains')\n",
    "    res_merge_source.dropna(inplace=True)\n",
    "    res_merge_source.reset_index(drop=True, inplace=True)\n",
    "    \n",
    "    print(\"res_merge_source\")\n",
    "    print(res_merge_source.head())\n",
    "    \n",
    "    gdf_2 = gpd.GeoDataFrame(df_flow_city, crs=\"EPSG:4326\", geometry=df_flow_city['geometry_target']).drop(['geometry_target', 'geometry_source'],axis =1)\n",
    "\n",
    "    print(gdf_2.head())\n",
    "    \n",
    "    res_merge_dest = gpd.sjoin(tess_city, gdf_2, how='right', op='contains')\n",
    "    res_merge_dest.dropna(inplace=True)\n",
    "    res_merge_dest.reset_index(drop=True,inplace=True)\n",
    "    \n",
    "    print(\"res_merge_dest\")\n",
    "    print(res_merge_dest.head())\n",
    "    \n",
    "    fdf = res_merge_dest.merge(res_merge_source, how='inner', on=['id'])\n",
    "    fdf = fdf[['tile_ID_x','tile_ID_y','pop_flows']]\n",
    "    \n",
    "    print(\"fdf\")\n",
    "    print(fdf.head())\n",
    "    \n",
    "    flusso = fdf.groupby([\"tile_ID_x\", \"tile_ID_y\"]).size().reset_index(name=\"flow\") #here must be a sum of the flows, not a size()\n",
    "    flusso = flusso.rename(columns={'tile_ID_x': 'origin', 'tile_ID_y':'destination'})\n",
    "    \n",
    "    print(flusso.head())\n",
    "    \n",
    "    fdf_flow_city = skmob.FlowDataFrame(data = flusso,tessellation=tess_city, tile_id='tile_ID', origin ='origin', \n",
    "                              destination = 'destination', flow = 'flow')\n",
    "    \n",
    "    return fdf_flow_city\n",
    "    "
   ]
  },
  {
   "cell_type": "code",
   "execution_count": 37,
   "id": "wrapped-switch",
   "metadata": {},
   "outputs": [],
   "source": [
    "def to_Adj_Matrix(df):\n",
    "    df_np = df.to_numpy().astype(int)\n",
    "    n = max(max(origin, destination) for origin, destination, flow in df_np )\n",
    "    \n",
    "    matrix = np.zeros((n+1, n+1))\n",
    "    for origin, destination, flow in df_np:\n",
    "        matrix[origin][destination] = flow \n",
    "    return matrix"
   ]
  },
  {
   "cell_type": "code",
   "execution_count": 38,
   "id": "pursuant-batman",
   "metadata": {},
   "outputs": [],
   "source": [
    "def pad_with_zeros(A, r, c):\n",
    "   out = np.zeros((r, c))\n",
    "   r_, c_ = np.shape(A)\n",
    "   out[0:r_, 0:c_] = A\n",
    "   return out"
   ]
  },
  {
   "cell_type": "code",
   "execution_count": 5,
   "id": "hawaiian-hawaii",
   "metadata": {},
   "outputs": [
    {
     "name": "stdout",
     "output_type": "stream",
     "text": [
      "\r\n",
      "real\t0m40,488s\r\n",
      "user\t0m15,767s\r\n",
      "sys\t0m2,295s\r\n"
     ]
    }
   ],
   "source": [
    "! time python ./codes/download_weekly_data.py --start_year 2021 --start_month 2 --start_day 1  --end_day 8   --output_folder ./data/weekly_flows   --ct "
   ]
  },
  {
   "cell_type": "code",
   "execution_count": 8,
   "id": "multiple-cattle",
   "metadata": {},
   "outputs": [],
   "source": [
    "! python ./codes/merge_files.py -i ./data/weekly_flows/ct2ct/2021_02_01  -o ./data/weekly_flows/ct2ct/2021_02_01.csv"
   ]
  },
  {
   "cell_type": "code",
   "execution_count": 12,
   "id": "crude-lodging",
   "metadata": {},
   "outputs": [],
   "source": [
    "df_usa = pd.read_csv(\"./data/weekly_flows/ct2ct/2021_02_01.csv\")"
   ]
  },
  {
   "cell_type": "code",
   "execution_count": 13,
   "id": "needed-giant",
   "metadata": {},
   "outputs": [
    {
     "data": {
      "text/html": [
       "<div>\n",
       "<style scoped>\n",
       "    .dataframe tbody tr th:only-of-type {\n",
       "        vertical-align: middle;\n",
       "    }\n",
       "\n",
       "    .dataframe tbody tr th {\n",
       "        vertical-align: top;\n",
       "    }\n",
       "\n",
       "    .dataframe thead th {\n",
       "        text-align: right;\n",
       "    }\n",
       "</style>\n",
       "<table border=\"1\" class=\"dataframe\">\n",
       "  <thead>\n",
       "    <tr style=\"text-align: right;\">\n",
       "      <th></th>\n",
       "      <th>geoid_o</th>\n",
       "      <th>geoid_d</th>\n",
       "      <th>lng_o</th>\n",
       "      <th>lat_o</th>\n",
       "      <th>lng_d</th>\n",
       "      <th>lat_d</th>\n",
       "      <th>date_range</th>\n",
       "      <th>visitor_flows</th>\n",
       "      <th>pop_flows</th>\n",
       "    </tr>\n",
       "  </thead>\n",
       "  <tbody>\n",
       "    <tr>\n",
       "      <th>0</th>\n",
       "      <td>47037013202</td>\n",
       "      <td>48037010800</td>\n",
       "      <td>-86.871483</td>\n",
       "      <td>36.158244</td>\n",
       "      <td>-94.086227</td>\n",
       "      <td>33.436190</td>\n",
       "      <td>02/01/21 - 02/07/21</td>\n",
       "      <td>4</td>\n",
       "      <td>135.0</td>\n",
       "    </tr>\n",
       "    <tr>\n",
       "      <th>1</th>\n",
       "      <td>47037013202</td>\n",
       "      <td>47037018201</td>\n",
       "      <td>-86.871483</td>\n",
       "      <td>36.158244</td>\n",
       "      <td>-86.891380</td>\n",
       "      <td>36.115338</td>\n",
       "      <td>02/01/21 - 02/07/21</td>\n",
       "      <td>155</td>\n",
       "      <td>5261.0</td>\n",
       "    </tr>\n",
       "    <tr>\n",
       "      <th>2</th>\n",
       "      <td>47037013202</td>\n",
       "      <td>47187050504</td>\n",
       "      <td>-86.871483</td>\n",
       "      <td>36.158244</td>\n",
       "      <td>-87.124490</td>\n",
       "      <td>35.956061</td>\n",
       "      <td>02/01/21 - 02/07/21</td>\n",
       "      <td>4</td>\n",
       "      <td>135.0</td>\n",
       "    </tr>\n",
       "    <tr>\n",
       "      <th>3</th>\n",
       "      <td>47037013202</td>\n",
       "      <td>47037018404</td>\n",
       "      <td>-86.871483</td>\n",
       "      <td>36.158244</td>\n",
       "      <td>-86.894913</td>\n",
       "      <td>36.067961</td>\n",
       "      <td>02/01/21 - 02/07/21</td>\n",
       "      <td>4</td>\n",
       "      <td>135.0</td>\n",
       "    </tr>\n",
       "    <tr>\n",
       "      <th>4</th>\n",
       "      <td>47037013202</td>\n",
       "      <td>47037016700</td>\n",
       "      <td>-86.871483</td>\n",
       "      <td>36.158244</td>\n",
       "      <td>-86.830043</td>\n",
       "      <td>36.132917</td>\n",
       "      <td>02/01/21 - 02/07/21</td>\n",
       "      <td>8</td>\n",
       "      <td>271.0</td>\n",
       "    </tr>\n",
       "  </tbody>\n",
       "</table>\n",
       "</div>"
      ],
      "text/plain": [
       "       geoid_o      geoid_d      lng_o      lat_o      lng_d      lat_d  \\\n",
       "0  47037013202  48037010800 -86.871483  36.158244 -94.086227  33.436190   \n",
       "1  47037013202  47037018201 -86.871483  36.158244 -86.891380  36.115338   \n",
       "2  47037013202  47187050504 -86.871483  36.158244 -87.124490  35.956061   \n",
       "3  47037013202  47037018404 -86.871483  36.158244 -86.894913  36.067961   \n",
       "4  47037013202  47037016700 -86.871483  36.158244 -86.830043  36.132917   \n",
       "\n",
       "            date_range  visitor_flows  pop_flows  \n",
       "0  02/01/21 - 02/07/21              4      135.0  \n",
       "1  02/01/21 - 02/07/21            155     5261.0  \n",
       "2  02/01/21 - 02/07/21              4      135.0  \n",
       "3  02/01/21 - 02/07/21              4      135.0  \n",
       "4  02/01/21 - 02/07/21              8      271.0  "
      ]
     },
     "execution_count": 13,
     "metadata": {},
     "output_type": "execute_result"
    }
   ],
   "source": [
    "df_usa.head()"
   ]
  },
  {
   "cell_type": "code",
   "execution_count": 14,
   "id": "controversial-investigation",
   "metadata": {},
   "outputs": [
    {
     "data": {
      "text/plain": [
       "59051808"
      ]
     },
     "execution_count": 14,
     "metadata": {},
     "output_type": "execute_result"
    }
   ],
   "source": [
    "df_usa.size"
   ]
  },
  {
   "cell_type": "markdown",
   "id": "another-circle",
   "metadata": {},
   "source": [
    "# NYC #"
   ]
  },
  {
   "cell_type": "code",
   "execution_count": 55,
   "id": "other-huntington",
   "metadata": {},
   "outputs": [],
   "source": [
    "df_nyc = df_usa[ (df_usa['geoid_d'].astype(str).str.startswith('36061')) | (df_usa['geoid_o'].astype(str).str.startswith('36061') ) ]"
   ]
  },
  {
   "cell_type": "code",
   "execution_count": 56,
   "id": "every-daniel",
   "metadata": {},
   "outputs": [
    {
     "data": {
      "text/html": [
       "<div>\n",
       "<style scoped>\n",
       "    .dataframe tbody tr th:only-of-type {\n",
       "        vertical-align: middle;\n",
       "    }\n",
       "\n",
       "    .dataframe tbody tr th {\n",
       "        vertical-align: top;\n",
       "    }\n",
       "\n",
       "    .dataframe thead th {\n",
       "        text-align: right;\n",
       "    }\n",
       "</style>\n",
       "<table border=\"1\" class=\"dataframe\">\n",
       "  <thead>\n",
       "    <tr style=\"text-align: right;\">\n",
       "      <th></th>\n",
       "      <th>geoid_o</th>\n",
       "      <th>geoid_d</th>\n",
       "      <th>lng_o</th>\n",
       "      <th>lat_o</th>\n",
       "      <th>lng_d</th>\n",
       "      <th>lat_d</th>\n",
       "      <th>date_range</th>\n",
       "      <th>visitor_flows</th>\n",
       "      <th>pop_flows</th>\n",
       "    </tr>\n",
       "  </thead>\n",
       "  <tbody>\n",
       "    <tr>\n",
       "      <th>3216</th>\n",
       "      <td>47037018202</td>\n",
       "      <td>36061016800</td>\n",
       "      <td>-86.908717</td>\n",
       "      <td>36.097312</td>\n",
       "      <td>-73.951356</td>\n",
       "      <td>40.791075</td>\n",
       "      <td>02/01/21 - 02/07/21</td>\n",
       "      <td>4</td>\n",
       "      <td>132.0</td>\n",
       "    </tr>\n",
       "    <tr>\n",
       "      <th>3256</th>\n",
       "      <td>47037018202</td>\n",
       "      <td>36061005400</td>\n",
       "      <td>-86.908717</td>\n",
       "      <td>36.097312</td>\n",
       "      <td>-73.993678</td>\n",
       "      <td>40.738811</td>\n",
       "      <td>02/01/21 - 02/07/21</td>\n",
       "      <td>4</td>\n",
       "      <td>132.0</td>\n",
       "    </tr>\n",
       "    <tr>\n",
       "      <th>3259</th>\n",
       "      <td>47037018202</td>\n",
       "      <td>36061004200</td>\n",
       "      <td>-86.908717</td>\n",
       "      <td>36.097312</td>\n",
       "      <td>-73.989368</td>\n",
       "      <td>40.731804</td>\n",
       "      <td>02/01/21 - 02/07/21</td>\n",
       "      <td>5</td>\n",
       "      <td>166.0</td>\n",
       "    </tr>\n",
       "    <tr>\n",
       "      <th>15601</th>\n",
       "      <td>47187050205</td>\n",
       "      <td>36061003602</td>\n",
       "      <td>-86.790009</td>\n",
       "      <td>35.979455</td>\n",
       "      <td>-73.990206</td>\n",
       "      <td>40.724563</td>\n",
       "      <td>02/01/21 - 02/07/21</td>\n",
       "      <td>4</td>\n",
       "      <td>59.0</td>\n",
       "    </tr>\n",
       "    <tr>\n",
       "      <th>17251</th>\n",
       "      <td>48029120300</td>\n",
       "      <td>36061015700</td>\n",
       "      <td>-98.468103</td>\n",
       "      <td>29.482765</td>\n",
       "      <td>-73.978790</td>\n",
       "      <td>40.777417</td>\n",
       "      <td>02/01/21 - 02/07/21</td>\n",
       "      <td>4</td>\n",
       "      <td>129.0</td>\n",
       "    </tr>\n",
       "  </tbody>\n",
       "</table>\n",
       "</div>"
      ],
      "text/plain": [
       "           geoid_o      geoid_d      lng_o      lat_o      lng_d      lat_d  \\\n",
       "3216   47037018202  36061016800 -86.908717  36.097312 -73.951356  40.791075   \n",
       "3256   47037018202  36061005400 -86.908717  36.097312 -73.993678  40.738811   \n",
       "3259   47037018202  36061004200 -86.908717  36.097312 -73.989368  40.731804   \n",
       "15601  47187050205  36061003602 -86.790009  35.979455 -73.990206  40.724563   \n",
       "17251  48029120300  36061015700 -98.468103  29.482765 -73.978790  40.777417   \n",
       "\n",
       "                date_range  visitor_flows  pop_flows  \n",
       "3216   02/01/21 - 02/07/21              4      132.0  \n",
       "3256   02/01/21 - 02/07/21              4      132.0  \n",
       "3259   02/01/21 - 02/07/21              5      166.0  \n",
       "15601  02/01/21 - 02/07/21              4       59.0  \n",
       "17251  02/01/21 - 02/07/21              4      129.0  "
      ]
     },
     "execution_count": 56,
     "metadata": {},
     "output_type": "execute_result"
    }
   ],
   "source": [
    "df_nyc.head()"
   ]
  },
  {
   "cell_type": "code",
   "execution_count": 57,
   "id": "juvenile-variation",
   "metadata": {},
   "outputs": [],
   "source": [
    "from shapely.geometry import Point, Polygon\n",
    "from shapely import wkt\n",
    "import skmob\n",
    "from skmob.preprocessing import filtering, detection\n",
    "from skmob.utils.plot import plot_gdf\n",
    "from skmob.tessellation import tilers\n",
    "import pandas as pd\n",
    "import geopandas as gpd\n",
    "import webbrowser\n",
    "import numpy as np\n",
    "import networkx as nx\n",
    "\n",
    "pd.set_option('display.max_columns', 500)"
   ]
  },
  {
   "cell_type": "code",
   "execution_count": 58,
   "id": "green-helmet",
   "metadata": {},
   "outputs": [],
   "source": [
    "meters = 500"
   ]
  },
  {
   "cell_type": "code",
   "execution_count": 59,
   "id": "textile-clinic",
   "metadata": {},
   "outputs": [],
   "source": [
    "def wkt_loads(x):\n",
    "    try:\n",
    "        return wkt.loads(x)\n",
    "    except Exception:\n",
    "        return None"
   ]
  },
  {
   "cell_type": "code",
   "execution_count": 60,
   "id": "bronze-sheep",
   "metadata": {},
   "outputs": [
    {
     "name": "stderr",
     "output_type": "stream",
     "text": [
      "/home/giovanni/anaconda3/envs/skmob/lib/python3.7/site-packages/pyproj/crs/crs.py:53: FutureWarning: '+init=<authority>:<code>' syntax is deprecated. '<authority>:<code>' is the preferred initialization method. When making the change, be mindful of axis order changes: https://pyproj4.github.io/pyproj/stable/gotchas.html#axis-order-changes-in-proj-6\n",
      "  return _prepare_from_string(\" \".join(pjargs))\n"
     ]
    }
   ],
   "source": [
    "tess_nyc = tilers.tiler.get(\"squared\", meters=meters, base_shape=\"New York City, New York\")"
   ]
  },
  {
   "cell_type": "code",
   "execution_count": 61,
   "id": "aware-combining",
   "metadata": {},
   "outputs": [
    {
     "name": "stderr",
     "output_type": "stream",
     "text": [
      "/home/giovanni/anaconda3/envs/skmob/lib/python3.7/site-packages/ipykernel_launcher.py:1: SettingWithCopyWarning: \n",
      "A value is trying to be set on a copy of a slice from a DataFrame.\n",
      "Try using .loc[row_indexer,col_indexer] = value instead\n",
      "\n",
      "See the caveats in the documentation: https://pandas.pydata.org/pandas-docs/stable/user_guide/indexing.html#returning-a-view-versus-a-copy\n",
      "  \"\"\"Entry point for launching an IPython kernel.\n"
     ]
    }
   ],
   "source": [
    "df_nyc['id'] = df_nyc.apply(lambda x: hash(tuple(x)), axis = 1)"
   ]
  },
  {
   "cell_type": "code",
   "execution_count": 62,
   "id": "educational-medium",
   "metadata": {},
   "outputs": [
    {
     "name": "stderr",
     "output_type": "stream",
     "text": [
      "/home/giovanni/anaconda3/envs/skmob/lib/python3.7/site-packages/ipykernel_launcher.py:1: SettingWithCopyWarning: \n",
      "A value is trying to be set on a copy of a slice from a DataFrame.\n",
      "Try using .loc[row_indexer,col_indexer] = value instead\n",
      "\n",
      "See the caveats in the documentation: https://pandas.pydata.org/pandas-docs/stable/user_guide/indexing.html#returning-a-view-versus-a-copy\n",
      "  \"\"\"Entry point for launching an IPython kernel.\n",
      "/home/giovanni/anaconda3/envs/skmob/lib/python3.7/site-packages/ipykernel_launcher.py:2: SettingWithCopyWarning: \n",
      "A value is trying to be set on a copy of a slice from a DataFrame.\n",
      "Try using .loc[row_indexer,col_indexer] = value instead\n",
      "\n",
      "See the caveats in the documentation: https://pandas.pydata.org/pandas-docs/stable/user_guide/indexing.html#returning-a-view-versus-a-copy\n",
      "  \n"
     ]
    }
   ],
   "source": [
    "df_nyc['geometry_source'] = [Point(xy) for xy in zip(df_nyc['lng_o'],df_nyc['lat_o'])]\n",
    "df_nyc['geometry_target'] = [Point(xy) for xy in zip(df_nyc['lng_d'],df_nyc['lng_d'])]\n"
   ]
  },
  {
   "cell_type": "code",
   "execution_count": 63,
   "id": "threaded-alliance",
   "metadata": {
    "scrolled": true
   },
   "outputs": [
    {
     "data": {
      "text/html": [
       "<div>\n",
       "<style scoped>\n",
       "    .dataframe tbody tr th:only-of-type {\n",
       "        vertical-align: middle;\n",
       "    }\n",
       "\n",
       "    .dataframe tbody tr th {\n",
       "        vertical-align: top;\n",
       "    }\n",
       "\n",
       "    .dataframe thead th {\n",
       "        text-align: right;\n",
       "    }\n",
       "</style>\n",
       "<table border=\"1\" class=\"dataframe\">\n",
       "  <thead>\n",
       "    <tr style=\"text-align: right;\">\n",
       "      <th></th>\n",
       "      <th>geoid_o</th>\n",
       "      <th>geoid_d</th>\n",
       "      <th>lng_o</th>\n",
       "      <th>lat_o</th>\n",
       "      <th>lng_d</th>\n",
       "      <th>lat_d</th>\n",
       "      <th>date_range</th>\n",
       "      <th>visitor_flows</th>\n",
       "      <th>pop_flows</th>\n",
       "      <th>id</th>\n",
       "      <th>geometry_source</th>\n",
       "      <th>geometry_target</th>\n",
       "    </tr>\n",
       "  </thead>\n",
       "  <tbody>\n",
       "    <tr>\n",
       "      <th>3216</th>\n",
       "      <td>47037018202</td>\n",
       "      <td>36061016800</td>\n",
       "      <td>-86.908717</td>\n",
       "      <td>36.097312</td>\n",
       "      <td>-73.951356</td>\n",
       "      <td>40.791075</td>\n",
       "      <td>02/01/21 - 02/07/21</td>\n",
       "      <td>4</td>\n",
       "      <td>132.0</td>\n",
       "      <td>-1607646969126518966</td>\n",
       "      <td>POINT (-86.9087169186826 36.09731209870731)</td>\n",
       "      <td>POINT (-73.95135646269084 -73.95135646269084)</td>\n",
       "    </tr>\n",
       "    <tr>\n",
       "      <th>3256</th>\n",
       "      <td>47037018202</td>\n",
       "      <td>36061005400</td>\n",
       "      <td>-86.908717</td>\n",
       "      <td>36.097312</td>\n",
       "      <td>-73.993678</td>\n",
       "      <td>40.738811</td>\n",
       "      <td>02/01/21 - 02/07/21</td>\n",
       "      <td>4</td>\n",
       "      <td>132.0</td>\n",
       "      <td>3497117396067990770</td>\n",
       "      <td>POINT (-86.9087169186826 36.09731209870731)</td>\n",
       "      <td>POINT (-73.99367796293151 -73.99367796293151)</td>\n",
       "    </tr>\n",
       "    <tr>\n",
       "      <th>3259</th>\n",
       "      <td>47037018202</td>\n",
       "      <td>36061004200</td>\n",
       "      <td>-86.908717</td>\n",
       "      <td>36.097312</td>\n",
       "      <td>-73.989368</td>\n",
       "      <td>40.731804</td>\n",
       "      <td>02/01/21 - 02/07/21</td>\n",
       "      <td>5</td>\n",
       "      <td>166.0</td>\n",
       "      <td>-7961954825251323971</td>\n",
       "      <td>POINT (-86.9087169186826 36.09731209870731)</td>\n",
       "      <td>POINT (-73.9893678975231 -73.9893678975231)</td>\n",
       "    </tr>\n",
       "    <tr>\n",
       "      <th>15601</th>\n",
       "      <td>47187050205</td>\n",
       "      <td>36061003602</td>\n",
       "      <td>-86.790009</td>\n",
       "      <td>35.979455</td>\n",
       "      <td>-73.990206</td>\n",
       "      <td>40.724563</td>\n",
       "      <td>02/01/21 - 02/07/21</td>\n",
       "      <td>4</td>\n",
       "      <td>59.0</td>\n",
       "      <td>-2848496139881918701</td>\n",
       "      <td>POINT (-86.79000928681228 35.97945482741908)</td>\n",
       "      <td>POINT (-73.99020604515358 -73.99020604515358)</td>\n",
       "    </tr>\n",
       "    <tr>\n",
       "      <th>17251</th>\n",
       "      <td>48029120300</td>\n",
       "      <td>36061015700</td>\n",
       "      <td>-98.468103</td>\n",
       "      <td>29.482765</td>\n",
       "      <td>-73.978790</td>\n",
       "      <td>40.777417</td>\n",
       "      <td>02/01/21 - 02/07/21</td>\n",
       "      <td>4</td>\n",
       "      <td>129.0</td>\n",
       "      <td>-9046666092771569968</td>\n",
       "      <td>POINT (-98.46810287858943 29.48276460871485)</td>\n",
       "      <td>POINT (-73.9787896122246 -73.9787896122246)</td>\n",
       "    </tr>\n",
       "  </tbody>\n",
       "</table>\n",
       "</div>"
      ],
      "text/plain": [
       "           geoid_o      geoid_d      lng_o      lat_o      lng_d      lat_d  \\\n",
       "3216   47037018202  36061016800 -86.908717  36.097312 -73.951356  40.791075   \n",
       "3256   47037018202  36061005400 -86.908717  36.097312 -73.993678  40.738811   \n",
       "3259   47037018202  36061004200 -86.908717  36.097312 -73.989368  40.731804   \n",
       "15601  47187050205  36061003602 -86.790009  35.979455 -73.990206  40.724563   \n",
       "17251  48029120300  36061015700 -98.468103  29.482765 -73.978790  40.777417   \n",
       "\n",
       "                date_range  visitor_flows  pop_flows                   id  \\\n",
       "3216   02/01/21 - 02/07/21              4      132.0 -1607646969126518966   \n",
       "3256   02/01/21 - 02/07/21              4      132.0  3497117396067990770   \n",
       "3259   02/01/21 - 02/07/21              5      166.0 -7961954825251323971   \n",
       "15601  02/01/21 - 02/07/21              4       59.0 -2848496139881918701   \n",
       "17251  02/01/21 - 02/07/21              4      129.0 -9046666092771569968   \n",
       "\n",
       "                                    geometry_source  \\\n",
       "3216    POINT (-86.9087169186826 36.09731209870731)   \n",
       "3256    POINT (-86.9087169186826 36.09731209870731)   \n",
       "3259    POINT (-86.9087169186826 36.09731209870731)   \n",
       "15601  POINT (-86.79000928681228 35.97945482741908)   \n",
       "17251  POINT (-98.46810287858943 29.48276460871485)   \n",
       "\n",
       "                                     geometry_target  \n",
       "3216   POINT (-73.95135646269084 -73.95135646269084)  \n",
       "3256   POINT (-73.99367796293151 -73.99367796293151)  \n",
       "3259     POINT (-73.9893678975231 -73.9893678975231)  \n",
       "15601  POINT (-73.99020604515358 -73.99020604515358)  \n",
       "17251    POINT (-73.9787896122246 -73.9787896122246)  "
      ]
     },
     "execution_count": 63,
     "metadata": {},
     "output_type": "execute_result"
    }
   ],
   "source": [
    "df_nyc.head()"
   ]
  },
  {
   "cell_type": "code",
   "execution_count": 64,
   "id": "built-convention",
   "metadata": {},
   "outputs": [
    {
     "data": {
      "text/html": [
       "<div>\n",
       "<style scoped>\n",
       "    .dataframe tbody tr th:only-of-type {\n",
       "        vertical-align: middle;\n",
       "    }\n",
       "\n",
       "    .dataframe tbody tr th {\n",
       "        vertical-align: top;\n",
       "    }\n",
       "\n",
       "    .dataframe thead th {\n",
       "        text-align: right;\n",
       "    }\n",
       "</style>\n",
       "<table border=\"1\" class=\"dataframe\">\n",
       "  <thead>\n",
       "    <tr style=\"text-align: right;\">\n",
       "      <th></th>\n",
       "      <th>id</th>\n",
       "      <th>geoid_o</th>\n",
       "      <th>geoid_d</th>\n",
       "      <th>pop_flows</th>\n",
       "      <th>geometry_source</th>\n",
       "      <th>geometry_target</th>\n",
       "    </tr>\n",
       "  </thead>\n",
       "  <tbody>\n",
       "    <tr>\n",
       "      <th>3216</th>\n",
       "      <td>-1607646969126518966</td>\n",
       "      <td>47037018202</td>\n",
       "      <td>36061016800</td>\n",
       "      <td>132.0</td>\n",
       "      <td>POINT (-86.9087169186826 36.09731209870731)</td>\n",
       "      <td>POINT (-73.95135646269084 -73.95135646269084)</td>\n",
       "    </tr>\n",
       "    <tr>\n",
       "      <th>3256</th>\n",
       "      <td>3497117396067990770</td>\n",
       "      <td>47037018202</td>\n",
       "      <td>36061005400</td>\n",
       "      <td>132.0</td>\n",
       "      <td>POINT (-86.9087169186826 36.09731209870731)</td>\n",
       "      <td>POINT (-73.99367796293151 -73.99367796293151)</td>\n",
       "    </tr>\n",
       "    <tr>\n",
       "      <th>3259</th>\n",
       "      <td>-7961954825251323971</td>\n",
       "      <td>47037018202</td>\n",
       "      <td>36061004200</td>\n",
       "      <td>166.0</td>\n",
       "      <td>POINT (-86.9087169186826 36.09731209870731)</td>\n",
       "      <td>POINT (-73.9893678975231 -73.9893678975231)</td>\n",
       "    </tr>\n",
       "    <tr>\n",
       "      <th>15601</th>\n",
       "      <td>-2848496139881918701</td>\n",
       "      <td>47187050205</td>\n",
       "      <td>36061003602</td>\n",
       "      <td>59.0</td>\n",
       "      <td>POINT (-86.79000928681228 35.97945482741908)</td>\n",
       "      <td>POINT (-73.99020604515358 -73.99020604515358)</td>\n",
       "    </tr>\n",
       "    <tr>\n",
       "      <th>17251</th>\n",
       "      <td>-9046666092771569968</td>\n",
       "      <td>48029120300</td>\n",
       "      <td>36061015700</td>\n",
       "      <td>129.0</td>\n",
       "      <td>POINT (-98.46810287858943 29.48276460871485)</td>\n",
       "      <td>POINT (-73.9787896122246 -73.9787896122246)</td>\n",
       "    </tr>\n",
       "  </tbody>\n",
       "</table>\n",
       "</div>"
      ],
      "text/plain": [
       "                        id      geoid_o      geoid_d  pop_flows  \\\n",
       "3216  -1607646969126518966  47037018202  36061016800      132.0   \n",
       "3256   3497117396067990770  47037018202  36061005400      132.0   \n",
       "3259  -7961954825251323971  47037018202  36061004200      166.0   \n",
       "15601 -2848496139881918701  47187050205  36061003602       59.0   \n",
       "17251 -9046666092771569968  48029120300  36061015700      129.0   \n",
       "\n",
       "                                    geometry_source  \\\n",
       "3216    POINT (-86.9087169186826 36.09731209870731)   \n",
       "3256    POINT (-86.9087169186826 36.09731209870731)   \n",
       "3259    POINT (-86.9087169186826 36.09731209870731)   \n",
       "15601  POINT (-86.79000928681228 35.97945482741908)   \n",
       "17251  POINT (-98.46810287858943 29.48276460871485)   \n",
       "\n",
       "                                     geometry_target  \n",
       "3216   POINT (-73.95135646269084 -73.95135646269084)  \n",
       "3256   POINT (-73.99367796293151 -73.99367796293151)  \n",
       "3259     POINT (-73.9893678975231 -73.9893678975231)  \n",
       "15601  POINT (-73.99020604515358 -73.99020604515358)  \n",
       "17251    POINT (-73.9787896122246 -73.9787896122246)  "
      ]
     },
     "execution_count": 64,
     "metadata": {},
     "output_type": "execute_result"
    }
   ],
   "source": [
    "flow_nyc = df_nyc\n",
    "\n",
    "flow_nyc = flow_nyc[['id','geoid_o', 'geoid_d','pop_flows', 'geometry_source', 'geometry_target']]\n",
    "\n",
    "flow_nyc.head()"
   ]
  },
  {
   "cell_type": "code",
   "execution_count": 65,
   "id": "neither-capture",
   "metadata": {},
   "outputs": [
    {
     "data": {
      "text/plain": [
       "id                   int64\n",
       "geoid_o              int64\n",
       "geoid_d              int64\n",
       "pop_flows          float64\n",
       "geometry_source     object\n",
       "geometry_target     object\n",
       "dtype: object"
      ]
     },
     "execution_count": 65,
     "metadata": {},
     "output_type": "execute_result"
    }
   ],
   "source": [
    "flow_nyc.dtypes"
   ]
  },
  {
   "cell_type": "code",
   "execution_count": 68,
   "id": "accompanied-psychology",
   "metadata": {},
   "outputs": [
    {
     "name": "stderr",
     "output_type": "stream",
     "text": [
      "/home/giovanni/anaconda3/envs/skmob/lib/python3.7/site-packages/ipykernel_launcher.py:8: UserWarning: CRS mismatch between the CRS of left geometries and the CRS of right geometries.\n",
      "Use `to_crs()` to reproject one of the input geometries to match the CRS of the other.\n",
      "\n",
      "Left CRS: +init=epsg:4326 +type=crs\n",
      "Right CRS: EPSG:4326\n",
      "\n",
      "  \n"
     ]
    },
    {
     "name": "stdout",
     "output_type": "stream",
     "text": [
      "res_merge_source\n",
      "   index_left tile_ID                   id      geoid_o      geoid_d  \\\n",
      "0      4224.0    4224 -7998493480891352927  36005019500  36061010900   \n",
      "1      4224.0    4224  6566117020135375453  36005019500  36061014500   \n",
      "2      4224.0    4224 -1657576401095122270  36005019500  36061011201   \n",
      "3      4224.0    4224  1276441212947782109  36005019500  36061010400   \n",
      "4      4224.0    4224  4185492402569914052  36005019500  36061012900   \n",
      "\n",
      "   pop_flows                    geometry  \n",
      "0      184.0  POINT (-73.92252 40.83048)  \n",
      "1      368.0  POINT (-73.92252 40.83048)  \n",
      "2      184.0  POINT (-73.92252 40.83048)  \n",
      "3      184.0  POINT (-73.92252 40.83048)  \n",
      "4      368.0  POINT (-73.92252 40.83048)  \n",
      "                        id      geoid_o      geoid_d  pop_flows  \\\n",
      "3216  -1607646969126518966  47037018202  36061016800      132.0   \n",
      "3256   3497117396067990770  47037018202  36061005400      132.0   \n",
      "3259  -7961954825251323971  47037018202  36061004200      166.0   \n",
      "15601 -2848496139881918701  47187050205  36061003602       59.0   \n",
      "17251 -9046666092771569968  48029120300  36061015700      129.0   \n",
      "\n",
      "                          geometry  \n",
      "3216   POINT (-73.95136 -73.95136)  \n",
      "3256   POINT (-73.99368 -73.99368)  \n",
      "3259   POINT (-73.98937 -73.98937)  \n",
      "15601  POINT (-73.99021 -73.99021)  \n",
      "17251  POINT (-73.97879 -73.97879)  \n"
     ]
    },
    {
     "name": "stderr",
     "output_type": "stream",
     "text": [
      "/home/giovanni/anaconda3/envs/skmob/lib/python3.7/site-packages/ipykernel_launcher.py:19: UserWarning: CRS mismatch between the CRS of left geometries and the CRS of right geometries.\n",
      "Use `to_crs()` to reproject one of the input geometries to match the CRS of the other.\n",
      "\n",
      "Left CRS: +init=epsg:4326 +type=crs\n",
      "Right CRS: EPSG:4326\n",
      "\n"
     ]
    },
    {
     "name": "stdout",
     "output_type": "stream",
     "text": [
      "res_merge_dest\n",
      "Empty GeoDataFrame\n",
      "Columns: [index_left, tile_ID, id, geoid_o, geoid_d, pop_flows, geometry]\n",
      "Index: []\n"
     ]
    },
    {
     "ename": "KeyError",
     "evalue": "\"['pop_flows'] not in index\"",
     "output_type": "error",
     "traceback": [
      "\u001b[0;31m---------------------------------------------------------------------------\u001b[0m",
      "\u001b[0;31mKeyError\u001b[0m                                  Traceback (most recent call last)",
      "\u001b[0;32m<ipython-input-68-d5625fe30a4b>\u001b[0m in \u001b[0;36m<module>\u001b[0;34m\u001b[0m\n\u001b[0;32m----> 1\u001b[0;31m \u001b[0mflow_nyc\u001b[0m \u001b[0;34m=\u001b[0m \u001b[0mflow_from_flow_in_tess\u001b[0m\u001b[0;34m(\u001b[0m\u001b[0mflow_nyc\u001b[0m\u001b[0;34m,\u001b[0m \u001b[0mtess_nyc\u001b[0m\u001b[0;34m)\u001b[0m\u001b[0;34m\u001b[0m\u001b[0;34m\u001b[0m\u001b[0m\n\u001b[0m",
      "\u001b[0;32m<ipython-input-67-269f38fe7b52>\u001b[0m in \u001b[0;36mflow_from_flow_in_tess\u001b[0;34m(df_flow_city, tess_city)\u001b[0m\n\u001b[1;32m     25\u001b[0m \u001b[0;34m\u001b[0m\u001b[0m\n\u001b[1;32m     26\u001b[0m     \u001b[0mfdf\u001b[0m \u001b[0;34m=\u001b[0m \u001b[0mres_merge_dest\u001b[0m\u001b[0;34m.\u001b[0m\u001b[0mmerge\u001b[0m\u001b[0;34m(\u001b[0m\u001b[0mres_merge_source\u001b[0m\u001b[0;34m,\u001b[0m \u001b[0mhow\u001b[0m\u001b[0;34m=\u001b[0m\u001b[0;34m'inner'\u001b[0m\u001b[0;34m,\u001b[0m \u001b[0mon\u001b[0m\u001b[0;34m=\u001b[0m\u001b[0;34m[\u001b[0m\u001b[0;34m'id'\u001b[0m\u001b[0;34m]\u001b[0m\u001b[0;34m)\u001b[0m\u001b[0;34m\u001b[0m\u001b[0;34m\u001b[0m\u001b[0m\n\u001b[0;32m---> 27\u001b[0;31m     \u001b[0mfdf\u001b[0m \u001b[0;34m=\u001b[0m \u001b[0mfdf\u001b[0m\u001b[0;34m[\u001b[0m\u001b[0;34m[\u001b[0m\u001b[0;34m'tile_ID_x'\u001b[0m\u001b[0;34m,\u001b[0m\u001b[0;34m'tile_ID_y'\u001b[0m\u001b[0;34m,\u001b[0m\u001b[0;34m'pop_flows'\u001b[0m\u001b[0;34m]\u001b[0m\u001b[0;34m]\u001b[0m\u001b[0;34m\u001b[0m\u001b[0;34m\u001b[0m\u001b[0m\n\u001b[0m\u001b[1;32m     28\u001b[0m \u001b[0;34m\u001b[0m\u001b[0m\n\u001b[1;32m     29\u001b[0m     \u001b[0mprint\u001b[0m\u001b[0;34m(\u001b[0m\u001b[0;34m\"fdf\"\u001b[0m\u001b[0;34m)\u001b[0m\u001b[0;34m\u001b[0m\u001b[0;34m\u001b[0m\u001b[0m\n",
      "\u001b[0;32m~/anaconda3/envs/skmob/lib/python3.7/site-packages/pandas/core/frame.py\u001b[0m in \u001b[0;36m__getitem__\u001b[0;34m(self, key)\u001b[0m\n\u001b[1;32m   3028\u001b[0m             \u001b[0;32mif\u001b[0m \u001b[0mis_iterator\u001b[0m\u001b[0;34m(\u001b[0m\u001b[0mkey\u001b[0m\u001b[0;34m)\u001b[0m\u001b[0;34m:\u001b[0m\u001b[0;34m\u001b[0m\u001b[0;34m\u001b[0m\u001b[0m\n\u001b[1;32m   3029\u001b[0m                 \u001b[0mkey\u001b[0m \u001b[0;34m=\u001b[0m \u001b[0mlist\u001b[0m\u001b[0;34m(\u001b[0m\u001b[0mkey\u001b[0m\u001b[0;34m)\u001b[0m\u001b[0;34m\u001b[0m\u001b[0;34m\u001b[0m\u001b[0m\n\u001b[0;32m-> 3030\u001b[0;31m             \u001b[0mindexer\u001b[0m \u001b[0;34m=\u001b[0m \u001b[0mself\u001b[0m\u001b[0;34m.\u001b[0m\u001b[0mloc\u001b[0m\u001b[0;34m.\u001b[0m\u001b[0m_get_listlike_indexer\u001b[0m\u001b[0;34m(\u001b[0m\u001b[0mkey\u001b[0m\u001b[0;34m,\u001b[0m \u001b[0maxis\u001b[0m\u001b[0;34m=\u001b[0m\u001b[0;36m1\u001b[0m\u001b[0;34m,\u001b[0m \u001b[0mraise_missing\u001b[0m\u001b[0;34m=\u001b[0m\u001b[0;32mTrue\u001b[0m\u001b[0;34m)\u001b[0m\u001b[0;34m[\u001b[0m\u001b[0;36m1\u001b[0m\u001b[0;34m]\u001b[0m\u001b[0;34m\u001b[0m\u001b[0;34m\u001b[0m\u001b[0m\n\u001b[0m\u001b[1;32m   3031\u001b[0m \u001b[0;34m\u001b[0m\u001b[0m\n\u001b[1;32m   3032\u001b[0m         \u001b[0;31m# take() does not accept boolean indexers\u001b[0m\u001b[0;34m\u001b[0m\u001b[0;34m\u001b[0m\u001b[0;34m\u001b[0m\u001b[0m\n",
      "\u001b[0;32m~/anaconda3/envs/skmob/lib/python3.7/site-packages/pandas/core/indexing.py\u001b[0m in \u001b[0;36m_get_listlike_indexer\u001b[0;34m(self, key, axis, raise_missing)\u001b[0m\n\u001b[1;32m   1264\u001b[0m             \u001b[0mkeyarr\u001b[0m\u001b[0;34m,\u001b[0m \u001b[0mindexer\u001b[0m\u001b[0;34m,\u001b[0m \u001b[0mnew_indexer\u001b[0m \u001b[0;34m=\u001b[0m \u001b[0max\u001b[0m\u001b[0;34m.\u001b[0m\u001b[0m_reindex_non_unique\u001b[0m\u001b[0;34m(\u001b[0m\u001b[0mkeyarr\u001b[0m\u001b[0;34m)\u001b[0m\u001b[0;34m\u001b[0m\u001b[0;34m\u001b[0m\u001b[0m\n\u001b[1;32m   1265\u001b[0m \u001b[0;34m\u001b[0m\u001b[0m\n\u001b[0;32m-> 1266\u001b[0;31m         \u001b[0mself\u001b[0m\u001b[0;34m.\u001b[0m\u001b[0m_validate_read_indexer\u001b[0m\u001b[0;34m(\u001b[0m\u001b[0mkeyarr\u001b[0m\u001b[0;34m,\u001b[0m \u001b[0mindexer\u001b[0m\u001b[0;34m,\u001b[0m \u001b[0maxis\u001b[0m\u001b[0;34m,\u001b[0m \u001b[0mraise_missing\u001b[0m\u001b[0;34m=\u001b[0m\u001b[0mraise_missing\u001b[0m\u001b[0;34m)\u001b[0m\u001b[0;34m\u001b[0m\u001b[0;34m\u001b[0m\u001b[0m\n\u001b[0m\u001b[1;32m   1267\u001b[0m         \u001b[0;32mreturn\u001b[0m \u001b[0mkeyarr\u001b[0m\u001b[0;34m,\u001b[0m \u001b[0mindexer\u001b[0m\u001b[0;34m\u001b[0m\u001b[0;34m\u001b[0m\u001b[0m\n\u001b[1;32m   1268\u001b[0m \u001b[0;34m\u001b[0m\u001b[0m\n",
      "\u001b[0;32m~/anaconda3/envs/skmob/lib/python3.7/site-packages/pandas/core/indexing.py\u001b[0m in \u001b[0;36m_validate_read_indexer\u001b[0;34m(self, key, indexer, axis, raise_missing)\u001b[0m\n\u001b[1;32m   1314\u001b[0m             \u001b[0;32mif\u001b[0m \u001b[0mraise_missing\u001b[0m\u001b[0;34m:\u001b[0m\u001b[0;34m\u001b[0m\u001b[0;34m\u001b[0m\u001b[0m\n\u001b[1;32m   1315\u001b[0m                 \u001b[0mnot_found\u001b[0m \u001b[0;34m=\u001b[0m \u001b[0mlist\u001b[0m\u001b[0;34m(\u001b[0m\u001b[0mset\u001b[0m\u001b[0;34m(\u001b[0m\u001b[0mkey\u001b[0m\u001b[0;34m)\u001b[0m \u001b[0;34m-\u001b[0m \u001b[0mset\u001b[0m\u001b[0;34m(\u001b[0m\u001b[0max\u001b[0m\u001b[0;34m)\u001b[0m\u001b[0;34m)\u001b[0m\u001b[0;34m\u001b[0m\u001b[0;34m\u001b[0m\u001b[0m\n\u001b[0;32m-> 1316\u001b[0;31m                 \u001b[0;32mraise\u001b[0m \u001b[0mKeyError\u001b[0m\u001b[0;34m(\u001b[0m\u001b[0;34mf\"{not_found} not in index\"\u001b[0m\u001b[0;34m)\u001b[0m\u001b[0;34m\u001b[0m\u001b[0;34m\u001b[0m\u001b[0m\n\u001b[0m\u001b[1;32m   1317\u001b[0m \u001b[0;34m\u001b[0m\u001b[0m\n\u001b[1;32m   1318\u001b[0m             \u001b[0mnot_found\u001b[0m \u001b[0;34m=\u001b[0m \u001b[0mkey\u001b[0m\u001b[0;34m[\u001b[0m\u001b[0mmissing_mask\u001b[0m\u001b[0;34m]\u001b[0m\u001b[0;34m\u001b[0m\u001b[0;34m\u001b[0m\u001b[0m\n",
      "\u001b[0;31mKeyError\u001b[0m: \"['pop_flows'] not in index\""
     ]
    }
   ],
   "source": [
    "flow_nyc = flow_from_flow_in_tess(flow_nyc, tess_nyc)"
   ]
  },
  {
   "cell_type": "code",
   "execution_count": null,
   "id": "systematic-adventure",
   "metadata": {},
   "outputs": [],
   "source": []
  }
 ],
 "metadata": {
  "kernelspec": {
   "display_name": "Python 3",
   "language": "python",
   "name": "python3"
  },
  "language_info": {
   "codemirror_mode": {
    "name": "ipython",
    "version": 3
   },
   "file_extension": ".py",
   "mimetype": "text/x-python",
   "name": "python",
   "nbconvert_exporter": "python",
   "pygments_lexer": "ipython3",
   "version": "3.7.9"
  }
 },
 "nbformat": 4,
 "nbformat_minor": 5
}
