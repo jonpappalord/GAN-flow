{
 "cells": [
  {
   "cell_type": "code",
   "execution_count": 1,
   "id": "completed-circus",
   "metadata": {},
   "outputs": [],
   "source": [
    "from shapely.geometry import Point, Polygon\n",
    "from shapely import wkt\n",
    "import skmob\n",
    "from skmob.preprocessing import filtering, detection\n",
    "from skmob.utils.plot import plot_gdf\n",
    "from skmob.tessellation import tilers\n",
    "import pandas as pd\n",
    "import geopandas as gpd\n",
    "import webbrowser\n",
    "import numpy as np\n",
    "import networkx as nx\n",
    "\n",
    "pd.set_option('display.max_columns', 500)"
   ]
  },
  {
   "cell_type": "code",
   "execution_count": 2,
   "id": "engaged-makeup",
   "metadata": {},
   "outputs": [],
   "source": [
    "meters = 500"
   ]
  },
  {
   "cell_type": "markdown",
   "id": "chubby-reference",
   "metadata": {},
   "source": [
    "# UTILITIES #"
   ]
  },
  {
   "cell_type": "code",
   "execution_count": 3,
   "id": "aquatic-plymouth",
   "metadata": {},
   "outputs": [],
   "source": [
    "def wkt_loads(x):\n",
    "    try:\n",
    "        return wkt.loads(x)\n",
    "    except Exception:\n",
    "        return None"
   ]
  },
  {
   "cell_type": "code",
   "execution_count": 4,
   "id": "weekly-stomach",
   "metadata": {},
   "outputs": [],
   "source": [
    "#REQUIRE a geodataframe with a column named 'geometry_source' and another named 'geometry_target'\n",
    "#                   and with an unique row-identifier column named 'id'\n",
    "#REQUIRE a tesselletion in OpenStreetMap format\n",
    "\n",
    "def flow_from_gdf_in_tess(df_city, tess_city):\n",
    "    gdf_1 = gpd.GeoDataFrame(df_city, crs=\"EPSG:4326\", geometry=df_city['geometry_source']).drop(['geometry_target', 'geometry_source'],axis =1)\n",
    "    \n",
    "    res_merge_source = gpd.sjoin(tess_city, gdf_1, how='right', op='contains')\n",
    "    res_merge_source.dropna(inplace=True)\n",
    "    res_merge_source.reset_index(drop=True, inplace=True)\n",
    "    \n",
    "    print(\"res_merge_source\")\n",
    "    print(res_merge_source.head())\n",
    "    \n",
    "    gdf_2 = gpd.GeoDataFrame(df_city, crs=\"EPSG:4326\", geometry=df_city['geometry_target']).drop(['geometry_target', 'geometry_source'],axis =1)\n",
    "\n",
    "    res_merge_dest = gpd.sjoin(tess_city, gdf_2, how='right', op='contains')\n",
    "    res_merge_dest.dropna(inplace=True)\n",
    "    res_merge_dest.reset_index(drop=True,inplace=True)\n",
    "    \n",
    "    print(\"res_merge_dest\")\n",
    "    print(res_merge_dest.head())\n",
    "    \n",
    "    fdf = res_merge_dest.merge(res_merge_source, how='inner', on=['id'])\n",
    "    fdf = fdf[['tile_ID_x','tile_ID_y']]\n",
    "    \n",
    "    print(\"fdf\")\n",
    "    print(fdf.head())\n",
    "    \n",
    "    flusso = fdf.groupby([\"tile_ID_x\", \"tile_ID_y\"]).size().reset_index(name=\"flow\")\n",
    "    flusso = flusso.rename(columns={'tile_ID_x': 'origin', 'tile_ID_y':'destination'})\n",
    "    \n",
    "    print(flusso.head())\n",
    "    \n",
    "    fdf_city = skmob.FlowDataFrame(data = flusso,tessellation=tess_city, tile_id='tile_ID', origin ='origin', \n",
    "                              destination = 'destination', flow = 'flow')\n",
    "    \n",
    "    return fdf_city\n",
    "    "
   ]
  },
  {
   "cell_type": "code",
   "execution_count": 5,
   "id": "indirect-girlfriend",
   "metadata": {},
   "outputs": [],
   "source": [
    "def to_Adj_Matrix(df):\n",
    "    df_np = df.to_numpy().astype(int)\n",
    "    n = max(max(origin, destination) for origin, destination, flow in df_np )\n",
    "    \n",
    "    matrix = np.zeros((n+1, n+1))\n",
    "    for origin, destination, flow in df_np:\n",
    "        matrix[origin][destination] = flow \n",
    "    return matrix"
   ]
  },
  {
   "cell_type": "code",
   "execution_count": 6,
   "id": "celtic-wesley",
   "metadata": {},
   "outputs": [],
   "source": [
    "def pad_with_zeros(A, r, c):\n",
    "   out = np.zeros((r, c))\n",
    "   r_, c_ = np.shape(A)\n",
    "   out[0:r_, 0:c_] = A\n",
    "   return out"
   ]
  },
  {
   "cell_type": "markdown",
   "id": "divided-transportation",
   "metadata": {},
   "source": [
    "## NYC ##"
   ]
  },
  {
   "cell_type": "code",
   "execution_count": 7,
   "id": "dimensional-trail",
   "metadata": {},
   "outputs": [
    {
     "name": "stderr",
     "output_type": "stream",
     "text": [
      "/home/giovanni/anaconda3/envs/skmob/lib/python3.7/site-packages/pyproj/crs/crs.py:53: FutureWarning: '+init=<authority>:<code>' syntax is deprecated. '<authority>:<code>' is the preferred initialization method. When making the change, be mindful of axis order changes: https://pyproj4.github.io/pyproj/stable/gotchas.html#axis-order-changes-in-proj-6\n",
      "  return _prepare_from_string(\" \".join(pjargs))\n"
     ]
    }
   ],
   "source": [
    "tess_nyc = tilers.tiler.get(\"squared\", meters=meters, base_shape=\"New York City, New York\")"
   ]
  },
  {
   "cell_type": "code",
   "execution_count": 8,
   "id": "romantic-chrome",
   "metadata": {},
   "outputs": [],
   "source": [
    "df_nyc = pd.read_csv('data/201802-citibike-tripdata.csv.zip')"
   ]
  },
  {
   "cell_type": "code",
   "execution_count": 9,
   "id": "basic-martial",
   "metadata": {},
   "outputs": [
    {
     "data": {
      "text/html": [
       "<div>\n",
       "<style scoped>\n",
       "    .dataframe tbody tr th:only-of-type {\n",
       "        vertical-align: middle;\n",
       "    }\n",
       "\n",
       "    .dataframe tbody tr th {\n",
       "        vertical-align: top;\n",
       "    }\n",
       "\n",
       "    .dataframe thead th {\n",
       "        text-align: right;\n",
       "    }\n",
       "</style>\n",
       "<table border=\"1\" class=\"dataframe\">\n",
       "  <thead>\n",
       "    <tr style=\"text-align: right;\">\n",
       "      <th></th>\n",
       "      <th>tripduration</th>\n",
       "      <th>starttime</th>\n",
       "      <th>stoptime</th>\n",
       "      <th>start station id</th>\n",
       "      <th>start station name</th>\n",
       "      <th>start station latitude</th>\n",
       "      <th>start station longitude</th>\n",
       "      <th>end station id</th>\n",
       "      <th>end station name</th>\n",
       "      <th>end station latitude</th>\n",
       "      <th>end station longitude</th>\n",
       "      <th>bikeid</th>\n",
       "      <th>usertype</th>\n",
       "      <th>birth year</th>\n",
       "      <th>gender</th>\n",
       "      <th>id</th>\n",
       "    </tr>\n",
       "  </thead>\n",
       "  <tbody>\n",
       "    <tr>\n",
       "      <th>0</th>\n",
       "      <td>771</td>\n",
       "      <td>2018-02-01 00:14:16.4120</td>\n",
       "      <td>2018-02-01 00:27:08.2290</td>\n",
       "      <td>72</td>\n",
       "      <td>W 52 St &amp; 11 Ave</td>\n",
       "      <td>40.767272</td>\n",
       "      <td>-73.993929</td>\n",
       "      <td>379</td>\n",
       "      <td>W 31 St &amp; 7 Ave</td>\n",
       "      <td>40.749156</td>\n",
       "      <td>-73.991600</td>\n",
       "      <td>14536</td>\n",
       "      <td>Subscriber</td>\n",
       "      <td>1952</td>\n",
       "      <td>1</td>\n",
       "      <td>-2972913605051034564</td>\n",
       "    </tr>\n",
       "    <tr>\n",
       "      <th>1</th>\n",
       "      <td>264</td>\n",
       "      <td>2018-02-01 05:14:45.1790</td>\n",
       "      <td>2018-02-01 05:19:09.6860</td>\n",
       "      <td>72</td>\n",
       "      <td>W 52 St &amp; 11 Ave</td>\n",
       "      <td>40.767272</td>\n",
       "      <td>-73.993929</td>\n",
       "      <td>478</td>\n",
       "      <td>11 Ave &amp; W 41 St</td>\n",
       "      <td>40.760301</td>\n",
       "      <td>-73.998842</td>\n",
       "      <td>32820</td>\n",
       "      <td>Subscriber</td>\n",
       "      <td>1965</td>\n",
       "      <td>1</td>\n",
       "      <td>-6099263867002803392</td>\n",
       "    </tr>\n",
       "    <tr>\n",
       "      <th>2</th>\n",
       "      <td>819</td>\n",
       "      <td>2018-02-01 06:48:55.2290</td>\n",
       "      <td>2018-02-01 07:02:35.0290</td>\n",
       "      <td>72</td>\n",
       "      <td>W 52 St &amp; 11 Ave</td>\n",
       "      <td>40.767272</td>\n",
       "      <td>-73.993929</td>\n",
       "      <td>405</td>\n",
       "      <td>Washington St &amp; Gansevoort St</td>\n",
       "      <td>40.739323</td>\n",
       "      <td>-74.008119</td>\n",
       "      <td>16131</td>\n",
       "      <td>Subscriber</td>\n",
       "      <td>1968</td>\n",
       "      <td>1</td>\n",
       "      <td>-8094522964782754194</td>\n",
       "    </tr>\n",
       "    <tr>\n",
       "      <th>3</th>\n",
       "      <td>646</td>\n",
       "      <td>2018-02-01 07:12:50.1740</td>\n",
       "      <td>2018-02-01 07:23:36.5280</td>\n",
       "      <td>72</td>\n",
       "      <td>W 52 St &amp; 11 Ave</td>\n",
       "      <td>40.767272</td>\n",
       "      <td>-73.993929</td>\n",
       "      <td>2006</td>\n",
       "      <td>Central Park S &amp; 6 Ave</td>\n",
       "      <td>40.765909</td>\n",
       "      <td>-73.976342</td>\n",
       "      <td>20831</td>\n",
       "      <td>Subscriber</td>\n",
       "      <td>1990</td>\n",
       "      <td>2</td>\n",
       "      <td>2005487222453508178</td>\n",
       "    </tr>\n",
       "    <tr>\n",
       "      <th>4</th>\n",
       "      <td>1312</td>\n",
       "      <td>2018-02-01 07:46:48.8750</td>\n",
       "      <td>2018-02-01 08:08:41.5430</td>\n",
       "      <td>72</td>\n",
       "      <td>W 52 St &amp; 11 Ave</td>\n",
       "      <td>40.767272</td>\n",
       "      <td>-73.993929</td>\n",
       "      <td>435</td>\n",
       "      <td>W 21 St &amp; 6 Ave</td>\n",
       "      <td>40.741740</td>\n",
       "      <td>-73.994156</td>\n",
       "      <td>15899</td>\n",
       "      <td>Subscriber</td>\n",
       "      <td>1957</td>\n",
       "      <td>1</td>\n",
       "      <td>-1502784927976863954</td>\n",
       "    </tr>\n",
       "  </tbody>\n",
       "</table>\n",
       "</div>"
      ],
      "text/plain": [
       "   tripduration                 starttime                  stoptime  \\\n",
       "0           771  2018-02-01 00:14:16.4120  2018-02-01 00:27:08.2290   \n",
       "1           264  2018-02-01 05:14:45.1790  2018-02-01 05:19:09.6860   \n",
       "2           819  2018-02-01 06:48:55.2290  2018-02-01 07:02:35.0290   \n",
       "3           646  2018-02-01 07:12:50.1740  2018-02-01 07:23:36.5280   \n",
       "4          1312  2018-02-01 07:46:48.8750  2018-02-01 08:08:41.5430   \n",
       "\n",
       "   start station id start station name  start station latitude  \\\n",
       "0                72   W 52 St & 11 Ave               40.767272   \n",
       "1                72   W 52 St & 11 Ave               40.767272   \n",
       "2                72   W 52 St & 11 Ave               40.767272   \n",
       "3                72   W 52 St & 11 Ave               40.767272   \n",
       "4                72   W 52 St & 11 Ave               40.767272   \n",
       "\n",
       "   start station longitude  end station id               end station name  \\\n",
       "0               -73.993929             379                W 31 St & 7 Ave   \n",
       "1               -73.993929             478               11 Ave & W 41 St   \n",
       "2               -73.993929             405  Washington St & Gansevoort St   \n",
       "3               -73.993929            2006         Central Park S & 6 Ave   \n",
       "4               -73.993929             435                W 21 St & 6 Ave   \n",
       "\n",
       "   end station latitude  end station longitude  bikeid    usertype  \\\n",
       "0             40.749156             -73.991600   14536  Subscriber   \n",
       "1             40.760301             -73.998842   32820  Subscriber   \n",
       "2             40.739323             -74.008119   16131  Subscriber   \n",
       "3             40.765909             -73.976342   20831  Subscriber   \n",
       "4             40.741740             -73.994156   15899  Subscriber   \n",
       "\n",
       "   birth year  gender                   id  \n",
       "0        1952       1 -2972913605051034564  \n",
       "1        1965       1 -6099263867002803392  \n",
       "2        1968       1 -8094522964782754194  \n",
       "3        1990       2  2005487222453508178  \n",
       "4        1957       1 -1502784927976863954  "
      ]
     },
     "execution_count": 9,
     "metadata": {},
     "output_type": "execute_result"
    }
   ],
   "source": [
    "df_nyc['id'] = df_nyc.apply(lambda x: hash(tuple(x)), axis = 1)\n",
    "\n",
    "df_nyc.head()"
   ]
  },
  {
   "cell_type": "code",
   "execution_count": 10,
   "id": "reduced-center",
   "metadata": {},
   "outputs": [
    {
     "data": {
      "text/html": [
       "<div>\n",
       "<style scoped>\n",
       "    .dataframe tbody tr th:only-of-type {\n",
       "        vertical-align: middle;\n",
       "    }\n",
       "\n",
       "    .dataframe tbody tr th {\n",
       "        vertical-align: top;\n",
       "    }\n",
       "\n",
       "    .dataframe thead th {\n",
       "        text-align: right;\n",
       "    }\n",
       "</style>\n",
       "<table border=\"1\" class=\"dataframe\">\n",
       "  <thead>\n",
       "    <tr style=\"text-align: right;\">\n",
       "      <th></th>\n",
       "      <th>start station id</th>\n",
       "      <th>end station id</th>\n",
       "      <th>id</th>\n",
       "      <th>geometry_source</th>\n",
       "      <th>geometry_target</th>\n",
       "    </tr>\n",
       "  </thead>\n",
       "  <tbody>\n",
       "    <tr>\n",
       "      <th>0</th>\n",
       "      <td>72</td>\n",
       "      <td>379</td>\n",
       "      <td>-2972913605051034564</td>\n",
       "      <td>POINT (-73.99392888 40.76727216)</td>\n",
       "      <td>POINT (-73.99160000000001 40.749156)</td>\n",
       "    </tr>\n",
       "    <tr>\n",
       "      <th>1</th>\n",
       "      <td>72</td>\n",
       "      <td>478</td>\n",
       "      <td>-6099263867002803392</td>\n",
       "      <td>POINT (-73.99392888 40.76727216)</td>\n",
       "      <td>POINT (-73.99884222 40.76030096)</td>\n",
       "    </tr>\n",
       "    <tr>\n",
       "      <th>2</th>\n",
       "      <td>72</td>\n",
       "      <td>405</td>\n",
       "      <td>-8094522964782754194</td>\n",
       "      <td>POINT (-73.99392888 40.76727216)</td>\n",
       "      <td>POINT (-74.00811899999999 40.739323)</td>\n",
       "    </tr>\n",
       "    <tr>\n",
       "      <th>3</th>\n",
       "      <td>72</td>\n",
       "      <td>2006</td>\n",
       "      <td>2005487222453508178</td>\n",
       "      <td>POINT (-73.99392888 40.76727216)</td>\n",
       "      <td>POINT (-73.97634151 40.76590936)</td>\n",
       "    </tr>\n",
       "    <tr>\n",
       "      <th>4</th>\n",
       "      <td>72</td>\n",
       "      <td>435</td>\n",
       "      <td>-1502784927976863954</td>\n",
       "      <td>POINT (-73.99392888 40.76727216)</td>\n",
       "      <td>POINT (-73.99415556 40.74173969)</td>\n",
       "    </tr>\n",
       "  </tbody>\n",
       "</table>\n",
       "</div>"
      ],
      "text/plain": [
       "   start station id  end station id                   id  \\\n",
       "0                72             379 -2972913605051034564   \n",
       "1                72             478 -6099263867002803392   \n",
       "2                72             405 -8094522964782754194   \n",
       "3                72            2006  2005487222453508178   \n",
       "4                72             435 -1502784927976863954   \n",
       "\n",
       "                    geometry_source                       geometry_target  \n",
       "0  POINT (-73.99392888 40.76727216)  POINT (-73.99160000000001 40.749156)  \n",
       "1  POINT (-73.99392888 40.76727216)      POINT (-73.99884222 40.76030096)  \n",
       "2  POINT (-73.99392888 40.76727216)  POINT (-74.00811899999999 40.739323)  \n",
       "3  POINT (-73.99392888 40.76727216)      POINT (-73.97634151 40.76590936)  \n",
       "4  POINT (-73.99392888 40.76727216)      POINT (-73.99415556 40.74173969)  "
      ]
     },
     "execution_count": 10,
     "metadata": {},
     "output_type": "execute_result"
    }
   ],
   "source": [
    "\n",
    "df_nyc['geometry_source'] = [Point(xy) for xy in zip(df_nyc['start station longitude'],df_nyc['start station latitude'])]\n",
    "df_nyc['geometry_target'] = [Point(xy) for xy in zip(df_nyc['end station longitude'],df_nyc['end station latitude'])]\n",
    "\n",
    "\n",
    "\n",
    "columns = ['tripduration', 'start station name', 'start station latitude', 'start station longitude', 'end station name', 'end station latitude', 'end station longitude', 'usertype', 'birth year', 'gender', 'starttime', 'stoptime', 'bikeid']\n",
    "df_nyc = df_nyc.drop(columns, axis = 1) \n",
    "\n",
    "df_nyc.head()\n"
   ]
  },
  {
   "cell_type": "code",
   "execution_count": 11,
   "id": "stone-diving",
   "metadata": {},
   "outputs": [
    {
     "name": "stderr",
     "output_type": "stream",
     "text": [
      "/home/giovanni/anaconda3/envs/skmob/lib/python3.7/site-packages/ipykernel_launcher.py:8: UserWarning: CRS mismatch between the CRS of left geometries and the CRS of right geometries.\n",
      "Use `to_crs()` to reproject one of the input geometries to match the CRS of the other.\n",
      "\n",
      "Left CRS: +init=epsg:4326 +type=crs\n",
      "Right CRS: EPSG:4326\n",
      "\n",
      "  \n"
     ]
    },
    {
     "name": "stdout",
     "output_type": "stream",
     "text": [
      "res_merge_source\n",
      "   index_left tile_ID  start station id  end station id                   id  \\\n",
      "0      2740.0    2740                72             379 -2972913605051034564   \n",
      "1      2740.0    2740                72             478 -6099263867002803392   \n",
      "2      2740.0    2740                72             405 -8094522964782754194   \n",
      "3      2740.0    2740                72            2006  2005487222453508178   \n",
      "4      2740.0    2740                72             435 -1502784927976863954   \n",
      "\n",
      "                     geometry  \n",
      "0  POINT (-73.99393 40.76727)  \n",
      "1  POINT (-73.99393 40.76727)  \n",
      "2  POINT (-73.99393 40.76727)  \n",
      "3  POINT (-73.99393 40.76727)  \n",
      "4  POINT (-73.99393 40.76727)  \n"
     ]
    },
    {
     "name": "stderr",
     "output_type": "stream",
     "text": [
      "/home/giovanni/anaconda3/envs/skmob/lib/python3.7/site-packages/ipykernel_launcher.py:17: UserWarning: CRS mismatch between the CRS of left geometries and the CRS of right geometries.\n",
      "Use `to_crs()` to reproject one of the input geometries to match the CRS of the other.\n",
      "\n",
      "Left CRS: +init=epsg:4326 +type=crs\n",
      "Right CRS: EPSG:4326\n",
      "\n"
     ]
    },
    {
     "name": "stdout",
     "output_type": "stream",
     "text": [
      "res_merge_dest\n",
      "   index_left tile_ID  start station id  end station id                   id  \\\n",
      "0      2734.0    2734                72             379 -2972913605051034564   \n",
      "1      2579.0    2579                72             478 -6099263867002803392   \n",
      "2      2423.0    2423                72             405 -8094522964782754194   \n",
      "3      2985.0    2985                72            2006  2005487222453508178   \n",
      "4      2652.0    2652                72             435 -1502784927976863954   \n",
      "\n",
      "                     geometry  \n",
      "0  POINT (-73.99160 40.74916)  \n",
      "1  POINT (-73.99884 40.76030)  \n",
      "2  POINT (-74.00812 40.73932)  \n",
      "3  POINT (-73.97634 40.76591)  \n",
      "4  POINT (-73.99416 40.74174)  \n",
      "fdf\n",
      "  tile_ID_x tile_ID_y\n",
      "0      2734      2740\n",
      "1      2579      2740\n",
      "2      2423      2740\n",
      "3      2985      2740\n",
      "4      2652      2740\n",
      "  origin destination  flow\n",
      "0   2254        2254    40\n",
      "1   2271        2271    55\n",
      "2   2271        2272    44\n",
      "3   2271        2274    93\n",
      "4   2271        2339    51\n"
     ]
    }
   ],
   "source": [
    "fdf_nyc = flow_from_gdf_in_tess(df_nyc, tess_nyc)"
   ]
  },
  {
   "cell_type": "code",
   "execution_count": 12,
   "id": "pursuant-relations",
   "metadata": {},
   "outputs": [
    {
     "data": {
      "text/html": [
       "<div>\n",
       "<style scoped>\n",
       "    .dataframe tbody tr th:only-of-type {\n",
       "        vertical-align: middle;\n",
       "    }\n",
       "\n",
       "    .dataframe tbody tr th {\n",
       "        vertical-align: top;\n",
       "    }\n",
       "\n",
       "    .dataframe thead th {\n",
       "        text-align: right;\n",
       "    }\n",
       "</style>\n",
       "<table border=\"1\" class=\"dataframe\">\n",
       "  <thead>\n",
       "    <tr style=\"text-align: right;\">\n",
       "      <th></th>\n",
       "      <th>origin</th>\n",
       "      <th>destination</th>\n",
       "      <th>flow</th>\n",
       "    </tr>\n",
       "  </thead>\n",
       "  <tbody>\n",
       "    <tr>\n",
       "      <th>0</th>\n",
       "      <td>2254</td>\n",
       "      <td>2254</td>\n",
       "      <td>40</td>\n",
       "    </tr>\n",
       "    <tr>\n",
       "      <th>1</th>\n",
       "      <td>2271</td>\n",
       "      <td>2271</td>\n",
       "      <td>55</td>\n",
       "    </tr>\n",
       "    <tr>\n",
       "      <th>2</th>\n",
       "      <td>2271</td>\n",
       "      <td>2272</td>\n",
       "      <td>44</td>\n",
       "    </tr>\n",
       "    <tr>\n",
       "      <th>3</th>\n",
       "      <td>2271</td>\n",
       "      <td>2274</td>\n",
       "      <td>93</td>\n",
       "    </tr>\n",
       "    <tr>\n",
       "      <th>4</th>\n",
       "      <td>2271</td>\n",
       "      <td>2339</td>\n",
       "      <td>51</td>\n",
       "    </tr>\n",
       "  </tbody>\n",
       "</table>\n",
       "</div>"
      ],
      "text/plain": [
       "  origin destination  flow\n",
       "0   2254        2254    40\n",
       "1   2271        2271    55\n",
       "2   2271        2272    44\n",
       "3   2271        2274    93\n",
       "4   2271        2339    51"
      ]
     },
     "execution_count": 12,
     "metadata": {},
     "output_type": "execute_result"
    }
   ],
   "source": [
    "fdf_nyc.head()"
   ]
  },
  {
   "cell_type": "code",
   "execution_count": 13,
   "id": "arabic-sociology",
   "metadata": {},
   "outputs": [],
   "source": [
    "fdf_nyc.to_csv(\"fdf_nyc_2.csv\")"
   ]
  },
  {
   "cell_type": "code",
   "execution_count": 14,
   "id": "legendary-disney",
   "metadata": {},
   "outputs": [
    {
     "data": {
      "text/plain": [
       "array([[0., 0., 0., ..., 0., 0., 0.],\n",
       "       [0., 0., 0., ..., 0., 0., 0.],\n",
       "       [0., 0., 0., ..., 0., 0., 0.],\n",
       "       ...,\n",
       "       [0., 0., 0., ..., 0., 0., 0.],\n",
       "       [0., 0., 0., ..., 0., 0., 0.],\n",
       "       [0., 0., 0., ..., 0., 0., 9.]])"
      ]
     },
     "execution_count": 14,
     "metadata": {},
     "output_type": "execute_result"
    }
   ],
   "source": [
    "fdf_nyc_np = to_Adj_Matrix(fdf_nyc)\n",
    "\n",
    "fdf_nyc_np"
   ]
  },
  {
   "cell_type": "code",
   "execution_count": 15,
   "id": "entire-budapest",
   "metadata": {},
   "outputs": [
    {
     "data": {
      "text/plain": [
       "40.0"
      ]
     },
     "execution_count": 15,
     "metadata": {},
     "output_type": "execute_result"
    }
   ],
   "source": [
    "fdf_nyc_np[2254,2254]"
   ]
  },
  {
   "cell_type": "markdown",
   "id": "limiting-permit",
   "metadata": {},
   "source": [
    "# PORTO #"
   ]
  },
  {
   "cell_type": "code",
   "execution_count": 16,
   "id": "accompanied-executive",
   "metadata": {},
   "outputs": [
    {
     "name": "stderr",
     "output_type": "stream",
     "text": [
      "/home/giovanni/anaconda3/envs/skmob/lib/python3.7/site-packages/pyproj/crs/crs.py:53: FutureWarning: '+init=<authority>:<code>' syntax is deprecated. '<authority>:<code>' is the preferred initialization method. When making the change, be mindful of axis order changes: https://pyproj4.github.io/pyproj/stable/gotchas.html#axis-order-changes-in-proj-6\n",
      "  return _prepare_from_string(\" \".join(pjargs))\n"
     ]
    }
   ],
   "source": [
    "tess_por = tilers.tiler.get(\"squared\", meters=meters, base_shape=\"Porto, Área Metropolitana do Porto, North, Portugal\")"
   ]
  },
  {
   "cell_type": "code",
   "execution_count": 17,
   "id": "cardiovascular-salvation",
   "metadata": {},
   "outputs": [],
   "source": [
    "df_por = pd.read_csv('data/porto_trajectories_all.csv')\n",
    "df_por = df_por.drop_duplicates()\n",
    "\n",
    "\n",
    "mask = df_por.trajectory_id.duplicated(keep=False)\n",
    "prova = df_por[mask]\n",
    "prova = df_por.drop_duplicates(subset=['trajectory_id'])\n",
    "df_por = prova\n",
    "\n",
    "\n",
    "\n",
    "df_por['geometry_source'] = df_por.source_point.apply(wkt_loads)\n",
    "df_por['geometry_target'] = df_por.target_point.apply(wkt_loads)\n"
   ]
  },
  {
   "cell_type": "code",
   "execution_count": 18,
   "id": "educated-spending",
   "metadata": {},
   "outputs": [
    {
     "data": {
      "text/html": [
       "<div>\n",
       "<style scoped>\n",
       "    .dataframe tbody tr th:only-of-type {\n",
       "        vertical-align: middle;\n",
       "    }\n",
       "\n",
       "    .dataframe tbody tr th {\n",
       "        vertical-align: top;\n",
       "    }\n",
       "\n",
       "    .dataframe thead th {\n",
       "        text-align: right;\n",
       "    }\n",
       "</style>\n",
       "<table border=\"1\" class=\"dataframe\">\n",
       "  <thead>\n",
       "    <tr style=\"text-align: right;\">\n",
       "      <th></th>\n",
       "      <th>taxi_id</th>\n",
       "      <th>trajectory_id</th>\n",
       "      <th>timestamp</th>\n",
       "      <th>source_point</th>\n",
       "      <th>target_point</th>\n",
       "      <th>geometry_source</th>\n",
       "      <th>geometry_target</th>\n",
       "    </tr>\n",
       "  </thead>\n",
       "  <tbody>\n",
       "    <tr>\n",
       "      <th>0</th>\n",
       "      <td>20000589</td>\n",
       "      <td>1372636858620000589</td>\n",
       "      <td>2013-07-01 00:00:58</td>\n",
       "      <td>POINT(-8.618643 41.141412)</td>\n",
       "      <td>POINT(-8.630838 41.154489)</td>\n",
       "      <td>POINT (-8.618643 41.141412)</td>\n",
       "      <td>POINT (-8.630838000000001 41.154489)</td>\n",
       "    </tr>\n",
       "    <tr>\n",
       "      <th>1</th>\n",
       "      <td>20000596</td>\n",
       "      <td>1372637303620000596</td>\n",
       "      <td>2013-07-01 00:08:23</td>\n",
       "      <td>POINT(-8.639847 41.159826)</td>\n",
       "      <td>POINT(-8.66574 41.170671)</td>\n",
       "      <td>POINT (-8.639847 41.159826)</td>\n",
       "      <td>POINT (-8.66574 41.170671)</td>\n",
       "    </tr>\n",
       "    <tr>\n",
       "      <th>2</th>\n",
       "      <td>20000320</td>\n",
       "      <td>1372636951620000320</td>\n",
       "      <td>2013-07-01 00:02:31</td>\n",
       "      <td>POINT(-8.612964 41.140359)</td>\n",
       "      <td>POINT(-8.61597 41.14053)</td>\n",
       "      <td>POINT (-8.612964 41.140359)</td>\n",
       "      <td>POINT (-8.615970000000001 41.14053)</td>\n",
       "    </tr>\n",
       "    <tr>\n",
       "      <th>3</th>\n",
       "      <td>20000520</td>\n",
       "      <td>1372636854620000520</td>\n",
       "      <td>2013-07-01 00:00:54</td>\n",
       "      <td>POINT(-8.574678 41.151951)</td>\n",
       "      <td>POINT(-8.607996 41.142915)</td>\n",
       "      <td>POINT (-8.574678 41.151951)</td>\n",
       "      <td>POINT (-8.607996 41.142915)</td>\n",
       "    </tr>\n",
       "    <tr>\n",
       "      <th>4</th>\n",
       "      <td>20000337</td>\n",
       "      <td>1372637091620000337</td>\n",
       "      <td>2013-07-01 00:04:51</td>\n",
       "      <td>POINT(-8.645994 41.18049)</td>\n",
       "      <td>POINT(-8.687268 41.178087)</td>\n",
       "      <td>POINT (-8.645994 41.18049)</td>\n",
       "      <td>POINT (-8.687268 41.178087)</td>\n",
       "    </tr>\n",
       "  </tbody>\n",
       "</table>\n",
       "</div>"
      ],
      "text/plain": [
       "    taxi_id        trajectory_id            timestamp  \\\n",
       "0  20000589  1372636858620000589  2013-07-01 00:00:58   \n",
       "1  20000596  1372637303620000596  2013-07-01 00:08:23   \n",
       "2  20000320  1372636951620000320  2013-07-01 00:02:31   \n",
       "3  20000520  1372636854620000520  2013-07-01 00:00:54   \n",
       "4  20000337  1372637091620000337  2013-07-01 00:04:51   \n",
       "\n",
       "                 source_point                target_point  \\\n",
       "0  POINT(-8.618643 41.141412)  POINT(-8.630838 41.154489)   \n",
       "1  POINT(-8.639847 41.159826)   POINT(-8.66574 41.170671)   \n",
       "2  POINT(-8.612964 41.140359)    POINT(-8.61597 41.14053)   \n",
       "3  POINT(-8.574678 41.151951)  POINT(-8.607996 41.142915)   \n",
       "4   POINT(-8.645994 41.18049)  POINT(-8.687268 41.178087)   \n",
       "\n",
       "               geometry_source                       geometry_target  \n",
       "0  POINT (-8.618643 41.141412)  POINT (-8.630838000000001 41.154489)  \n",
       "1  POINT (-8.639847 41.159826)            POINT (-8.66574 41.170671)  \n",
       "2  POINT (-8.612964 41.140359)   POINT (-8.615970000000001 41.14053)  \n",
       "3  POINT (-8.574678 41.151951)           POINT (-8.607996 41.142915)  \n",
       "4   POINT (-8.645994 41.18049)           POINT (-8.687268 41.178087)  "
      ]
     },
     "execution_count": 18,
     "metadata": {},
     "output_type": "execute_result"
    }
   ],
   "source": [
    "df_por.head()"
   ]
  },
  {
   "cell_type": "code",
   "execution_count": 19,
   "id": "handled-listening",
   "metadata": {},
   "outputs": [
    {
     "data": {
      "text/html": [
       "<div>\n",
       "<style scoped>\n",
       "    .dataframe tbody tr th:only-of-type {\n",
       "        vertical-align: middle;\n",
       "    }\n",
       "\n",
       "    .dataframe tbody tr th {\n",
       "        vertical-align: top;\n",
       "    }\n",
       "\n",
       "    .dataframe thead th {\n",
       "        text-align: right;\n",
       "    }\n",
       "</style>\n",
       "<table border=\"1\" class=\"dataframe\">\n",
       "  <thead>\n",
       "    <tr style=\"text-align: right;\">\n",
       "      <th></th>\n",
       "      <th>taxi_id</th>\n",
       "      <th>trajectory_id</th>\n",
       "      <th>timestamp</th>\n",
       "      <th>source_point</th>\n",
       "      <th>target_point</th>\n",
       "      <th>geometry_source</th>\n",
       "      <th>geometry_target</th>\n",
       "      <th>id</th>\n",
       "    </tr>\n",
       "  </thead>\n",
       "  <tbody>\n",
       "    <tr>\n",
       "      <th>0</th>\n",
       "      <td>20000589</td>\n",
       "      <td>1372636858620000589</td>\n",
       "      <td>2013-07-01 00:00:58</td>\n",
       "      <td>POINT(-8.618643 41.141412)</td>\n",
       "      <td>POINT(-8.630838 41.154489)</td>\n",
       "      <td>POINT (-8.618643 41.141412)</td>\n",
       "      <td>POINT (-8.630838000000001 41.154489)</td>\n",
       "      <td>1372636858620000589</td>\n",
       "    </tr>\n",
       "    <tr>\n",
       "      <th>1</th>\n",
       "      <td>20000596</td>\n",
       "      <td>1372637303620000596</td>\n",
       "      <td>2013-07-01 00:08:23</td>\n",
       "      <td>POINT(-8.639847 41.159826)</td>\n",
       "      <td>POINT(-8.66574 41.170671)</td>\n",
       "      <td>POINT (-8.639847 41.159826)</td>\n",
       "      <td>POINT (-8.66574 41.170671)</td>\n",
       "      <td>1372637303620000596</td>\n",
       "    </tr>\n",
       "    <tr>\n",
       "      <th>2</th>\n",
       "      <td>20000320</td>\n",
       "      <td>1372636951620000320</td>\n",
       "      <td>2013-07-01 00:02:31</td>\n",
       "      <td>POINT(-8.612964 41.140359)</td>\n",
       "      <td>POINT(-8.61597 41.14053)</td>\n",
       "      <td>POINT (-8.612964 41.140359)</td>\n",
       "      <td>POINT (-8.615970000000001 41.14053)</td>\n",
       "      <td>1372636951620000320</td>\n",
       "    </tr>\n",
       "    <tr>\n",
       "      <th>3</th>\n",
       "      <td>20000520</td>\n",
       "      <td>1372636854620000520</td>\n",
       "      <td>2013-07-01 00:00:54</td>\n",
       "      <td>POINT(-8.574678 41.151951)</td>\n",
       "      <td>POINT(-8.607996 41.142915)</td>\n",
       "      <td>POINT (-8.574678 41.151951)</td>\n",
       "      <td>POINT (-8.607996 41.142915)</td>\n",
       "      <td>1372636854620000520</td>\n",
       "    </tr>\n",
       "    <tr>\n",
       "      <th>4</th>\n",
       "      <td>20000337</td>\n",
       "      <td>1372637091620000337</td>\n",
       "      <td>2013-07-01 00:04:51</td>\n",
       "      <td>POINT(-8.645994 41.18049)</td>\n",
       "      <td>POINT(-8.687268 41.178087)</td>\n",
       "      <td>POINT (-8.645994 41.18049)</td>\n",
       "      <td>POINT (-8.687268 41.178087)</td>\n",
       "      <td>1372637091620000337</td>\n",
       "    </tr>\n",
       "  </tbody>\n",
       "</table>\n",
       "</div>"
      ],
      "text/plain": [
       "    taxi_id        trajectory_id            timestamp  \\\n",
       "0  20000589  1372636858620000589  2013-07-01 00:00:58   \n",
       "1  20000596  1372637303620000596  2013-07-01 00:08:23   \n",
       "2  20000320  1372636951620000320  2013-07-01 00:02:31   \n",
       "3  20000520  1372636854620000520  2013-07-01 00:00:54   \n",
       "4  20000337  1372637091620000337  2013-07-01 00:04:51   \n",
       "\n",
       "                 source_point                target_point  \\\n",
       "0  POINT(-8.618643 41.141412)  POINT(-8.630838 41.154489)   \n",
       "1  POINT(-8.639847 41.159826)   POINT(-8.66574 41.170671)   \n",
       "2  POINT(-8.612964 41.140359)    POINT(-8.61597 41.14053)   \n",
       "3  POINT(-8.574678 41.151951)  POINT(-8.607996 41.142915)   \n",
       "4   POINT(-8.645994 41.18049)  POINT(-8.687268 41.178087)   \n",
       "\n",
       "               geometry_source                       geometry_target  \\\n",
       "0  POINT (-8.618643 41.141412)  POINT (-8.630838000000001 41.154489)   \n",
       "1  POINT (-8.639847 41.159826)            POINT (-8.66574 41.170671)   \n",
       "2  POINT (-8.612964 41.140359)   POINT (-8.615970000000001 41.14053)   \n",
       "3  POINT (-8.574678 41.151951)           POINT (-8.607996 41.142915)   \n",
       "4   POINT (-8.645994 41.18049)           POINT (-8.687268 41.178087)   \n",
       "\n",
       "                    id  \n",
       "0  1372636858620000589  \n",
       "1  1372637303620000596  \n",
       "2  1372636951620000320  \n",
       "3  1372636854620000520  \n",
       "4  1372637091620000337  "
      ]
     },
     "execution_count": 19,
     "metadata": {},
     "output_type": "execute_result"
    }
   ],
   "source": [
    "df_por['id'] = df_por['trajectory_id']\n",
    "df_por.head()"
   ]
  },
  {
   "cell_type": "code",
   "execution_count": 20,
   "id": "empirical-export",
   "metadata": {},
   "outputs": [
    {
     "data": {
      "text/html": [
       "<div>\n",
       "<style scoped>\n",
       "    .dataframe tbody tr th:only-of-type {\n",
       "        vertical-align: middle;\n",
       "    }\n",
       "\n",
       "    .dataframe tbody tr th {\n",
       "        vertical-align: top;\n",
       "    }\n",
       "\n",
       "    .dataframe thead th {\n",
       "        text-align: right;\n",
       "    }\n",
       "</style>\n",
       "<table border=\"1\" class=\"dataframe\">\n",
       "  <thead>\n",
       "    <tr style=\"text-align: right;\">\n",
       "      <th></th>\n",
       "      <th>geometry_source</th>\n",
       "      <th>geometry_target</th>\n",
       "      <th>id</th>\n",
       "    </tr>\n",
       "  </thead>\n",
       "  <tbody>\n",
       "    <tr>\n",
       "      <th>0</th>\n",
       "      <td>POINT (-8.618643 41.141412)</td>\n",
       "      <td>POINT (-8.630838000000001 41.154489)</td>\n",
       "      <td>1372636858620000589</td>\n",
       "    </tr>\n",
       "    <tr>\n",
       "      <th>1</th>\n",
       "      <td>POINT (-8.639847 41.159826)</td>\n",
       "      <td>POINT (-8.66574 41.170671)</td>\n",
       "      <td>1372637303620000596</td>\n",
       "    </tr>\n",
       "    <tr>\n",
       "      <th>2</th>\n",
       "      <td>POINT (-8.612964 41.140359)</td>\n",
       "      <td>POINT (-8.615970000000001 41.14053)</td>\n",
       "      <td>1372636951620000320</td>\n",
       "    </tr>\n",
       "    <tr>\n",
       "      <th>3</th>\n",
       "      <td>POINT (-8.574678 41.151951)</td>\n",
       "      <td>POINT (-8.607996 41.142915)</td>\n",
       "      <td>1372636854620000520</td>\n",
       "    </tr>\n",
       "    <tr>\n",
       "      <th>4</th>\n",
       "      <td>POINT (-8.645994 41.18049)</td>\n",
       "      <td>POINT (-8.687268 41.178087)</td>\n",
       "      <td>1372637091620000337</td>\n",
       "    </tr>\n",
       "  </tbody>\n",
       "</table>\n",
       "</div>"
      ],
      "text/plain": [
       "               geometry_source                       geometry_target  \\\n",
       "0  POINT (-8.618643 41.141412)  POINT (-8.630838000000001 41.154489)   \n",
       "1  POINT (-8.639847 41.159826)            POINT (-8.66574 41.170671)   \n",
       "2  POINT (-8.612964 41.140359)   POINT (-8.615970000000001 41.14053)   \n",
       "3  POINT (-8.574678 41.151951)           POINT (-8.607996 41.142915)   \n",
       "4   POINT (-8.645994 41.18049)           POINT (-8.687268 41.178087)   \n",
       "\n",
       "                    id  \n",
       "0  1372636858620000589  \n",
       "1  1372637303620000596  \n",
       "2  1372636951620000320  \n",
       "3  1372636854620000520  \n",
       "4  1372637091620000337  "
      ]
     },
     "execution_count": 20,
     "metadata": {},
     "output_type": "execute_result"
    }
   ],
   "source": [
    "columns = ['taxi_id', 'trajectory_id', 'timestamp', 'source_point', 'target_point']\n",
    "df_por = df_por.drop(columns, axis = 1) \n",
    "df_por.head()"
   ]
  },
  {
   "cell_type": "code",
   "execution_count": 21,
   "id": "functioning-austin",
   "metadata": {},
   "outputs": [
    {
     "data": {
      "text/plain": [
       "5022447"
      ]
     },
     "execution_count": 21,
     "metadata": {},
     "output_type": "execute_result"
    }
   ],
   "source": [
    "df_por.size"
   ]
  },
  {
   "cell_type": "code",
   "execution_count": 22,
   "id": "sudden-elizabeth",
   "metadata": {},
   "outputs": [
    {
     "name": "stderr",
     "output_type": "stream",
     "text": [
      "/home/giovanni/anaconda3/envs/skmob/lib/python3.7/site-packages/ipykernel_launcher.py:8: UserWarning: CRS mismatch between the CRS of left geometries and the CRS of right geometries.\n",
      "Use `to_crs()` to reproject one of the input geometries to match the CRS of the other.\n",
      "\n",
      "Left CRS: +init=epsg:4326 +type=crs\n",
      "Right CRS: EPSG:4326\n",
      "\n",
      "  \n"
     ]
    },
    {
     "name": "stdout",
     "output_type": "stream",
     "text": [
      "res_merge_source\n",
      "   index_left tile_ID                   id                   geometry\n",
      "0       170.0     170  1372636858620000589  POINT (-8.61864 41.14141)\n",
      "1       114.0     114  1372637303620000596  POINT (-8.63985 41.15983)\n",
      "2       184.0     184  1372636951620000320  POINT (-8.61296 41.14036)\n",
      "3       298.0     298  1372636854620000520  POINT (-8.57468 41.15195)\n",
      "4       108.0     108  1372637091620000337  POINT (-8.64599 41.18049)\n"
     ]
    },
    {
     "name": "stderr",
     "output_type": "stream",
     "text": [
      "/home/giovanni/anaconda3/envs/skmob/lib/python3.7/site-packages/ipykernel_launcher.py:17: UserWarning: CRS mismatch between the CRS of left geometries and the CRS of right geometries.\n",
      "Use `to_crs()` to reproject one of the input geometries to match the CRS of the other.\n",
      "\n",
      "Left CRS: +init=epsg:4326 +type=crs\n",
      "Right CRS: EPSG:4326\n",
      "\n"
     ]
    },
    {
     "name": "stdout",
     "output_type": "stream",
     "text": [
      "res_merge_dest\n",
      "   index_left tile_ID                   id                   geometry\n",
      "0       136.0     136  1372636858620000589  POINT (-8.63084 41.15449)\n",
      "1        47.0      47  1372637303620000596  POINT (-8.66574 41.17067)\n",
      "2       170.0     170  1372636951620000320  POINT (-8.61597 41.14053)\n",
      "3       199.0     199  1372636854620000520  POINT (-8.60800 41.14292)\n",
      "4       300.0     300  1372636965620000231  POINT (-8.57822 41.16072)\n",
      "fdf\n",
      "  tile_ID_x tile_ID_y\n",
      "0       136       170\n",
      "1        47       114\n",
      "2       170       184\n",
      "3       199       298\n",
      "4       300       170\n",
      "  origin destination  flow\n",
      "0      0           1     1\n",
      "1      0         114     5\n",
      "2      0         134     1\n",
      "3      0         136     1\n",
      "4      0         149     1\n"
     ]
    }
   ],
   "source": [
    "fdf_por = flow_from_gdf_in_tess(df_por, tess_por)"
   ]
  },
  {
   "cell_type": "code",
   "execution_count": 23,
   "id": "infectious-minnesota",
   "metadata": {},
   "outputs": [
    {
     "data": {
      "text/html": [
       "<div>\n",
       "<style scoped>\n",
       "    .dataframe tbody tr th:only-of-type {\n",
       "        vertical-align: middle;\n",
       "    }\n",
       "\n",
       "    .dataframe tbody tr th {\n",
       "        vertical-align: top;\n",
       "    }\n",
       "\n",
       "    .dataframe thead th {\n",
       "        text-align: right;\n",
       "    }\n",
       "</style>\n",
       "<table border=\"1\" class=\"dataframe\">\n",
       "  <thead>\n",
       "    <tr style=\"text-align: right;\">\n",
       "      <th></th>\n",
       "      <th>origin</th>\n",
       "      <th>destination</th>\n",
       "      <th>flow</th>\n",
       "    </tr>\n",
       "  </thead>\n",
       "  <tbody>\n",
       "    <tr>\n",
       "      <th>0</th>\n",
       "      <td>0</td>\n",
       "      <td>1</td>\n",
       "      <td>1</td>\n",
       "    </tr>\n",
       "    <tr>\n",
       "      <th>1</th>\n",
       "      <td>0</td>\n",
       "      <td>114</td>\n",
       "      <td>5</td>\n",
       "    </tr>\n",
       "    <tr>\n",
       "      <th>2</th>\n",
       "      <td>0</td>\n",
       "      <td>134</td>\n",
       "      <td>1</td>\n",
       "    </tr>\n",
       "    <tr>\n",
       "      <th>3</th>\n",
       "      <td>0</td>\n",
       "      <td>136</td>\n",
       "      <td>1</td>\n",
       "    </tr>\n",
       "    <tr>\n",
       "      <th>4</th>\n",
       "      <td>0</td>\n",
       "      <td>149</td>\n",
       "      <td>1</td>\n",
       "    </tr>\n",
       "  </tbody>\n",
       "</table>\n",
       "</div>"
      ],
      "text/plain": [
       "  origin destination  flow\n",
       "0      0           1     1\n",
       "1      0         114     5\n",
       "2      0         134     1\n",
       "3      0         136     1\n",
       "4      0         149     1"
      ]
     },
     "execution_count": 23,
     "metadata": {},
     "output_type": "execute_result"
    }
   ],
   "source": [
    "fdf_por.head()"
   ]
  },
  {
   "cell_type": "code",
   "execution_count": 24,
   "id": "popular-wells",
   "metadata": {},
   "outputs": [],
   "source": [
    "fdf_por.to_csv(\"fdf_por_2.csv\")"
   ]
  },
  {
   "cell_type": "code",
   "execution_count": 25,
   "id": "civilian-fundamental",
   "metadata": {},
   "outputs": [
    {
     "data": {
      "text/plain": [
       "array([[ 0.,  1.,  0., ...,  0.,  0.,  0.],\n",
       "       [ 0., 54.,  7., ...,  0.,  0.,  0.],\n",
       "       [ 0.,  3.,  8., ...,  0.,  0.,  0.],\n",
       "       ...,\n",
       "       [ 0.,  0.,  0., ...,  0.,  1.,  0.],\n",
       "       [ 0.,  0.,  0., ...,  0.,  0.,  0.],\n",
       "       [ 0.,  0.,  0., ...,  0.,  0.,  0.]])"
      ]
     },
     "execution_count": 25,
     "metadata": {},
     "output_type": "execute_result"
    }
   ],
   "source": [
    "fdf_por_np = to_Adj_Matrix(fdf_por)\n",
    "\n",
    "fdf_por_np"
   ]
  },
  {
   "cell_type": "code",
   "execution_count": 26,
   "id": "fantastic-vienna",
   "metadata": {},
   "outputs": [
    {
     "data": {
      "text/plain": [
       "5.0"
      ]
     },
     "execution_count": 26,
     "metadata": {},
     "output_type": "execute_result"
    }
   ],
   "source": [
    "fdf_por_np[0,114]"
   ]
  },
  {
   "cell_type": "code",
   "execution_count": null,
   "id": "chinese-outreach",
   "metadata": {},
   "outputs": [],
   "source": []
  }
 ],
 "metadata": {
  "kernelspec": {
   "display_name": "Python 3",
   "language": "python",
   "name": "python3"
  },
  "language_info": {
   "codemirror_mode": {
    "name": "ipython",
    "version": 3
   },
   "file_extension": ".py",
   "mimetype": "text/x-python",
   "name": "python",
   "nbconvert_exporter": "python",
   "pygments_lexer": "ipython3",
   "version": "3.7.9"
  }
 },
 "nbformat": 4,
 "nbformat_minor": 5
}
