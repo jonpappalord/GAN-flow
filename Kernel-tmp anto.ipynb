{
 "cells": [
  {
   "cell_type": "code",
   "execution_count": 1,
   "id": "8b088713",
   "metadata": {
    "scrolled": true
   },
   "outputs": [],
   "source": [
    "import numpy as np\n",
    "import networkx as nx\n",
    "import pickle\n",
    "\n",
    "from grakel.utils import graph_from_networkx\n",
    "from grakel.kernels import EdgeHistogram"
   ]
  },
  {
   "cell_type": "code",
   "execution_count": null,
   "id": "72592f3f",
   "metadata": {},
   "outputs": [],
   "source": []
  },
  {
   "cell_type": "code",
   "execution_count": 2,
   "id": "91a2a03f",
   "metadata": {},
   "outputs": [],
   "source": [
    "from utils import *\n",
    "\n",
    "import numpy as np\n",
    "from sklearn.model_selection import train_test_split\n",
    "import itertools\n",
    "from random import sample\n",
    "import pickle\n",
    "from scipy.spatial import distance\n",
    "import time\n",
    "\n",
    "import random\n",
    "random.seed(3110)"
   ]
  },
  {
   "cell_type": "code",
   "execution_count": 3,
   "id": "ee75c3bc",
   "metadata": {},
   "outputs": [],
   "source": [
    "\n",
    "\n",
    "\n",
    "cities = [\"NYC\"]\n",
    "transps = [\"Bike\"]\n",
    "models = [\"Gravity\", \"MoGAN\"]\n",
    "\n",
    "'''\n",
    "cities = [\"CHI\"]\n",
    "transps = [\"Bike\"]\n",
    "models = [\"Random\"]\n",
    "'''\n",
    "\n",
    "FLAG_weights = False\n",
    "FLAG_weights_dist = False\n",
    "FLAG_cpc = False\n",
    "FLAG_rmse = False\n",
    "FLAG_cutnorm = False\n",
    "FLAG_kernel = True\n",
    "\n",
    "table = {\n",
    "    \"Gravity\": \"fake_set_gravity.txt\",\n",
    "    \"Radiation\": \"fake_set_radiation.txt\",\n",
    "    \"Random_Weighted\": \"fake_set_random_weighted.txt\",\n",
    "    \"Random\": \"fake_set_random.txt\",\n",
    "    \"MoGAN\": \"fake_set.txt\"\n",
    "}\n",
    "\n"
   ]
  },
  {
   "cell_type": "code",
   "execution_count": null,
   "id": "32fd4045",
   "metadata": {},
   "outputs": [],
   "source": []
  },
  {
   "cell_type": "code",
   "execution_count": null,
   "id": "dd63c7cc",
   "metadata": {},
   "outputs": [],
   "source": []
  },
  {
   "cell_type": "code",
   "execution_count": null,
   "id": "b0a0d43c",
   "metadata": {},
   "outputs": [],
   "source": []
  },
  {
   "cell_type": "code",
   "execution_count": null,
   "id": "165583f1",
   "metadata": {},
   "outputs": [],
   "source": []
  },
  {
   "cell_type": "code",
   "execution_count": 4,
   "id": "e73e8382",
   "metadata": {},
   "outputs": [
    {
     "name": "stdout",
     "output_type": "stream",
     "text": [
      "Gravity NYC Bike\n",
      "--------\n",
      "--------\n",
      "146 146 100 10\n",
      "MoGAN NYC Bike\n",
      "--------\n",
      "--------\n",
      "146 146 100 10\n"
     ]
    }
   ],
   "source": [
    "\n",
    "\n",
    "for model in models:\n",
    "    for city in cities:\n",
    "        for transp in transps:\n",
    "            print(model,city,transp)\n",
    "            print(\"--------\")\n",
    "            print(\"--------\")\n",
    "            distanze = np.load(\"./DataLoading/dist_mat_\" +city +\".npy\")\n",
    "            np.fill_diagonal(distanze, 0.8)\n",
    "\n",
    "            with open(\"./\" +transp + city +\"/\"+table[model], \"rb\") as fp:   # Unpickling\n",
    "                fake_set = pickle.load(fp)\n",
    "            with open(\"./\" +transp + city +\"/v_test.txt\", \"rb\") as fp:   # Unpickling\n",
    "                v_test = pickle.load(fp)\n",
    "\n",
    "            number_of_items = np.floor(len(v_test)/(1.5)).astype(int)\n",
    "            number_of_items = 10\n",
    "            uno = sample(v_test, number_of_items)\n",
    "            due = sample(fake_set, number_of_items)\n",
    "            mixed_set_pairs = [pair for pair in itertools.product(uno , due)]\n",
    "            print(len(fake_set), len(v_test), len(mixed_set_pairs), number_of_items)\n",
    "\n",
    "            ##-------------------------------------------------------##\n",
    "            ##-------------------------------------------------------##\n",
    "            ##-------------------------------------------------------##"
   ]
  },
  {
   "cell_type": "code",
   "execution_count": 5,
   "id": "86ac9c68",
   "metadata": {
    "scrolled": true
   },
   "outputs": [
    {
     "name": "stdout",
     "output_type": "stream",
     "text": [
      "exp_kernel_1_sim\n",
      "exp_kernel_2_sim\n"
     ]
    },
    {
     "name": "stderr",
     "output_type": "stream",
     "text": [
      "100%|██████████| 100/100 [01:04<00:00,  1.54it/s]"
     ]
    },
    {
     "name": "stdout",
     "output_type": "stream",
     "text": [
      "exp_kernel_3_sim\n"
     ]
    },
    {
     "name": "stderr",
     "output_type": "stream",
     "text": [
      "\n"
     ]
    }
   ],
   "source": [
    "\n",
    "start = time.time()\n",
    "exp_kernel_1_sim = get_exp_kernel(v_test)\n",
    "end = time.time()\n",
    "print(\"exp_kernel_1_sim\")\n",
    "elapsed_time = (end-start)%60\n",
    "#print(\"elapsed time in minutes: \" + str(elapsed_time))\n",
    "\n",
    "start = time.time()\n",
    "exp_kernel_2_sim = get_exp_kernel(fake_set)\n",
    "end = time.time()\n",
    "print(\"exp_kernel_2_sim\")\n",
    "elapsed_time = (end-start)%60\n",
    "#print(\"elapsed time in minutes: \" + str(elapsed_time))\n",
    "\n",
    "start = time.time()\n",
    "exp_kernel_3_sim = get_exp_kernel(mixed_set_pairs, paired = True)\n",
    "end = time.time()\n",
    "print(\"exp_kernel_3_sim\")\n",
    "elapsed_time = (end-start)%60\n",
    "#print(\"elapsed time in minutes: \" + str(elapsed_time))\n",
    "\n",
    "\n",
    "with open(\"./\" + transp+city+\"/experiments/kernel/\"+model+\"/1.txt\", \"wb\") as fp:   #Pickling\n",
    "    pickle.dump(exp_kernel_1_sim, fp)\n",
    "with open(\"./\" + transp+city+\"/experiments/kernel/\"+model+\"/2.txt\", \"wb\") as fp:   #Pickling\n",
    "    pickle.dump(exp_kernel_2_sim, fp)\n",
    "with open(\"./\" + transp+city+\"/experiments/kernel/\"+model+\"/3.txt\", \"wb\") as fp:   #Pickling\n",
    "    pickle.dump(exp_kernel_3_sim, fp)\n"
   ]
  },
  {
   "cell_type": "code",
   "execution_count": 9,
   "id": "71ff5dd7",
   "metadata": {},
   "outputs": [
    {
     "data": {
      "text/plain": [
       "array([-27057.18047599,  91078.2184704 , -43772.85549709, ...,\n",
       "         2073.6319781 ,   2588.16152087,   -251.66346302])"
      ]
     },
     "execution_count": 9,
     "metadata": {},
     "output_type": "execute_result"
    }
   ],
   "source": [
    "exp_kernel_1_sim"
   ]
  },
  {
   "cell_type": "code",
   "execution_count": 14,
   "id": "ff1e770f",
   "metadata": {},
   "outputs": [
    {
     "data": {
      "text/plain": [
       "-21560.003796212837"
      ]
     },
     "execution_count": 14,
     "metadata": {},
     "output_type": "execute_result"
    }
   ],
   "source": [
    "exp_kernel_2_sim[0]"
   ]
  },
  {
   "cell_type": "code",
   "execution_count": 11,
   "id": "2062fdba",
   "metadata": {},
   "outputs": [
    {
     "data": {
      "text/plain": [
       "[-185293.61928444018,\n",
       " 5002.874704189021,\n",
       " 6624.529979813016,\n",
       " 3295.9172370490064,\n",
       " 2606.6824942539934,\n",
       " 6078.842237716139,\n",
       " 1147.6844057542103,\n",
       " 13926.368538848126,\n",
       " 3609.3600818771138,\n",
       " 5752.434002635526,\n",
       " 12732.554944123613,\n",
       " 4335.122831569244,\n",
       " 5370.195211716482,\n",
       " 11580.287240300637,\n",
       " 4073.4227736478624,\n",
       " -4006.434178365383,\n",
       " 2869.9796498460573,\n",
       " 10877.448913510649,\n",
       " 4838.532144170093,\n",
       " 2803.9961607353157,\n",
       " 2875.5224475567234,\n",
       " 1384.2836957089182,\n",
       " 1222.381949965944,\n",
       " 17767.798712448457,\n",
       " 2124.059962955899,\n",
       " 3075.2656337179246,\n",
       " 2476.5633948848854,\n",
       " -2100.818825438016,\n",
       " -152183.0930564414,\n",
       " -119036.00908054117,\n",
       " 2461.11036856797,\n",
       " 2901.149093443202,\n",
       " 5947.966704254795,\n",
       " 89591.09436417827,\n",
       " -5397.524482022329,\n",
       " 4130.026250853256,\n",
       " 4920.471025353936,\n",
       " -26182.866889434175,\n",
       " 3796.7176278376137,\n",
       " 19306.17826914004,\n",
       " 3571.5522344938536,\n",
       " 2974.086253580568,\n",
       " 3245.1274622521028,\n",
       " -5812.324482744011,\n",
       " 3738.1082347085467,\n",
       " 3210.345184760351,\n",
       " 1093.1583840502171,\n",
       " -229.44632032938767,\n",
       " 12095.07472995091,\n",
       " 6271908.875034555,\n",
       " -159196928.57101044,\n",
       " 43560.58406100385,\n",
       " 2334.415657563263,\n",
       " 8435.720737883703,\n",
       " -1331.6364971473527,\n",
       " 2726.9910815715602,\n",
       " 6375.964067332339,\n",
       " 3731.052804481602,\n",
       " 12130.023806903026,\n",
       " 11682.69862613642,\n",
       " -8469.9448854396,\n",
       " 2817.9670196709485,\n",
       " 3742.429733647176,\n",
       " 2220.8051608837745,\n",
       " 4093.9644719354164,\n",
       " 2503.264345339844,\n",
       " 2501.3294474677687,\n",
       " -10576.976566766625,\n",
       " -1618.3467694326869,\n",
       " 25619.20507965672,\n",
       " -1664598.1191711372,\n",
       " 3670.733414781508,\n",
       " -15813.592654066964,\n",
       " -122448.75945923715,\n",
       " 4523.788450143636,\n",
       " 3257.4405999892633,\n",
       " 3180.615842874696,\n",
       " 26735.0108194454,\n",
       " -5489.842962212548,\n",
       " 1087.32156657708,\n",
       " 13862.148533315605,\n",
       " 9333.634677881411,\n",
       " -19040.435642669123,\n",
       " 6856.0631959762695,\n",
       " -1026.3814181089128,\n",
       " 3629.9758663159573,\n",
       " 6098.904749934549,\n",
       " 6707.220393028393,\n",
       " 203590.03567561344,\n",
       " 9565.597983163492,\n",
       " -146.5420249713784,\n",
       " 3534.040001109857,\n",
       " 4520.165118439534,\n",
       " 6853.398093697606,\n",
       " 1000.7563432697565,\n",
       " 2760.791376139971,\n",
       " 4643.235812393619,\n",
       " 16170.57956037296,\n",
       " 11663.39719058801,\n",
       " 3132.9535253115946]"
      ]
     },
     "execution_count": 11,
     "metadata": {},
     "output_type": "execute_result"
    }
   ],
   "source": [
    "exp_kernel_3_sim"
   ]
  },
  {
   "cell_type": "code",
   "execution_count": 12,
   "id": "5a9aba15",
   "metadata": {},
   "outputs": [],
   "source": [
    "c = 0\n",
    "for i in exp_kernel_3_sim:\n",
    "    if np.isnan(i):\n",
    "        c = c + 1"
   ]
  },
  {
   "cell_type": "code",
   "execution_count": null,
   "id": "f71b21b4",
   "metadata": {},
   "outputs": [],
   "source": []
  },
  {
   "cell_type": "code",
   "execution_count": null,
   "id": "da1ec7ba",
   "metadata": {},
   "outputs": [],
   "source": []
  },
  {
   "cell_type": "code",
   "execution_count": null,
   "id": "36a65c93",
   "metadata": {},
   "outputs": [],
   "source": [
    "\n",
    "from grakel.utils import graph_from_networkx\n",
    "from grakel.kernels import EdgeHistogram\n",
    "from grakel.kernels import RandomWalkLabeled as kk\n",
    "\n",
    "\n",
    "l = []\n",
    "G1 = nx.from_numpy_matrix(np.matrix(mixed_set_pairs[0][0]), create_using=nx.DiGraph)\n",
    "G1.remove_nodes_from(list(nx.isolates(G1)))\n",
    "\n",
    "G2 = nx.from_numpy_matrix(np.matrix(mixed_set_pairs[0][1]), create_using=nx.DiGraph)\n",
    "G2.remove_nodes_from(list(nx.isolates(G2)))\n",
    "\n",
    "l.append(G1)\n",
    "l.append(G2)\n",
    "\n",
    "for g in l:\n",
    "    for n in g.nodes():\n",
    "        for i in nx.ego_graph(g,n).nodes():\n",
    "            w = 0\n",
    "            if g.has_edge(n,i):\n",
    "                w = w + g.edges()[(n,i)][\"weight\"]\n",
    "            g.nodes()[n][\"w\"] = w\n",
    "\n",
    "G = graph_from_networkx(l,edge_labels_tag=\"weight\", node_labels_tag=\"w\")\n",
    "\n",
    "\n",
    "\n",
    "gk = kk()\n",
    "K_train = gk.fit_transform(G)\n",
    "sim = K_train[0,1]"
   ]
  },
  {
   "cell_type": "code",
   "execution_count": null,
   "id": "49bdb4b0",
   "metadata": {},
   "outputs": [],
   "source": [
    "K_train"
   ]
  },
  {
   "cell_type": "code",
   "execution_count": null,
   "id": "f27e4d6c",
   "metadata": {},
   "outputs": [],
   "source": [
    "import matplotlib.pyplot as plt\n",
    "nx.draw(G1,node_size=50)\n",
    "plt.show()"
   ]
  },
  {
   "cell_type": "code",
   "execution_count": null,
   "id": "6dc4d5e9",
   "metadata": {},
   "outputs": [],
   "source": [
    "import matplotlib.pyplot as plt\n",
    "nx.draw(G2,node_size=50)\n",
    "plt.show()"
   ]
  },
  {
   "cell_type": "code",
   "execution_count": null,
   "id": "33ff5cd1",
   "metadata": {},
   "outputs": [],
   "source": []
  },
  {
   "cell_type": "code",
   "execution_count": null,
   "id": "d4dfc39e",
   "metadata": {},
   "outputs": [],
   "source": []
  },
  {
   "cell_type": "code",
   "execution_count": null,
   "id": "66b235c5",
   "metadata": {},
   "outputs": [],
   "source": []
  },
  {
   "cell_type": "code",
   "execution_count": null,
   "id": "63677e52",
   "metadata": {
    "scrolled": true
   },
   "outputs": [],
   "source": [
    "exp_kernel_1_sim"
   ]
  },
  {
   "cell_type": "code",
   "execution_count": null,
   "id": "a3775687",
   "metadata": {},
   "outputs": [],
   "source": [
    "exp_kernel_2_sim"
   ]
  },
  {
   "cell_type": "code",
   "execution_count": null,
   "id": "043a61aa",
   "metadata": {},
   "outputs": [],
   "source": [
    "exp_kernel_3_sim"
   ]
  },
  {
   "cell_type": "code",
   "execution_count": null,
   "id": "0fbf6d9b",
   "metadata": {},
   "outputs": [],
   "source": []
  },
  {
   "cell_type": "code",
   "execution_count": null,
   "id": "7a0c4046",
   "metadata": {},
   "outputs": [],
   "source": []
  },
  {
   "cell_type": "code",
   "execution_count": null,
   "id": "dc095b9c",
   "metadata": {},
   "outputs": [],
   "source": [
    "c"
   ]
  },
  {
   "cell_type": "code",
   "execution_count": null,
   "id": "78f507ee",
   "metadata": {},
   "outputs": [],
   "source": []
  },
  {
   "cell_type": "code",
   "execution_count": null,
   "id": "a8cafdbc",
   "metadata": {},
   "outputs": [],
   "source": []
  },
  {
   "cell_type": "code",
   "execution_count": null,
   "id": "2ff28659",
   "metadata": {},
   "outputs": [],
   "source": []
  },
  {
   "cell_type": "code",
   "execution_count": null,
   "id": "b4f021b7",
   "metadata": {
    "scrolled": true
   },
   "outputs": [],
   "source": [
    "G1 = nx.fast_gnp_random_graph(4096,0.1)\n",
    "G11 = G1.copy()\n",
    "for i in G1.edges():\n",
    "    G1.edges()[i][\"weight\"] = np.random.randint(0,10)\n",
    "    G11.edges()[i][\"weight\"] = np.random.randint(0,10)\n",
    "    \n",
    "G111 = nx.fast_gnp_random_graph(4096,0.1)\n",
    "for i in G111.edges():\n",
    "    G111.edges()[i][\"weight\"] = np.random.randint(0,10)\n",
    "    \n",
    "    \n",
    "    \n",
    "G2 = nx.fast_gnp_random_graph(4096,0.2)\n",
    "for i in G2.edges():\n",
    "    G2.edges()[i][\"weight\"] = np.random.randint(0,20)"
   ]
  },
  {
   "cell_type": "code",
   "execution_count": null,
   "id": "e9c2222c",
   "metadata": {
    "scrolled": true
   },
   "outputs": [],
   "source": [
    "from grakel.utils import graph_from_networkx"
   ]
  },
  {
   "cell_type": "code",
   "execution_count": null,
   "id": "200c81ef-30ee-48dd-99b9-813ba2f8bc52",
   "metadata": {},
   "outputs": [],
   "source": [
    "G_nx = [G1, G11]# G111, G2]\n",
    "\n",
    "# Transforms list of NetworkX graphs into a list of GraKeL graphs\n",
    "G = graph_from_networkx(G_nx,edge_labels_tag=\"weight\")\n",
    "print(\"1 - Simple graphs transformed\\n\")"
   ]
  },
  {
   "cell_type": "code",
   "execution_count": null,
   "id": "b25c6d9e",
   "metadata": {
    "scrolled": true
   },
   "outputs": [],
   "source": [
    "G"
   ]
  },
  {
   "cell_type": "code",
   "execution_count": null,
   "id": "2c442f53",
   "metadata": {
    "scrolled": true
   },
   "outputs": [],
   "source": [
    "%%time\n",
    "gk = EdgeHistogram(normalize=True)\n",
    "K_train = gk.fit_transform(G)"
   ]
  },
  {
   "cell_type": "code",
   "execution_count": null,
   "id": "67af84ca",
   "metadata": {
    "scrolled": true
   },
   "outputs": [],
   "source": [
    "K_train"
   ]
  },
  {
   "cell_type": "code",
   "execution_count": null,
   "id": "e6747711-ee30-4c2b-888d-d12efb310340",
   "metadata": {},
   "outputs": [],
   "source": [
    "K_train[0,1]"
   ]
  },
  {
   "cell_type": "code",
   "execution_count": null,
   "id": "1a148e6f-3814-43d4-a987-3d519297315a",
   "metadata": {},
   "outputs": [],
   "source": [
    "b = K_train.transpose()"
   ]
  },
  {
   "cell_type": "code",
   "execution_count": null,
   "id": "b841b69c-29cb-45d8-b74e-1126b77b5b26",
   "metadata": {},
   "outputs": [],
   "source": [
    "b"
   ]
  },
  {
   "cell_type": "code",
   "execution_count": null,
   "id": "8bcdb50e-5eb0-4db0-8c86-79f9a6545ecc",
   "metadata": {},
   "outputs": [],
   "source": [
    "np.array_equal(K_train,b)"
   ]
  },
  {
   "cell_type": "code",
   "execution_count": null,
   "id": "cbd4d44d-3901-410b-9038-6194bbb13632",
   "metadata": {},
   "outputs": [],
   "source": []
  },
  {
   "cell_type": "code",
   "execution_count": null,
   "id": "3bb54233-94b6-48a7-8e25-a6d81d0d9321",
   "metadata": {},
   "outputs": [],
   "source": []
  },
  {
   "cell_type": "code",
   "execution_count": null,
   "id": "8fff8267-898d-4338-b6e5-178776871ec9",
   "metadata": {
    "scrolled": true
   },
   "outputs": [],
   "source": [
    "with open(\"./BikeCHI/v_test.txt\", \"rb\") as fp:   # Unpickling\n",
    "    v_test = pickle.load(fp)"
   ]
  },
  {
   "cell_type": "code",
   "execution_count": null,
   "id": "cc2a29bc-cd1a-4f77-9906-80b8443da2a4",
   "metadata": {},
   "outputs": [],
   "source": [
    "l = []\n",
    "for A in v_test:\n",
    "    G = nx.from_numpy_matrix(np.matrix(A), create_using=nx.DiGraph)\n",
    "    l.append(G)"
   ]
  },
  {
   "cell_type": "code",
   "execution_count": null,
   "id": "d291a6ab-b46f-40ac-a2f3-2f8283f43a5e",
   "metadata": {},
   "outputs": [],
   "source": [
    "G_l = graph_from_networkx(l,edge_labels_tag=\"weight\")\n",
    "print(\"1 - Simple graphs transformed\\n\")"
   ]
  },
  {
   "cell_type": "code",
   "execution_count": null,
   "id": "8085f1e1-8fc9-4d9a-ab41-33273319cd1d",
   "metadata": {},
   "outputs": [],
   "source": [
    "%%time\n",
    "gk = EdgeHistogram(normalize=True)\n",
    "K_train = gk.fit_transform(G_l)"
   ]
  },
  {
   "cell_type": "code",
   "execution_count": null,
   "id": "73e4e1b8-fa8c-4e4b-bc6f-240fe761801d",
   "metadata": {},
   "outputs": [],
   "source": [
    "K_train.shape"
   ]
  },
  {
   "cell_type": "code",
   "execution_count": null,
   "id": "2afaddbd-fa7e-448a-bcd2-4877ce52202b",
   "metadata": {},
   "outputs": [],
   "source": [
    "(np.min(K_train), np.average(K_train),  np.max(K_train) )"
   ]
  },
  {
   "cell_type": "code",
   "execution_count": null,
   "id": "f2f9e48c-3319-4cb8-9b08-5e38b8b29183",
   "metadata": {},
   "outputs": [],
   "source": [
    "b = K_train.transpose()"
   ]
  },
  {
   "cell_type": "code",
   "execution_count": null,
   "id": "c982711a-3fdd-45ec-a7e6-0fc35a09156d",
   "metadata": {},
   "outputs": [],
   "source": [
    "np.array_equal(K_train, b)"
   ]
  },
  {
   "cell_type": "code",
   "execution_count": null,
   "id": "db50c1f5-738e-4e44-8ecf-2c5540950986",
   "metadata": {},
   "outputs": [],
   "source": [
    "c = K_train[np.triu_indices(146, k=1)]"
   ]
  },
  {
   "cell_type": "code",
   "execution_count": null,
   "id": "ef900e95-ba9c-4919-bb61-2411c636b86a",
   "metadata": {},
   "outputs": [],
   "source": [
    "len(c)"
   ]
  },
  {
   "cell_type": "code",
   "execution_count": null,
   "id": "ba56e11b-e8dd-43d8-b386-3ac0a41431f1",
   "metadata": {},
   "outputs": [],
   "source": [
    "c"
   ]
  },
  {
   "cell_type": "code",
   "execution_count": null,
   "id": "3bf90cd6-0f91-492c-ae27-c03dd2f6c073",
   "metadata": {},
   "outputs": [],
   "source": [
    "c = K_train[np.triu_indices(K_train.shape[0], k=1)]"
   ]
  },
  {
   "cell_type": "code",
   "execution_count": null,
   "id": "943792d5-1bfc-4a22-b008-7af8735b2901",
   "metadata": {},
   "outputs": [],
   "source": [
    "len(c)"
   ]
  },
  {
   "cell_type": "code",
   "execution_count": null,
   "id": "180b467b-b476-4e3d-bbd0-41229af34353",
   "metadata": {},
   "outputs": [],
   "source": [
    "c"
   ]
  },
  {
   "cell_type": "code",
   "execution_count": null,
   "id": "4b13a2e0-ce4f-45f2-8d84-14559abeb0f8",
   "metadata": {},
   "outputs": [],
   "source": []
  }
 ],
 "metadata": {
  "kernelspec": {
   "display_name": "Python 3",
   "language": "python",
   "name": "python3"
  },
  "language_info": {
   "codemirror_mode": {
    "name": "ipython",
    "version": 3
   },
   "file_extension": ".py",
   "mimetype": "text/x-python",
   "name": "python",
   "nbconvert_exporter": "python",
   "pygments_lexer": "ipython3",
   "version": "3.8.8"
  }
 },
 "nbformat": 4,
 "nbformat_minor": 5
}
