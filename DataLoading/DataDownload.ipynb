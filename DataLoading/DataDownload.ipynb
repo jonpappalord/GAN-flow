{
 "cells": [
  {
   "cell_type": "code",
   "execution_count": 1,
   "id": "34b0cd76",
   "metadata": {},
   "outputs": [],
   "source": [
    "import requests\n",
    "import pandas as pd\n",
    "from zipfile import ZipFile\n",
    "import shutil\n",
    "from shapely.ops import unary_union\n",
    "import os"
   ]
  },
  {
   "cell_type": "markdown",
   "id": "dc5cf9fb",
   "metadata": {},
   "source": [
    "# NYC Bikes #"
   ]
  },
  {
   "cell_type": "code",
   "execution_count": 4,
   "id": "6b3dc503",
   "metadata": {},
   "outputs": [
    {
     "name": "stdout",
     "output_type": "stream",
     "text": [
      "3\n",
      "2018\n",
      "2019\n",
      "4\n",
      "2018\n",
      "2019\n",
      "5\n",
      "2018\n",
      "2019\n",
      "6\n",
      "2018\n",
      "2019\n",
      "7\n",
      "2018\n",
      "2019\n",
      "8\n",
      "2018\n",
      "2019\n",
      "9\n",
      "2018\n",
      "2019\n",
      "10\n",
      "2018\n",
      "2019\n",
      "11\n",
      "2018\n",
      "2019\n",
      "12\n",
      "2018\n",
      "2019\n"
     ]
    }
   ],
   "source": [
    "%%time\n",
    "city = 'NYC'\n",
    "transp = 'Bike'\n",
    "for i in range (1,13):\n",
    "    print(i)\n",
    "    for year in range (2018,2020):\n",
    "        print(year)\n",
    "        filename = str(year)+ \"%.2d\" % i +'-citibike-tripdata.csv.zip'\n",
    "        url = \"https://s3.amazonaws.com/tripdata/\" + filename\n",
    "        req = requests.get(url)\n",
    "        url_content = req.content\n",
    "        csv_file = open(\"./data/\"+transp+city+\"/\"+filename, 'wb')\n",
    "        csv_file.write(url_content)\n",
    "        csv_file.close()"
   ]
  },
  {
   "cell_type": "code",
   "execution_count": 3,
   "id": "eb60c5e6",
   "metadata": {},
   "outputs": [
    {
     "name": "stdout",
     "output_type": "stream",
     "text": [
      "All the csv files are extracted\n",
      "All the csv files are extracted\n",
      "All the csv files are extracted\n",
      "All the csv files are extracted\n",
      "All the csv files are extracted\n",
      "All the csv files are extracted\n",
      "All the csv files are extracted\n",
      "All the csv files are extracted\n",
      "All the csv files are extracted\n",
      "All the csv files are extracted\n",
      "All the csv files are extracted\n",
      "All the csv files are extracted\n",
      "All the csv files are extracted\n",
      "All the csv files are extracted\n",
      "All the csv files are extracted\n",
      "All the csv files are extracted\n",
      "All the csv files are extracted\n",
      "All the csv files are extracted\n",
      "All the csv files are extracted\n",
      "All the csv files are extracted\n",
      "All the csv files are extracted\n",
      "All the csv files are extracted\n",
      "All the csv files are extracted\n",
      "All the csv files are extracted\n"
     ]
    }
   ],
   "source": [
    "directory = \"./data/\"+transp+city +\"/\"\n",
    "for filename in os.listdir(directory):\n",
    "    with ZipFile(directory + filename, 'r') as zipObject:\n",
    "        listOfFileNames = zipObject.namelist()\n",
    "        for fileName in listOfFileNames:\n",
    "            if fileName.endswith('.csv'):\n",
    "                # Extract a single file from zip\n",
    "                zipObject.extract(fileName, directory)\n",
    "        print('All the csv files are extracted')"
   ]
  },
  {
   "cell_type": "code",
   "execution_count": 5,
   "id": "dee632d1",
   "metadata": {},
   "outputs": [],
   "source": [
    "for filename in os.listdir(directory):\n",
    "    if filename.endswith(\".zip\"):\n",
    "            os.remove(os.path.join(directory, filename))\n",
    "    if filename == '__MACOSX':\n",
    "        shutil.rmtree(os.path.join(directory, filename))"
   ]
  },
  {
   "cell_type": "markdown",
   "id": "6a4508c6",
   "metadata": {},
   "source": [
    "# NYC Taxi #"
   ]
  },
  {
   "cell_type": "code",
   "execution_count": 8,
   "id": "44fca996",
   "metadata": {},
   "outputs": [
    {
     "name": "stdout",
     "output_type": "stream",
     "text": [
      "1\n",
      "2018\n",
      "2019\n",
      "2\n",
      "2018\n",
      "2019\n",
      "3\n",
      "2018\n",
      "2019\n",
      "4\n",
      "2018\n",
      "2019\n",
      "5\n",
      "2018\n",
      "2019\n",
      "6\n",
      "2018\n",
      "2019\n",
      "7\n",
      "2018\n",
      "2019\n",
      "8\n",
      "2018\n",
      "2019\n",
      "9\n",
      "2018\n",
      "2019\n",
      "10\n",
      "2018\n",
      "2019\n",
      "11\n",
      "2018\n",
      "2019\n",
      "12\n",
      "2018\n",
      "2019\n",
      "Wall time: 2h 9min 27s\n"
     ]
    }
   ],
   "source": [
    "%%time\n",
    "city = 'NYC'\n",
    "transp = 'Taxi'\n",
    "for i in range (1,13):\n",
    "    print(i)\n",
    "    for year in range (2018,2020):\n",
    "        print(year)\n",
    "        filename = \"yellow_tripdata_\"+str(year)+ \"-\" + \"%.2d\" % i +'.csv'\n",
    "        url = \"https://s3.amazonaws.com/nyc-tlc/trip+data/\" + filename\n",
    "        req = requests.get(url)\n",
    "        url_content = req.content\n",
    "        csv_file = open(\"./data/\"+transp+city+\"/\"+filename, 'wb')\n",
    "        csv_file.write(url_content)\n",
    "        csv_file.close()"
   ]
  },
  {
   "cell_type": "markdown",
   "id": "8c6fbf0d",
   "metadata": {},
   "source": [
    "# CHI BIKE #"
   ]
  },
  {
   "cell_type": "code",
   "execution_count": 11,
   "id": "a1c329f6",
   "metadata": {},
   "outputs": [
    {
     "name": "stdout",
     "output_type": "stream",
     "text": [
      "1\n",
      "2018\n",
      "2019\n",
      "2\n",
      "2018\n",
      "2019\n",
      "3\n",
      "2018\n",
      "2019\n",
      "4\n",
      "2018\n",
      "2019\n",
      "Wall time: 1min 35s\n"
     ]
    }
   ],
   "source": [
    "%%time\n",
    "city = 'CHI'\n",
    "transp = 'Bike'\n",
    "for i in range (1,5):\n",
    "    print(i)\n",
    "    for year in range (2018,2020):\n",
    "        print(year)        \n",
    "        filename = 'Divvy_Trips_' +str(year) + \"_Q\" +str(i) +\".zip\"\n",
    "        url = \"https://divvy-tripdata.s3.amazonaws.com/\" + filename\n",
    "        req = requests.get(url)\n",
    "        url_content = req.content\n",
    "        csv_file = open(\"./data/\"+transp+city+\"/\"+filename, 'wb')\n",
    "        csv_file.write(url_content)\n",
    "        csv_file.close()"
   ]
  },
  {
   "cell_type": "code",
   "execution_count": null,
   "id": "51027ce5",
   "metadata": {},
   "outputs": [],
   "source": [
    "directory = \"./data/\"+transp+city +\"/\"\n",
    "for filename in os.listdir(directory):\n",
    "    with ZipFile(directory + filename, 'r') as zipObject:\n",
    "        listOfFileNames = zipObject.namelist()\n",
    "        for fileName in listOfFileNames:\n",
    "            if fileName.endswith('.csv'):\n",
    "                # Extract a single file from zip\n",
    "                zipObject.extract(fileName, directory)\n",
    "        print('All the csv files are extracted')\n",
    "        "
   ]
  },
  {
   "cell_type": "code",
   "execution_count": 31,
   "id": "4721d026",
   "metadata": {},
   "outputs": [],
   "source": [
    "for filename in os.listdir(directory):\n",
    "    if filename.endswith(\".zip\"):\n",
    "            os.remove(os.path.join(directory, filename))\n",
    "    if filename == '__MACOSX':\n",
    "        shutil.rmtree(os.path.join(directory, filename))"
   ]
  },
  {
   "cell_type": "markdown",
   "id": "30f9e605",
   "metadata": {},
   "source": [
    "# CHI TAXI #"
   ]
  },
  {
   "cell_type": "markdown",
   "id": "sustainable-observer",
   "metadata": {},
   "source": [
    "Data for chicago taxi are updated frequently. The model was trained on a version that is precedent to the one actually present on the City of Chicago website. If you want to download the  up-to-date data, please execute the 2 following cells. Nevertheless, we have pre-calculated (and uploaded) the adjacency matrix resulting from the data at the time of our download. You can find them in the folder ```adj/TaxiCHI```."
   ]
  },
  {
   "cell_type": "code",
   "execution_count": null,
   "id": "03bdbeca",
   "metadata": {},
   "outputs": [],
   "source": [
    "%%time\n",
    "city = 'CHI'\n",
    "transp = 'Taxi'\n",
    "\n",
    "url = \"https://data.cityofchicago.org/api/views/vbsw-zws8/rows.csv?accessType=DOWNLOAD\"\n",
    "req = requests.get(url)\n",
    "url_content = req.content\n",
    "csv_file = open(\"./data/\"+transp+city+\"/\"+'Taxi_Trips_-_2018.csv', 'wb')\n",
    "csv_file.write(url_content)\n",
    "csv_file.close()"
   ]
  },
  {
   "cell_type": "code",
   "execution_count": 34,
   "id": "ec1a55d3",
   "metadata": {},
   "outputs": [
    {
     "name": "stdout",
     "output_type": "stream",
     "text": [
      "Wall time: 37min 45s\n"
     ]
    }
   ],
   "source": [
    "%%time\n",
    "url = \"https://data.cityofchicago.org/api/views/h4cq-z3dy/rows.csv?accessType=DOWNLOAD\"\n",
    "req = requests.get(url)\n",
    "url_content = req.content\n",
    "csv_file = open(\"./data/\"+transp+city+\"/\"+'Taxi_Trips_-_2019.csv', 'wb')\n",
    "csv_file.write(url_content)\n",
    "csv_file.close()"
   ]
  }
 ],
 "metadata": {
  "kernelspec": {
   "display_name": "Python [conda env: skm]",
   "language": "python",
   "name": "skm"
  },
  "language_info": {
   "codemirror_mode": {
    "name": "ipython",
    "version": 3
   },
   "file_extension": ".py",
   "mimetype": "text/x-python",
   "name": "python",
   "nbconvert_exporter": "python",
   "pygments_lexer": "ipython3",
   "version": "3.7.11"
  }
 },
 "nbformat": 4,
 "nbformat_minor": 5
}
