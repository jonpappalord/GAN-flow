{
 "cells": [
  {
   "cell_type": "code",
   "execution_count": 1,
   "metadata": {
    "id": "x561-XD-JziU"
   },
   "outputs": [],
   "source": [
    "from utils import *\n",
    "\n",
    "import numpy as np\n",
    "import pandas as pd\n",
    "from sklearn.model_selection import train_test_split\n",
    "import itertools\n",
    "from random import sample\n",
    "import pickle\n",
    "from scipy.spatial import distance\n",
    "\n",
    "import random\n",
    "random.seed(3110)\n",
    "\n",
    "%matplotlib inline\n",
    "from matplotlib import pyplot as plt\n",
    "import matplotlib\n",
    "from matplotlib.offsetbox import AnchoredText\n",
    "plt.rcParams[\"figure.figsize\"] = (12, 9) # (w, h)"
   ]
  },
  {
   "cell_type": "code",
   "execution_count": 2,
   "metadata": {},
   "outputs": [],
   "source": [
    "city = 'NYC'\n",
    "transp = 'Taxi'"
   ]
  },
  {
   "cell_type": "code",
   "execution_count": 3,
   "metadata": {},
   "outputs": [
    {
     "data": {
      "text/plain": [
       "array([[0.8       , 1.04457947, 2.08900526, ..., 8.92751626, 8.42290739,\n",
       "        8.35724999],\n",
       "       [1.04457947, 0.8       , 1.04442579, ..., 9.34506394, 8.6144561 ,\n",
       "        8.42166846],\n",
       "       [2.08900526, 1.04442579, 0.8       , ..., 9.85599213, 8.9248904 ,\n",
       "        8.61318888],\n",
       "       ...,\n",
       "       [8.92751626, 9.34506394, 9.85599213, ..., 0.8       , 2.08992727,\n",
       "        3.13466041],\n",
       "       [8.42290739, 8.6144561 , 8.9248904 , ..., 2.08992727, 0.8       ,\n",
       "        1.04473314],\n",
       "       [8.35724999, 8.42166846, 8.61318888, ..., 3.13466041, 1.04473314,\n",
       "        0.8       ]])"
      ]
     },
     "execution_count": 3,
     "metadata": {},
     "output_type": "execute_result"
    }
   ],
   "source": [
    "distanze = np.load(\"./DataLoading/dist_mat_\" +city +\".npy\")\n",
    "np.fill_diagonal(distanze, 0.8)\n",
    "distanze"
   ]
  },
  {
   "cell_type": "code",
   "execution_count": 4,
   "metadata": {},
   "outputs": [],
   "source": [
    "with open(\"./\" +transp + city +\"/fake_set_radiation.txt\", \"rb\") as fp:   # Unpickling\n",
    "    fake_set = pickle.load(fp)"
   ]
  },
  {
   "cell_type": "code",
   "execution_count": 5,
   "metadata": {},
   "outputs": [],
   "source": [
    "with open(\"./\" +transp + city +\"/v_test.txt\", \"rb\") as fp:   # Unpickling\n",
    "    v_test = pickle.load(fp)"
   ]
  },
  {
   "cell_type": "code",
   "execution_count": 6,
   "metadata": {
    "id": "zp2jVvl3XjrJ"
   },
   "outputs": [],
   "source": [
    "number_of_items = np.floor(len(v_test)/(1.5)).astype(int)\n",
    "uno = sample(v_test, number_of_items)\n",
    "due = sample(fake_set, number_of_items)\n",
    "mixed_set_pairs = [pair for pair in itertools.product(uno , due)]"
   ]
  },
  {
   "cell_type": "code",
   "execution_count": 7,
   "metadata": {},
   "outputs": [
    {
     "data": {
      "text/plain": [
       "(146, 146, 9409, 97)"
      ]
     },
     "execution_count": 7,
     "metadata": {},
     "output_type": "execute_result"
    }
   ],
   "source": [
    "len(fake_set), len(v_test), len(mixed_set_pairs), number_of_items"
   ]
  },
  {
   "cell_type": "markdown",
   "metadata": {
    "id": "6mEM3DVeHi9Q"
   },
   "source": [
    "# EXPERIMENTS #"
   ]
  },
  {
   "cell_type": "markdown",
   "metadata": {
    "id": "XzPB9XWoOanV"
   },
   "source": [
    "## EXPERIMENT WEIGHT 1 ##"
   ]
  },
  {
   "cell_type": "code",
   "execution_count": 8,
   "metadata": {
    "id": "PRtuOlDTOZ1S"
   },
   "outputs": [
    {
     "name": "stdout",
     "output_type": "stream",
     "text": [
      "10585\n",
      "Wall time: 22.2 s\n"
     ]
    }
   ],
   "source": [
    "%%time\n",
    "exp_weight_1_sim = get_exp_dist(v_test)\n",
    "print(len(exp_weight_1_sim))"
   ]
  },
  {
   "cell_type": "markdown",
   "metadata": {
    "id": "NwQgygIBTN7A"
   },
   "source": [
    "## EXPERIMENT WEIGHT 2 ##"
   ]
  },
  {
   "cell_type": "code",
   "execution_count": 9,
   "metadata": {
    "id": "0_nKOfgjUsjG"
   },
   "outputs": [
    {
     "name": "stdout",
     "output_type": "stream",
     "text": [
      "10585\n",
      "Wall time: 21.3 s\n"
     ]
    }
   ],
   "source": [
    "%%time\n",
    "exp_weight_2_sim = get_exp_dist(fake_set)\n",
    "print(len(exp_weight_2_sim))"
   ]
  },
  {
   "cell_type": "markdown",
   "metadata": {
    "id": "W7THJs8wWw1W"
   },
   "source": [
    "### EXPERIMENT WEIGHT 3 ##"
   ]
  },
  {
   "cell_type": "code",
   "execution_count": 10,
   "metadata": {
    "id": "juGnCDFka4Rx"
   },
   "outputs": [
    {
     "name": "stdout",
     "output_type": "stream",
     "text": [
      "9409\n",
      "Wall time: 17.7 s\n"
     ]
    }
   ],
   "source": [
    "%%time\n",
    "exp_weight_3_sim =get_exp_dist(mixed_set_pairs, paired = True)\n",
    "print(len(exp_weight_3_sim))\n"
   ]
  },
  {
   "cell_type": "markdown",
   "metadata": {},
   "source": [
    "# WEIGHT-DISTANCES #"
   ]
  },
  {
   "cell_type": "markdown",
   "metadata": {
    "id": "XzPB9XWoOanV"
   },
   "source": [
    "## EXPERIMENT WEIGHT-DIST 1 ##"
   ]
  },
  {
   "cell_type": "code",
   "execution_count": 11,
   "metadata": {
    "id": "PRtuOlDTOZ1S"
   },
   "outputs": [
    {
     "name": "stdout",
     "output_type": "stream",
     "text": [
      "Wall time: 21.5 s\n"
     ]
    }
   ],
   "source": [
    "%%time\n",
    "exp_weight_dist_1_sim = get_exp_dist(v_test,method = \"weight-dist\", distanze = distanze)"
   ]
  },
  {
   "cell_type": "code",
   "execution_count": 12,
   "metadata": {},
   "outputs": [
    {
     "name": "stdout",
     "output_type": "stream",
     "text": [
      "10585\n"
     ]
    }
   ],
   "source": [
    "print(len(exp_weight_dist_1_sim))"
   ]
  },
  {
   "cell_type": "markdown",
   "metadata": {
    "id": "NwQgygIBTN7A"
   },
   "source": [
    "## EXPERIMENT WEIGHT-DIST 2 ##"
   ]
  },
  {
   "cell_type": "code",
   "execution_count": 13,
   "metadata": {
    "id": "0_nKOfgjUsjG"
   },
   "outputs": [
    {
     "name": "stdout",
     "output_type": "stream",
     "text": [
      "Wall time: 25.5 s\n"
     ]
    }
   ],
   "source": [
    "%%time\n",
    "exp_weight_dist_2_sim = get_exp_dist(fake_set,method = \"weight-dist\", distanze = distanze)"
   ]
  },
  {
   "cell_type": "code",
   "execution_count": 14,
   "metadata": {
    "id": "laqIddf_U3Bo"
   },
   "outputs": [
    {
     "name": "stdout",
     "output_type": "stream",
     "text": [
      "10585\n"
     ]
    }
   ],
   "source": [
    "print(len(exp_weight_dist_2_sim))"
   ]
  },
  {
   "cell_type": "markdown",
   "metadata": {
    "id": "W7THJs8wWw1W"
   },
   "source": [
    "## EXPERIMENT WEIGHT-DIST 3 ##"
   ]
  },
  {
   "cell_type": "code",
   "execution_count": 15,
   "metadata": {
    "id": "zp2jVvl3XjrJ"
   },
   "outputs": [],
   "source": [
    "mixed_set_pairs = [pair for pair in itertools.product(uno , due)]"
   ]
  },
  {
   "cell_type": "code",
   "execution_count": 16,
   "metadata": {
    "id": "juGnCDFka4Rx"
   },
   "outputs": [
    {
     "name": "stdout",
     "output_type": "stream",
     "text": [
      "Wall time: 20.9 s\n"
     ]
    }
   ],
   "source": [
    "%%time\n",
    "exp_weight_dist_3_sim =get_exp_dist(mixed_set_pairs, paired = True, method = \"weight-dist\", distanze = distanze)"
   ]
  },
  {
   "cell_type": "code",
   "execution_count": 17,
   "metadata": {
    "id": "08mbubRja4SR"
   },
   "outputs": [
    {
     "name": "stdout",
     "output_type": "stream",
     "text": [
      "9409\n"
     ]
    }
   ],
   "source": [
    "print(len(exp_weight_dist_3_sim))"
   ]
  },
  {
   "cell_type": "markdown",
   "metadata": {},
   "source": [
    "# OTHER MEASURES #"
   ]
  },
  {
   "cell_type": "markdown",
   "metadata": {},
   "source": [
    "### WARNING, COMPUTATIONLLY REALLY HEAVY ###"
   ]
  },
  {
   "cell_type": "markdown",
   "metadata": {
    "id": "4FnCq26Cgzfl"
   },
   "source": [
    "## EXPERIMENT CUTNORM 1 ##"
   ]
  },
  {
   "cell_type": "code",
   "execution_count": 18,
   "metadata": {
    "id": "IZGkLTt4RRln"
   },
   "outputs": [
    {
     "name": "stdout",
     "output_type": "stream",
     "text": [
      "10585\n",
      "Wall time: 53min 9s\n"
     ]
    }
   ],
   "source": [
    "%%time\n",
    "exp_cutnorm_1_sim = get_exp_measures(v_test, method = \"cutnorm\")\n",
    "print(len(exp_cutnorm_1_sim))"
   ]
  },
  {
   "cell_type": "markdown",
   "metadata": {
    "id": "olo2K08ERRmH"
   },
   "source": [
    "## EXPERIMENT CUTNORM 2 ##"
   ]
  },
  {
   "cell_type": "code",
   "execution_count": 19,
   "metadata": {
    "id": "-y2zQiXXRRmI"
   },
   "outputs": [
    {
     "name": "stdout",
     "output_type": "stream",
     "text": [
      "10585\n",
      "Wall time: 55min 17s\n"
     ]
    }
   ],
   "source": [
    "%%time\n",
    "exp_cutnorm_2_sim = get_exp_measures(fake_set, method = \"cutnorm\")\n",
    "print(len(exp_cutnorm_2_sim))"
   ]
  },
  {
   "cell_type": "markdown",
   "metadata": {
    "id": "omk2JlX0RRmK"
   },
   "source": [
    "## EXPERIMENT CUTNORM 3 ##"
   ]
  },
  {
   "cell_type": "code",
   "execution_count": 20,
   "metadata": {
    "id": "1FF59hplRRmL"
   },
   "outputs": [
    {
     "ename": "KeyboardInterrupt",
     "evalue": "",
     "output_type": "error",
     "traceback": [
      "\u001b[1;31m---------------------------------------------------------------------------\u001b[0m",
      "\u001b[1;31mKeyboardInterrupt\u001b[0m                         Traceback (most recent call last)",
      "\u001b[1;32m<timed exec>\u001b[0m in \u001b[0;36m<module>\u001b[1;34m\u001b[0m\n",
      "\u001b[1;32m~\\Desktop\\MoGAN\\utils.py\u001b[0m in \u001b[0;36mget_exp_measures\u001b[1;34m(lista, paired, method)\u001b[0m\n\u001b[0;32m     55\u001b[0m     \u001b[1;32mif\u001b[0m \u001b[0mmethod\u001b[0m \u001b[1;33m==\u001b[0m\u001b[1;34m\"cutnorm\"\u001b[0m\u001b[1;33m:\u001b[0m\u001b[1;33m\u001b[0m\u001b[1;33m\u001b[0m\u001b[0m\n\u001b[0;32m     56\u001b[0m         \u001b[1;32mfor\u001b[0m \u001b[0mpair\u001b[0m \u001b[1;32min\u001b[0m \u001b[0minsieme\u001b[0m\u001b[1;33m:\u001b[0m\u001b[1;33m\u001b[0m\u001b[1;33m\u001b[0m\u001b[0m\n\u001b[1;32m---> 57\u001b[1;33m                 \u001b[0m_\u001b[0m\u001b[1;33m,\u001b[0m \u001b[0mcutn_sdp\u001b[0m\u001b[1;33m,\u001b[0m \u001b[0m_\u001b[0m \u001b[1;33m=\u001b[0m \u001b[0mcompute_cutnorm\u001b[0m\u001b[1;33m(\u001b[0m\u001b[0mpair\u001b[0m\u001b[1;33m[\u001b[0m\u001b[1;36m0\u001b[0m\u001b[1;33m]\u001b[0m\u001b[1;33m,\u001b[0m \u001b[0mpair\u001b[0m\u001b[1;33m[\u001b[0m\u001b[1;36m1\u001b[0m\u001b[1;33m]\u001b[0m\u001b[1;33m)\u001b[0m\u001b[1;33m\u001b[0m\u001b[1;33m\u001b[0m\u001b[0m\n\u001b[0m\u001b[0;32m     58\u001b[0m                 \u001b[0mexp\u001b[0m\u001b[1;33m.\u001b[0m\u001b[0mappend\u001b[0m\u001b[1;33m(\u001b[0m\u001b[0mcutn_sdp\u001b[0m\u001b[1;33m)\u001b[0m\u001b[1;33m\u001b[0m\u001b[1;33m\u001b[0m\u001b[0m\n\u001b[0;32m     59\u001b[0m \u001b[1;33m\u001b[0m\u001b[0m\n",
      "\u001b[1;32m~\\anaconda3\\envs\\skm\\lib\\site-packages\\cutnorm\\compute.py\u001b[0m in \u001b[0;36mcompute_cutnorm\u001b[1;34m(A, B, w1, w2, max_round_iter, logn_lowrank, extra_info)\u001b[0m\n\u001b[0;32m     83\u001b[0m \u001b[1;33m\u001b[0m\u001b[0m\n\u001b[0;32m     84\u001b[0m     cutnorm_round, cutnorm_sdp, info = _compute_cutnorm(\n\u001b[1;32m---> 85\u001b[1;33m         C, max_round_iter, logn_lowrank, extra_info)\n\u001b[0m\u001b[0;32m     86\u001b[0m \u001b[1;33m\u001b[0m\u001b[0m\n\u001b[0;32m     87\u001b[0m     \u001b[1;31m# Add weight vector into extra_info info\u001b[0m\u001b[1;33m\u001b[0m\u001b[1;33m\u001b[0m\u001b[1;33m\u001b[0m\u001b[0m\n",
      "\u001b[1;32m~\\anaconda3\\envs\\skm\\lib\\site-packages\\cutnorm\\compute.py\u001b[0m in \u001b[0;36m_compute_cutnorm\u001b[1;34m(C, max_round_iter, logn_lowrank, extra_info)\u001b[0m\n\u001b[0;32m    268\u001b[0m         \u001b[0mxtol\u001b[0m\u001b[1;33m=\u001b[0m\u001b[1;36m1e-8\u001b[0m\u001b[1;33m,\u001b[0m\u001b[1;33m\u001b[0m\u001b[1;33m\u001b[0m\u001b[0m\n\u001b[0;32m    269\u001b[0m         \u001b[0mftol\u001b[0m\u001b[1;33m=\u001b[0m\u001b[1;36m1e-10\u001b[0m\u001b[1;33m,\u001b[0m\u001b[1;33m\u001b[0m\u001b[1;33m\u001b[0m\u001b[0m\n\u001b[1;32m--> 270\u001b[1;33m         tau=1e-3)\n\u001b[0m\u001b[0;32m    271\u001b[0m     \u001b[0mtoc_sdp\u001b[0m \u001b[1;33m=\u001b[0m \u001b[0mtime\u001b[0m\u001b[1;33m.\u001b[0m\u001b[0mtime\u001b[0m\u001b[1;33m(\u001b[0m\u001b[1;33m)\u001b[0m\u001b[1;33m\u001b[0m\u001b[1;33m\u001b[0m\u001b[0m\n\u001b[0;32m    272\u001b[0m     \u001b[0mtsolve_sdp\u001b[0m \u001b[1;33m=\u001b[0m \u001b[0mtoc_sdp\u001b[0m \u001b[1;33m-\u001b[0m \u001b[0mtic_sdp\u001b[0m\u001b[1;33m\u001b[0m\u001b[1;33m\u001b[0m\u001b[0m\n",
      "\u001b[1;32m~\\anaconda3\\envs\\skm\\lib\\site-packages\\cutnorm\\OptManiMulitBallGBB.py\u001b[0m in \u001b[0;36mopt_mani_mulit_ball_gbb\u001b[1;34m(x, fun, args, xtol, ftol, gtol, rho, eta, gamma, tau, nt, mxitr, record)\u001b[0m\n\u001b[0;32m    115\u001b[0m         \u001b[0mxtg\u001b[0m \u001b[1;33m=\u001b[0m \u001b[0mnp\u001b[0m\u001b[1;33m.\u001b[0m\u001b[0msum\u001b[0m\u001b[1;33m(\u001b[0m\u001b[0mx\u001b[0m \u001b[1;33m*\u001b[0m \u001b[0mg\u001b[0m\u001b[1;33m,\u001b[0m \u001b[0maxis\u001b[0m\u001b[1;33m=\u001b[0m\u001b[1;36m0\u001b[0m\u001b[1;33m)\u001b[0m\u001b[1;33m\u001b[0m\u001b[1;33m\u001b[0m\u001b[0m\n\u001b[0;32m    116\u001b[0m         \u001b[0mgg\u001b[0m \u001b[1;33m=\u001b[0m \u001b[0mnp\u001b[0m\u001b[1;33m.\u001b[0m\u001b[0msum\u001b[0m\u001b[1;33m(\u001b[0m\u001b[0mg\u001b[0m \u001b[1;33m*\u001b[0m \u001b[0mg\u001b[0m\u001b[1;33m,\u001b[0m \u001b[0maxis\u001b[0m\u001b[1;33m=\u001b[0m\u001b[1;36m0\u001b[0m\u001b[1;33m)\u001b[0m\u001b[1;33m\u001b[0m\u001b[1;33m\u001b[0m\u001b[0m\n\u001b[1;32m--> 117\u001b[1;33m         \u001b[0mxx\u001b[0m \u001b[1;33m=\u001b[0m \u001b[0mnp\u001b[0m\u001b[1;33m.\u001b[0m\u001b[0msum\u001b[0m\u001b[1;33m(\u001b[0m\u001b[0mx\u001b[0m \u001b[1;33m*\u001b[0m \u001b[0mx\u001b[0m\u001b[1;33m,\u001b[0m \u001b[0maxis\u001b[0m\u001b[1;33m=\u001b[0m\u001b[1;36m0\u001b[0m\u001b[1;33m)\u001b[0m\u001b[1;33m\u001b[0m\u001b[1;33m\u001b[0m\u001b[0m\n\u001b[0m\u001b[0;32m    118\u001b[0m         \u001b[0mxxgg\u001b[0m \u001b[1;33m=\u001b[0m \u001b[0mxx\u001b[0m \u001b[1;33m*\u001b[0m \u001b[0mgg\u001b[0m\u001b[1;33m\u001b[0m\u001b[1;33m\u001b[0m\u001b[0m\n\u001b[0;32m    119\u001b[0m         \u001b[0mdtX\u001b[0m \u001b[1;33m=\u001b[0m \u001b[0mx\u001b[0m \u001b[1;33m*\u001b[0m \u001b[0mxtg\u001b[0m \u001b[1;33m-\u001b[0m \u001b[0mg\u001b[0m\u001b[1;33m\u001b[0m\u001b[1;33m\u001b[0m\u001b[0m\n",
      "\u001b[1;32m<__array_function__ internals>\u001b[0m in \u001b[0;36msum\u001b[1;34m(*args, **kwargs)\u001b[0m\n",
      "\u001b[1;32m~\\anaconda3\\envs\\skm\\lib\\site-packages\\numpy\\core\\fromnumeric.py\u001b[0m in \u001b[0;36msum\u001b[1;34m(a, axis, dtype, out, keepdims, initial, where)\u001b[0m\n\u001b[0;32m   2258\u001b[0m \u001b[1;33m\u001b[0m\u001b[0m\n\u001b[0;32m   2259\u001b[0m     return _wrapreduction(a, np.add, 'sum', axis, dtype, out, keepdims=keepdims,\n\u001b[1;32m-> 2260\u001b[1;33m                           initial=initial, where=where)\n\u001b[0m\u001b[0;32m   2261\u001b[0m \u001b[1;33m\u001b[0m\u001b[0m\n\u001b[0;32m   2262\u001b[0m \u001b[1;33m\u001b[0m\u001b[0m\n",
      "\u001b[1;32m~\\anaconda3\\envs\\skm\\lib\\site-packages\\numpy\\core\\fromnumeric.py\u001b[0m in \u001b[0;36m_wrapreduction\u001b[1;34m(obj, ufunc, method, axis, dtype, out, **kwargs)\u001b[0m\n\u001b[0;32m     84\u001b[0m                 \u001b[1;32mreturn\u001b[0m \u001b[0mreduction\u001b[0m\u001b[1;33m(\u001b[0m\u001b[0maxis\u001b[0m\u001b[1;33m=\u001b[0m\u001b[0maxis\u001b[0m\u001b[1;33m,\u001b[0m \u001b[0mout\u001b[0m\u001b[1;33m=\u001b[0m\u001b[0mout\u001b[0m\u001b[1;33m,\u001b[0m \u001b[1;33m**\u001b[0m\u001b[0mpasskwargs\u001b[0m\u001b[1;33m)\u001b[0m\u001b[1;33m\u001b[0m\u001b[1;33m\u001b[0m\u001b[0m\n\u001b[0;32m     85\u001b[0m \u001b[1;33m\u001b[0m\u001b[0m\n\u001b[1;32m---> 86\u001b[1;33m     \u001b[1;32mreturn\u001b[0m \u001b[0mufunc\u001b[0m\u001b[1;33m.\u001b[0m\u001b[0mreduce\u001b[0m\u001b[1;33m(\u001b[0m\u001b[0mobj\u001b[0m\u001b[1;33m,\u001b[0m \u001b[0maxis\u001b[0m\u001b[1;33m,\u001b[0m \u001b[0mdtype\u001b[0m\u001b[1;33m,\u001b[0m \u001b[0mout\u001b[0m\u001b[1;33m,\u001b[0m \u001b[1;33m**\u001b[0m\u001b[0mpasskwargs\u001b[0m\u001b[1;33m)\u001b[0m\u001b[1;33m\u001b[0m\u001b[1;33m\u001b[0m\u001b[0m\n\u001b[0m\u001b[0;32m     87\u001b[0m \u001b[1;33m\u001b[0m\u001b[0m\n\u001b[0;32m     88\u001b[0m \u001b[1;33m\u001b[0m\u001b[0m\n",
      "\u001b[1;31mKeyboardInterrupt\u001b[0m: "
     ]
    }
   ],
   "source": [
    "%%time\n",
    "exp_cutnorm_3_sim = get_exp_measures(mixed_set_pairs, paired = True, method=\"cutnorm\")\n",
    "print(len(exp_cutnorm_3_sim))"
   ]
  },
  {
   "cell_type": "markdown",
   "metadata": {},
   "source": [
    "## EXPERIMENT CPC 1 ##"
   ]
  },
  {
   "cell_type": "code",
   "execution_count": null,
   "metadata": {
    "id": "IZGkLTt4RRln"
   },
   "outputs": [],
   "source": [
    "%%time\n",
    "exp_cpc_1_sim = get_exp_measures(v_test, method = \"cpc\")"
   ]
  },
  {
   "cell_type": "code",
   "execution_count": null,
   "metadata": {
    "id": "4BO0cyuoRRmE"
   },
   "outputs": [],
   "source": [
    "print(len(exp_cpc_1_sim))"
   ]
  },
  {
   "cell_type": "markdown",
   "metadata": {
    "id": "olo2K08ERRmH"
   },
   "source": [
    "## EXPERIMENT CPC 2 ##"
   ]
  },
  {
   "cell_type": "code",
   "execution_count": null,
   "metadata": {
    "id": "-y2zQiXXRRmI"
   },
   "outputs": [],
   "source": [
    "%%time\n",
    "exp_cpc_2_sim = get_exp_measures(fake_set, method = \"cpc\")"
   ]
  },
  {
   "cell_type": "code",
   "execution_count": null,
   "metadata": {
    "id": "FCsQUj0rRRmJ"
   },
   "outputs": [],
   "source": [
    "print(len(exp_cpc_2_sim))"
   ]
  },
  {
   "cell_type": "markdown",
   "metadata": {
    "id": "omk2JlX0RRmK"
   },
   "source": [
    "## EXPERIMENT CPC 3 ##"
   ]
  },
  {
   "cell_type": "code",
   "execution_count": null,
   "metadata": {
    "id": "1FF59hplRRmL"
   },
   "outputs": [],
   "source": [
    "%%time\n",
    "exp_cpc_3_sim = get_exp_measures(mixed_set_pairs, paired = True, method=\"cpc\")"
   ]
  },
  {
   "cell_type": "code",
   "execution_count": null,
   "metadata": {},
   "outputs": [],
   "source": [
    "print(len(exp_cpc_3_sim))"
   ]
  },
  {
   "cell_type": "markdown",
   "metadata": {},
   "source": [
    "## EXPERIMENT RMSE 1 ##"
   ]
  },
  {
   "cell_type": "code",
   "execution_count": 47,
   "metadata": {
    "id": "IZGkLTt4RRln"
   },
   "outputs": [
    {
     "name": "stdout",
     "output_type": "stream",
     "text": [
      "Wall time: 1.83 s\n"
     ]
    }
   ],
   "source": [
    "%%time\n",
    "exp_rmse_1_sim = get_exp_measures(v_test, method = \"rmse\")"
   ]
  },
  {
   "cell_type": "code",
   "execution_count": 48,
   "metadata": {
    "id": "4BO0cyuoRRmE"
   },
   "outputs": [
    {
     "name": "stdout",
     "output_type": "stream",
     "text": [
      "10585\n"
     ]
    }
   ],
   "source": [
    "print(len(exp_rmse_1_sim))"
   ]
  },
  {
   "cell_type": "markdown",
   "metadata": {
    "id": "olo2K08ERRmH"
   },
   "source": [
    "## EXPERIMENT RMSE 2 ##"
   ]
  },
  {
   "cell_type": "code",
   "execution_count": 49,
   "metadata": {
    "id": "-y2zQiXXRRmI"
   },
   "outputs": [
    {
     "name": "stdout",
     "output_type": "stream",
     "text": [
      "Wall time: 1.71 s\n"
     ]
    }
   ],
   "source": [
    "%%time\n",
    "exp_rmse_2_sim = get_exp_measures(fake_set, method = \"rmse\")"
   ]
  },
  {
   "cell_type": "code",
   "execution_count": 50,
   "metadata": {
    "id": "FCsQUj0rRRmJ"
   },
   "outputs": [
    {
     "name": "stdout",
     "output_type": "stream",
     "text": [
      "10585\n"
     ]
    }
   ],
   "source": [
    "print(len(exp_rmse_2_sim))"
   ]
  },
  {
   "cell_type": "markdown",
   "metadata": {
    "id": "omk2JlX0RRmK"
   },
   "source": [
    "## EXPERIMENT RMSE 3 ##"
   ]
  },
  {
   "cell_type": "code",
   "execution_count": 51,
   "metadata": {
    "id": "1FF59hplRRmL"
   },
   "outputs": [
    {
     "name": "stdout",
     "output_type": "stream",
     "text": [
      "Wall time: 2.44 s\n"
     ]
    }
   ],
   "source": [
    "%%time\n",
    "exp_rmse_3_sim = get_exp_measures(mixed_set_pairs, paired = True, method=\"rmse\")"
   ]
  },
  {
   "cell_type": "code",
   "execution_count": 52,
   "metadata": {},
   "outputs": [
    {
     "name": "stdout",
     "output_type": "stream",
     "text": [
      "9409\n"
     ]
    }
   ],
   "source": [
    "print(len(exp_rmse_3_sim))"
   ]
  },
  {
   "cell_type": "markdown",
   "metadata": {
    "tags": []
   },
   "source": [
    "## EXPERIMENT Kernel 1 ##"
   ]
  },
  {
   "cell_type": "code",
   "execution_count": 8,
   "metadata": {},
   "outputs": [
    {
     "name": "stdout",
     "output_type": "stream",
     "text": [
      "10585\n",
      "CPU times: user 492 ms, sys: 23.4 ms, total: 515 ms\n",
      "Wall time: 523 ms\n"
     ]
    }
   ],
   "source": [
    "%%time\n",
    "exp_kernel_1_sim = get_exp_kernel(v_test)\n",
    "print(len(exp_kernel_1_sim))"
   ]
  },
  {
   "cell_type": "markdown",
   "metadata": {},
   "source": [
    "## EXPERIMENT Kernel 2 ##"
   ]
  },
  {
   "cell_type": "code",
   "execution_count": 9,
   "metadata": {},
   "outputs": [
    {
     "name": "stdout",
     "output_type": "stream",
     "text": [
      "10585\n",
      "CPU times: user 356 ms, sys: 10.6 ms, total: 367 ms\n",
      "Wall time: 365 ms\n"
     ]
    }
   ],
   "source": [
    "%%time\n",
    "exp_kernel_2_sim = get_exp_kernel(fake_set)\n",
    "print(len(exp_kernel_2_sim))"
   ]
  },
  {
   "cell_type": "markdown",
   "metadata": {},
   "source": [
    "## EXPERIMENT Kernel 3 ##"
   ]
  },
  {
   "cell_type": "code",
   "execution_count": 10,
   "metadata": {},
   "outputs": [
    {
     "name": "stderr",
     "output_type": "stream",
     "text": [
      "100%|██████████████████████████████████████| 9409/9409 [00:49<00:00, 189.84it/s]"
     ]
    },
    {
     "name": "stdout",
     "output_type": "stream",
     "text": [
      "9409\n",
      "CPU times: user 49.4 s, sys: 396 ms, total: 49.8 s\n",
      "Wall time: 49.6 s\n"
     ]
    },
    {
     "name": "stderr",
     "output_type": "stream",
     "text": [
      "\n"
     ]
    }
   ],
   "source": [
    "%%time\n",
    "exp_kernel_3_sim = get_exp_kernel(mixed_set_pairs, paired = True)\n",
    "print(len(exp_kernel_3_sim))"
   ]
  },
  {
   "cell_type": "code",
   "execution_count": 11,
   "metadata": {},
   "outputs": [],
   "source": [
    "with open(\"./\" + transp+city+\"/experiments/kernel/Radiation/1.txt\", \"wb\") as fp:   #Pickling\n",
    "    pickle.dump(exp_kernel_1_sim, fp)\n",
    "with open(\"./\" + transp+city+\"/experiments/kernel/Radiation/2.txt\", \"wb\") as fp:   #Pickling\n",
    "    pickle.dump(exp_kernel_2_sim, fp)\n",
    "with open(\"./\" + transp+city+\"/experiments/kernel/Radiation/3.txt\", \"wb\") as fp:   #Pickling\n",
    "    pickle.dump(exp_kernel_3_sim, fp)"
   ]
  },
  {
   "cell_type": "code",
   "execution_count": 53,
   "metadata": {},
   "outputs": [
    {
     "data": {
      "text/plain": [
       "'\\nwith open(\"./\" + transp+city+\"/experiments/cpc/Radiation/1.txt\", \"wb\") as fp:   #Pickling\\n    pickle.dump(exp_cpc_1_sim, fp)\\nwith open(\"./\" + transp+city+\"/experiments/cpc/Radiation/2.txt\", \"wb\") as fp:   #Pickling\\n    pickle.dump(exp_cpc_2_sim, fp)\\nwith open(\"./\" + transp+city+\"/experiments/cpc/Radiation/3.txt\", \"wb\") as fp:   #Pickling\\n    pickle.dump(exp_cpc_3_sim, fp)\\n'"
      ]
     },
     "execution_count": 53,
     "metadata": {},
     "output_type": "execute_result"
    }
   ],
   "source": [
    "\n",
    "with open(\"./\" + transp+city+\"/experiments/weight/Radiation/1.txt\", \"wb\") as fp:   #Pickling\n",
    "    pickle.dump(exp_weight_1_sim, fp)\n",
    "with open(\"./\" + transp+city+\"/experiments/weight/Radiation/2.txt\", \"wb\") as fp:   #Pickling\n",
    "    pickle.dump(exp_weight_2_sim, fp)\n",
    "with open(\"./\" + transp+city+\"/experiments/weight/Radiation/3.txt\", \"wb\") as fp:   #Pickling\n",
    "    pickle.dump(exp_weight_3_sim, fp)\n",
    "    \n",
    "with open(\"./\" + transp+city+\"/experiments/weightdist/Radiation/1.txt\", \"wb\") as fp:   #Pickling\n",
    "    pickle.dump(exp_weight_dist_1_sim, fp)\n",
    "with open(\"./\" + transp+city+\"/experiments/weightdist/Radiation/2.txt\", \"wb\") as fp:   #Pickling\n",
    "    pickle.dump(exp_weight_dist_2_sim, fp)\n",
    "with open(\"./\" + transp+city+\"/experiments/weightdist/Radiation/3.txt\", \"wb\") as fp:   #Pickling\n",
    "    pickle.dump(exp_weight_dist_3_sim, fp)\n",
    "    \n",
    "with open(\"./\" + transp+city+\"/experiments/cutnorm/Radiation/1.txt\", \"wb\") as fp:   #Pickling\n",
    "    pickle.dump(exp_cutnorm_1_sim, fp)\n",
    "with open(\"./\" + transp+city+\"/experiments/cutnorm/Radiation/2.txt\", \"wb\") as fp:   #Pickling\n",
    "    pickle.dump(exp_cutnorm_2_sim, fp)\n",
    "with open(\"./\" + transp+city+\"/experiments/cutnorm/Radiation/3.txt\", \"wb\") as fp:   #Pickling\n",
    "    pickle.dump(exp_cutnorm_3_sim, fp)\n",
    "\n",
    "\n",
    "with open(\"./\" + transp+city+\"/experiments/rmse/Radiation/1.txt\", \"wb\") as fp:   #Pickling\n",
    "    pickle.dump(exp_rmse_1_sim, fp)\n",
    "with open(\"./\" + transp+city+\"/experiments/rmse/Radiation/2.txt\", \"wb\") as fp:   #Pickling\n",
    "    pickle.dump(exp_rmse_2_sim, fp)\n",
    "with open(\"./\" + transp+city+\"/experiments/rmse/Radiation/3.txt\", \"wb\") as fp:   #Pickling\n",
    "    pickle.dump(exp_rmse_3_sim, fp)\n",
    "\n",
    "\n",
    "with open(\"./\" + transp+city+\"/experiments/cpc/Radiation/1.txt\", \"wb\") as fp:   #Pickling\n",
    "    pickle.dump(exp_cpc_1_sim, fp)\n",
    "with open(\"./\" + transp+city+\"/experiments/cpc/Radiation/2.txt\", \"wb\") as fp:   #Pickling\n",
    "    pickle.dump(exp_cpc_2_sim, fp)\n",
    "with open(\"./\" + transp+city+\"/experiments/cpc/Radiation/3.txt\", \"wb\") as fp:   #Pickling\n",
    "    pickle.dump(exp_cpc_3_sim, fp)\n"
   ]
  },
  {
   "cell_type": "code",
   "execution_count": null,
   "metadata": {},
   "outputs": [],
   "source": []
  }
 ],
 "metadata": {
  "accelerator": "GPU",
  "colab": {
   "name": "DCGAN-backupBCN.ipynb",
   "provenance": []
  },
  "kernelspec": {
   "display_name": "Python [conda env:skm]",
   "language": "python",
   "name": "skm"
  },
  "language_info": {
   "codemirror_mode": {
    "name": "ipython",
    "version": 3
   },
   "file_extension": ".py",
   "mimetype": "text/x-python",
   "name": "python",
   "nbconvert_exporter": "python",
   "pygments_lexer": "ipython3",
   "version": "3.7.13"
  }
 },
 "nbformat": 4,
 "nbformat_minor": 4
}
