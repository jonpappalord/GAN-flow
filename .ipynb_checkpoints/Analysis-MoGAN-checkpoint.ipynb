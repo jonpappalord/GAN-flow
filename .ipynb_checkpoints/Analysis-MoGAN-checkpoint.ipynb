{
 "cells": [
  {
   "cell_type": "code",
   "execution_count": 22,
   "metadata": {
    "id": "x561-XD-JziU"
   },
   "outputs": [],
   "source": [
    "from utils import *\n",
    "\n",
    "import numpy as np\n",
    "import pandas as pd\n",
    "from sklearn.model_selection import train_test_split\n",
    "import itertools\n",
    "from random import sample\n",
    "import pickle\n",
    "from scipy.spatial import distance\n",
    "\n",
    "import random\n",
    "random.seed(3110)\n",
    "\n",
    "%matplotlib inline\n",
    "from matplotlib import pyplot as plt\n",
    "from matplotlib.offsetbox import AnchoredText\n",
    "plt.rcParams[\"figure.figsize\"] = (12, 9) # (w, h)"
   ]
  },
  {
   "cell_type": "code",
   "execution_count": 33,
   "metadata": {},
   "outputs": [],
   "source": [
    "city = 'CHI'\n",
    "transp = 'Bike'"
   ]
  },
  {
   "cell_type": "code",
   "execution_count": 34,
   "metadata": {},
   "outputs": [
    {
     "data": {
      "text/plain": [
       "array([[0.8       , 1.04457947, 2.08900526, ..., 8.92751626, 8.42290739,\n",
       "        8.35724999],\n",
       "       [1.04457947, 0.8       , 1.04442579, ..., 9.34506394, 8.6144561 ,\n",
       "        8.42166846],\n",
       "       [2.08900526, 1.04442579, 0.8       , ..., 9.85599213, 8.9248904 ,\n",
       "        8.61318888],\n",
       "       ...,\n",
       "       [8.92751626, 9.34506394, 9.85599213, ..., 0.8       , 2.08992727,\n",
       "        3.13466041],\n",
       "       [8.42290739, 8.6144561 , 8.9248904 , ..., 2.08992727, 0.8       ,\n",
       "        1.04473314],\n",
       "       [8.35724999, 8.42166846, 8.61318888, ..., 3.13466041, 1.04473314,\n",
       "        0.8       ]])"
      ]
     },
     "execution_count": 34,
     "metadata": {},
     "output_type": "execute_result"
    }
   ],
   "source": [
    "distanze = np.load(\"./DataLoading/dist_mat_\" +city +\".npy\")\n",
    "np.fill_diagonal(distanze, 0.8)\n",
    "distanze"
   ]
  },
  {
   "cell_type": "code",
   "execution_count": 35,
   "metadata": {},
   "outputs": [],
   "source": [
    "with open(\"./\" +transp + city +\"/fake_set.txt\", \"rb\") as fp:   # Unpickling\n",
    "    fake_set = pickle.load(fp)"
   ]
  },
  {
   "cell_type": "code",
   "execution_count": 36,
   "metadata": {},
   "outputs": [],
   "source": [
    "with open(\"./\" +transp + city +\"/v_test.txt\", \"rb\") as fp:   # Unpickling\n",
    "    v_test = pickle.load(fp)"
   ]
  },
  {
   "cell_type": "code",
   "execution_count": 37,
   "metadata": {
    "id": "zp2jVvl3XjrJ"
   },
   "outputs": [],
   "source": [
    "number_of_items = np.floor(len(v_test)/(1.5)).astype(int)\n",
    "uno = sample(v_test, number_of_items)\n",
    "due = sample(fake_set, number_of_items)\n",
    "mixed_set_pairs = [pair for pair in itertools.product(uno , due)]"
   ]
  },
  {
   "cell_type": "code",
   "execution_count": 38,
   "metadata": {},
   "outputs": [
    {
     "data": {
      "text/plain": [
       "(146, 146, 9409, 97)"
      ]
     },
     "execution_count": 38,
     "metadata": {},
     "output_type": "execute_result"
    }
   ],
   "source": [
    "len(fake_set), len(v_test), len(mixed_set_pairs), number_of_items"
   ]
  },
  {
   "cell_type": "markdown",
   "metadata": {
    "id": "6mEM3DVeHi9Q"
   },
   "source": [
    "# EXPERIMENTS #"
   ]
  },
  {
   "cell_type": "markdown",
   "metadata": {
    "id": "XzPB9XWoOanV"
   },
   "source": [
    "## EXPERIMENT WEIGHT 1 ##"
   ]
  },
  {
   "cell_type": "code",
   "execution_count": 8,
   "metadata": {
    "id": "PRtuOlDTOZ1S"
   },
   "outputs": [
    {
     "name": "stdout",
     "output_type": "stream",
     "text": [
      "10585\n",
      "Wall time: 20.9 s\n"
     ]
    }
   ],
   "source": [
    "%%time\n",
    "exp_weight_1_sim = get_exp_dist(v_test)\n",
    "print(len(exp_weight_1_sim))"
   ]
  },
  {
   "cell_type": "markdown",
   "metadata": {
    "id": "NwQgygIBTN7A"
   },
   "source": [
    "## EXPERIMENT WEIGHT 2 ##"
   ]
  },
  {
   "cell_type": "code",
   "execution_count": 9,
   "metadata": {
    "id": "0_nKOfgjUsjG"
   },
   "outputs": [
    {
     "name": "stdout",
     "output_type": "stream",
     "text": [
      "10585\n",
      "Wall time: 19.4 s\n"
     ]
    }
   ],
   "source": [
    "%%time\n",
    "exp_weight_2_sim = get_exp_dist(fake_set)\n",
    "print(len(exp_weight_2_sim))"
   ]
  },
  {
   "cell_type": "markdown",
   "metadata": {
    "id": "W7THJs8wWw1W"
   },
   "source": [
    "### EXPERIMENT WEIGHT 3 ##"
   ]
  },
  {
   "cell_type": "code",
   "execution_count": 10,
   "metadata": {
    "id": "juGnCDFka4Rx"
   },
   "outputs": [
    {
     "name": "stdout",
     "output_type": "stream",
     "text": [
      "9409\n",
      "Wall time: 16.9 s\n"
     ]
    }
   ],
   "source": [
    "%%time\n",
    "exp_weight_3_sim =get_exp_dist(mixed_set_pairs, paired = True)\n",
    "print(len(exp_weight_3_sim))\n"
   ]
  },
  {
   "cell_type": "markdown",
   "metadata": {},
   "source": [
    "# WEIGHT-DISTANCES #"
   ]
  },
  {
   "cell_type": "markdown",
   "metadata": {
    "id": "XzPB9XWoOanV"
   },
   "source": [
    "## EXPERIMENT WEIGHT-DIST 1 ##"
   ]
  },
  {
   "cell_type": "code",
   "execution_count": 11,
   "metadata": {
    "id": "PRtuOlDTOZ1S"
   },
   "outputs": [
    {
     "name": "stdout",
     "output_type": "stream",
     "text": [
      "Wall time: 22.9 s\n"
     ]
    }
   ],
   "source": [
    "%%time\n",
    "exp_weight_dist_1_sim = get_exp_dist(v_test,method = \"weight-dist\", distanze = distanze)"
   ]
  },
  {
   "cell_type": "code",
   "execution_count": 12,
   "metadata": {},
   "outputs": [
    {
     "name": "stdout",
     "output_type": "stream",
     "text": [
      "10585\n"
     ]
    }
   ],
   "source": [
    "print(len(exp_weight_dist_1_sim))"
   ]
  },
  {
   "cell_type": "markdown",
   "metadata": {
    "id": "NwQgygIBTN7A"
   },
   "source": [
    "## EXPERIMENT WEIGHT-DIST 2 ##"
   ]
  },
  {
   "cell_type": "code",
   "execution_count": 13,
   "metadata": {
    "id": "0_nKOfgjUsjG"
   },
   "outputs": [
    {
     "name": "stdout",
     "output_type": "stream",
     "text": [
      "Wall time: 24.5 s\n"
     ]
    }
   ],
   "source": [
    "%%time\n",
    "exp_weight_dist_2_sim = get_exp_dist(fake_set,method = \"weight-dist\", distanze = distanze)"
   ]
  },
  {
   "cell_type": "code",
   "execution_count": 14,
   "metadata": {
    "id": "laqIddf_U3Bo"
   },
   "outputs": [
    {
     "name": "stdout",
     "output_type": "stream",
     "text": [
      "10585\n"
     ]
    }
   ],
   "source": [
    "print(len(exp_weight_dist_2_sim))"
   ]
  },
  {
   "cell_type": "markdown",
   "metadata": {
    "id": "W7THJs8wWw1W"
   },
   "source": [
    "## EXPERIMENT WEIGHT-DIST 3 ##"
   ]
  },
  {
   "cell_type": "code",
   "execution_count": 15,
   "metadata": {
    "id": "zp2jVvl3XjrJ"
   },
   "outputs": [],
   "source": [
    "mixed_set_pairs = [pair for pair in itertools.product(uno , due)]"
   ]
  },
  {
   "cell_type": "code",
   "execution_count": 16,
   "metadata": {
    "id": "juGnCDFka4Rx"
   },
   "outputs": [
    {
     "name": "stdout",
     "output_type": "stream",
     "text": [
      "Wall time: 21.1 s\n"
     ]
    }
   ],
   "source": [
    "%%time\n",
    "exp_weight_dist_3_sim =get_exp_dist(mixed_set_pairs, paired = True, method = \"weight-dist\", distanze = distanze)"
   ]
  },
  {
   "cell_type": "code",
   "execution_count": 17,
   "metadata": {
    "id": "08mbubRja4SR"
   },
   "outputs": [
    {
     "name": "stdout",
     "output_type": "stream",
     "text": [
      "9409\n"
     ]
    }
   ],
   "source": [
    "print(len(exp_weight_dist_3_sim))"
   ]
  },
  {
   "cell_type": "markdown",
   "metadata": {},
   "source": [
    "# OTHER MEASURES #"
   ]
  },
  {
   "cell_type": "markdown",
   "metadata": {},
   "source": [
    "### WARNING, COMPUTATIONLLY REALLY HEAVY ###"
   ]
  },
  {
   "cell_type": "markdown",
   "metadata": {
    "id": "4FnCq26Cgzfl"
   },
   "source": [
    "## EXPERIMENT CUTNORM 1 ##"
   ]
  },
  {
   "cell_type": "code",
   "execution_count": 19,
   "metadata": {
    "id": "IZGkLTt4RRln"
   },
   "outputs": [
    {
     "name": "stdout",
     "output_type": "stream",
     "text": [
      "10585\n",
      "Wall time: 52min 59s\n"
     ]
    }
   ],
   "source": [
    "%%time\n",
    "exp_cutnorm_1_sim = get_exp_measures(v_test, method = \"cutnorm\")\n",
    "print(len(exp_cutnorm_1_sim))"
   ]
  },
  {
   "cell_type": "markdown",
   "metadata": {
    "id": "olo2K08ERRmH"
   },
   "source": [
    "## EXPERIMENT CUTNORM 2 ##"
   ]
  },
  {
   "cell_type": "code",
   "execution_count": 20,
   "metadata": {
    "id": "-y2zQiXXRRmI"
   },
   "outputs": [
    {
     "ename": "NameError",
     "evalue": "name 'exp_deltacon_2_sim' is not defined",
     "output_type": "error",
     "traceback": [
      "\u001b[1;31m---------------------------------------------------------------------------\u001b[0m",
      "\u001b[1;31mNameError\u001b[0m                                 Traceback (most recent call last)",
      "\u001b[1;32m<timed exec>\u001b[0m in \u001b[0;36m<module>\u001b[1;34m\u001b[0m\n",
      "\u001b[1;31mNameError\u001b[0m: name 'exp_deltacon_2_sim' is not defined"
     ]
    }
   ],
   "source": [
    "%%time\n",
    "exp_cutnorm_2_sim = get_exp_measures(fake_set, method = \"cutnorm\")\n",
    "print(len(exp_cutnorm_2_sim))"
   ]
  },
  {
   "cell_type": "markdown",
   "metadata": {
    "id": "omk2JlX0RRmK"
   },
   "source": [
    "## EXPERIMENT CUTNORM 3 ##"
   ]
  },
  {
   "cell_type": "code",
   "execution_count": null,
   "metadata": {
    "id": "1FF59hplRRmL"
   },
   "outputs": [],
   "source": [
    "%%time\n",
    "exp_cutnorm_3_sim = get_exp_measures(mixed_set_pairs, paired = True, method=\"cutnorm\")\n",
    "print(len(exp_cutnorm_3_sim))"
   ]
  },
  {
   "cell_type": "markdown",
   "metadata": {},
   "source": [
    "## EXPERIMENT CPC 1 ##"
   ]
  },
  {
   "cell_type": "code",
   "execution_count": null,
   "metadata": {
    "id": "IZGkLTt4RRln"
   },
   "outputs": [],
   "source": [
    "%%time\n",
    "exp_cpc_1_sim = get_exp_measures(v_test, method = \"cpc\")"
   ]
  },
  {
   "cell_type": "code",
   "execution_count": null,
   "metadata": {
    "id": "4BO0cyuoRRmE"
   },
   "outputs": [],
   "source": [
    "print(len(exp_cpc_1_sim))"
   ]
  },
  {
   "cell_type": "markdown",
   "metadata": {
    "id": "olo2K08ERRmH"
   },
   "source": [
    "## EXPERIMENT CPC 2 ##"
   ]
  },
  {
   "cell_type": "code",
   "execution_count": null,
   "metadata": {
    "id": "-y2zQiXXRRmI"
   },
   "outputs": [],
   "source": [
    "%%time\n",
    "exp_cpc_2_sim = get_exp_measures(fake_set, method = \"cpc\")"
   ]
  },
  {
   "cell_type": "code",
   "execution_count": null,
   "metadata": {
    "id": "FCsQUj0rRRmJ"
   },
   "outputs": [],
   "source": [
    "print(len(exp_cpc_2_sim))"
   ]
  },
  {
   "cell_type": "markdown",
   "metadata": {
    "id": "omk2JlX0RRmK"
   },
   "source": [
    "## EXPERIMENT CPC 3 ##"
   ]
  },
  {
   "cell_type": "code",
   "execution_count": null,
   "metadata": {
    "id": "1FF59hplRRmL"
   },
   "outputs": [],
   "source": [
    "%%time\n",
    "exp_cpc_3_sim = get_exp_measures(mixed_set_pairs, paired = True, method=\"cpc\")"
   ]
  },
  {
   "cell_type": "code",
   "execution_count": null,
   "metadata": {},
   "outputs": [],
   "source": [
    "print(len(exp_cpc_3_sim))"
   ]
  },
  {
   "cell_type": "markdown",
   "metadata": {},
   "source": [
    "## EXPERIMENT RMSE 1 ##"
   ]
  },
  {
   "cell_type": "code",
   "execution_count": 47,
   "metadata": {
    "id": "IZGkLTt4RRln"
   },
   "outputs": [
    {
     "name": "stdout",
     "output_type": "stream",
     "text": [
      "Wall time: 1.87 s\n"
     ]
    }
   ],
   "source": [
    "%%time\n",
    "exp_rmse_1_sim = get_exp_measures(v_test, method = \"rmse\")"
   ]
  },
  {
   "cell_type": "code",
   "execution_count": 48,
   "metadata": {
    "id": "4BO0cyuoRRmE"
   },
   "outputs": [
    {
     "name": "stdout",
     "output_type": "stream",
     "text": [
      "10585\n"
     ]
    }
   ],
   "source": [
    "print(len(exp_rmse_1_sim))"
   ]
  },
  {
   "cell_type": "markdown",
   "metadata": {
    "id": "olo2K08ERRmH"
   },
   "source": [
    "## EXPERIMENT RMSE 2 ##"
   ]
  },
  {
   "cell_type": "code",
   "execution_count": 49,
   "metadata": {
    "id": "-y2zQiXXRRmI"
   },
   "outputs": [
    {
     "name": "stdout",
     "output_type": "stream",
     "text": [
      "Wall time: 1.83 s\n"
     ]
    }
   ],
   "source": [
    "%%time\n",
    "exp_rmse_2_sim = get_exp_measures(fake_set, method = \"rmse\")"
   ]
  },
  {
   "cell_type": "code",
   "execution_count": 50,
   "metadata": {
    "id": "FCsQUj0rRRmJ"
   },
   "outputs": [
    {
     "name": "stdout",
     "output_type": "stream",
     "text": [
      "10585\n"
     ]
    }
   ],
   "source": [
    "print(len(exp_rmse_2_sim))"
   ]
  },
  {
   "cell_type": "markdown",
   "metadata": {
    "id": "omk2JlX0RRmK"
   },
   "source": [
    "## EXPERIMENT RMSE 3 ##"
   ]
  },
  {
   "cell_type": "code",
   "execution_count": 51,
   "metadata": {
    "id": "1FF59hplRRmL"
   },
   "outputs": [
    {
     "name": "stdout",
     "output_type": "stream",
     "text": [
      "Wall time: 2.26 s\n"
     ]
    }
   ],
   "source": [
    "%%time\n",
    "exp_rmse_3_sim = get_exp_measures(mixed_set_pairs, paired = True, method=\"rmse\")"
   ]
  },
  {
   "cell_type": "code",
   "execution_count": 52,
   "metadata": {},
   "outputs": [
    {
     "name": "stdout",
     "output_type": "stream",
     "text": [
      "9409\n"
     ]
    }
   ],
   "source": [
    "print(len(exp_rmse_3_sim))"
   ]
  },
  {
   "cell_type": "markdown",
   "metadata": {
    "tags": []
   },
   "source": [
    "## EXPERIMENT Kernel 1 ##"
   ]
  },
  {
   "cell_type": "code",
   "execution_count": 39,
   "metadata": {},
   "outputs": [
    {
     "name": "stdout",
     "output_type": "stream",
     "text": [
      "10585\n",
      "CPU times: user 438 ms, sys: 11.2 ms, total: 449 ms\n",
      "Wall time: 447 ms\n"
     ]
    }
   ],
   "source": [
    "%%time\n",
    "exp_kernel_1_sim = get_exp_kernel(v_test)\n",
    "print(len(exp_kernel_1_sim))"
   ]
  },
  {
   "cell_type": "markdown",
   "metadata": {},
   "source": [
    "## EXPERIMENT Kernel 2 ##"
   ]
  },
  {
   "cell_type": "code",
   "execution_count": 40,
   "metadata": {},
   "outputs": [
    {
     "name": "stdout",
     "output_type": "stream",
     "text": [
      "10585\n",
      "CPU times: user 333 ms, sys: 8.42 ms, total: 341 ms\n",
      "Wall time: 340 ms\n"
     ]
    }
   ],
   "source": [
    "%%time\n",
    "exp_kernel_2_sim = get_exp_kernel(fake_set)\n",
    "print(len(exp_kernel_2_sim))"
   ]
  },
  {
   "cell_type": "markdown",
   "metadata": {},
   "source": [
    "## EXPERIMENT Kernel 3 ##"
   ]
  },
  {
   "cell_type": "code",
   "execution_count": 41,
   "metadata": {},
   "outputs": [
    {
     "name": "stderr",
     "output_type": "stream",
     "text": [
      "100%|██████████████████████████████████████| 9409/9409 [00:46<00:00, 202.34it/s]"
     ]
    },
    {
     "name": "stdout",
     "output_type": "stream",
     "text": [
      "9409\n",
      "CPU times: user 46.3 s, sys: 439 ms, total: 46.7 s\n",
      "Wall time: 46.5 s\n"
     ]
    },
    {
     "name": "stderr",
     "output_type": "stream",
     "text": [
      "\n"
     ]
    }
   ],
   "source": [
    "%%time\n",
    "exp_kernel_3_sim = get_exp_kernel(mixed_set_pairs, paired = True)\n",
    "print(len(exp_kernel_3_sim))"
   ]
  },
  {
   "cell_type": "code",
   "execution_count": 42,
   "metadata": {},
   "outputs": [],
   "source": [
    "with open(\"./\" + transp+city+\"/experiments/kernel/MoGAN/1.txt\", \"wb\") as fp:   #Pickling\n",
    "    pickle.dump(exp_kernel_1_sim, fp)\n",
    "with open(\"./\" + transp+city+\"/experiments/kernel/MoGAN/2.txt\", \"wb\") as fp:   #Pickling\n",
    "    pickle.dump(exp_kernel_2_sim, fp)\n",
    "with open(\"./\" + transp+city+\"/experiments/kernel/MoGAN/3.txt\", \"wb\") as fp:   #Pickling\n",
    "    pickle.dump(exp_kernel_3_sim, fp)"
   ]
  },
  {
   "cell_type": "code",
   "execution_count": 53,
   "metadata": {},
   "outputs": [
    {
     "data": {
      "text/plain": [
       "'\\nwith open(\"./\" + transp+city+\"/experiments/cpc/MoGAN/1.txt\", \"wb\") as fp:   #Pickling\\n    pickle.dump(exp_cpc_1_sim, fp)\\nwith open(\"./\" + transp+city+\"/experiments/cpc/MoGAN/2.txt\", \"wb\") as fp:   #Pickling\\n    pickle.dump(exp_cpc_2_sim, fp)\\nwith open(\"./\" + transp+city+\"/experiments/cpc/MoGAN/3.txt\", \"wb\") as fp:   #Pickling\\n    pickle.dump(exp_cpc_3_sim, fp)\\n'"
      ]
     },
     "execution_count": 53,
     "metadata": {},
     "output_type": "execute_result"
    }
   ],
   "source": [
    "\n",
    "with open(\"./\" + transp+city+\"/experiments/weight/MoGAN/1.txt\", \"wb\") as fp:   #Pickling\n",
    "    pickle.dump(exp_weight_1_sim, fp)\n",
    "with open(\"./\" + transp+city+\"/experiments/weight/MoGAN/2.txt\", \"wb\") as fp:   #Pickling\n",
    "    pickle.dump(exp_weight_2_sim, fp)\n",
    "with open(\"./\" + transp+city+\"/experiments/weight/MoGAN/3.txt\", \"wb\") as fp:   #Pickling\n",
    "    pickle.dump(exp_weight_3_sim, fp)\n",
    "    \n",
    "with open(\"./\" + transp+city+\"/experiments/weightdist/MoGAN/1.txt\", \"wb\") as fp:   #Pickling\n",
    "    pickle.dump(exp_weight_dist_1_sim, fp)\n",
    "with open(\"./\" + transp+city+\"/experiments/weightdist/MoGAN/2.txt\", \"wb\") as fp:   #Pickling\n",
    "    pickle.dump(exp_weight_dist_2_sim, fp)\n",
    "with open(\"./\" + transp+city+\"/experiments/weightdist/MoGAN/3.txt\", \"wb\") as fp:   #Pickling\n",
    "    pickle.dump(exp_weight_dist_3_sim, fp)\n",
    "\n",
    "with open(\"./\" + transp+city+\"/experiments/cutnorm/MoGAN/1.txt\", \"wb\") as fp:   #Pickling\n",
    "    pickle.dump(exp_cutnorm_1_sim, fp)\n",
    "with open(\"./\" + transp+city+\"/experiments/cutnorm/MoGAN/2.txt\", \"wb\") as fp:   #Pickling\n",
    "    pickle.dump(exp_cutnorm_2_sim, fp)\n",
    "with open(\"./\" + transp+city+\"/experiments/cutnorm/MoGAN/3.txt\", \"wb\") as fp:   #Pickling\n",
    "    pickle.dump(exp_cutnorm_3_sim, fp)\n",
    "\n",
    "\n",
    "with open(\"./\" + transp+city+\"/experiments/rmse/MoGAN/1.txt\", \"wb\") as fp:   #Pickling\n",
    "    pickle.dump(exp_rmse_1_sim, fp)\n",
    "with open(\"./\" + transp+city+\"/experiments/rmse/MoGAN/2.txt\", \"wb\") as fp:   #Pickling\n",
    "    pickle.dump(exp_rmse_2_sim, fp)\n",
    "with open(\"./\" + transp+city+\"/experiments/rmse/MoGAN/3.txt\", \"wb\") as fp:   #Pickling\n",
    "    pickle.dump(exp_rmse_3_sim, fp)\n",
    "\n",
    "\n",
    "with open(\"./\" + transp+city+\"/experiments/cpc/MoGAN/1.txt\", \"wb\") as fp:   #Pickling\n",
    "    pickle.dump(exp_cpc_1_sim, fp)\n",
    "with open(\"./\" + transp+city+\"/experiments/cpc/MoGAN/2.txt\", \"wb\") as fp:   #Pickling\n",
    "    pickle.dump(exp_cpc_2_sim, fp)\n",
    "with open(\"./\" + transp+city+\"/experiments/cpc/MoGAN/3.txt\", \"wb\") as fp:   #Pickling\n",
    "    pickle.dump(exp_cpc_3_sim, fp)\n"
   ]
  },
  {
   "cell_type": "code",
   "execution_count": null,
   "metadata": {},
   "outputs": [],
   "source": []
  }
 ],
 "metadata": {
  "accelerator": "GPU",
  "colab": {
   "name": "DCGAN-backupBCN.ipynb",
   "provenance": []
  },
  "kernelspec": {
   "display_name": "Python [conda env:skm]",
   "language": "python",
   "name": "skm"
  },
  "language_info": {
   "codemirror_mode": {
    "name": "ipython",
    "version": 3
   },
   "file_extension": ".py",
   "mimetype": "text/x-python",
   "name": "python",
   "nbconvert_exporter": "python",
   "pygments_lexer": "ipython3",
   "version": "3.7.13"
  }
 },
 "nbformat": 4,
 "nbformat_minor": 4
}
