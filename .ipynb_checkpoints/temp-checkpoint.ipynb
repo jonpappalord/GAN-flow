{
 "cells": [
  {
   "cell_type": "code",
   "execution_count": 1,
   "id": "1f6d6153-fa58-435b-9c40-213e61bc6735",
   "metadata": {},
   "outputs": [],
   "source": [
    "from utils import *\n",
    "\n",
    "import numpy as np\n",
    "from sklearn.model_selection import train_test_split\n",
    "import itertools\n",
    "from random import sample\n",
    "import pickle\n",
    "from scipy.spatial import distance\n",
    "import time\n",
    "import sys\n",
    "\n",
    "import random\n",
    "random.seed(3110)"
   ]
  },
  {
   "cell_type": "code",
   "execution_count": 6,
   "id": "149dfcee-f9a7-4fff-82a2-0310cebee57e",
   "metadata": {},
   "outputs": [],
   "source": [
    "with open(\"./BikeNYC/fake_set_radiation.txt\", \"rb\") as fp:   # Unpickling\n",
    "    fake_set = pickle.load(fp)"
   ]
  },
  {
   "cell_type": "code",
   "execution_count": 9,
   "id": "42fe9c78-f150-4304-a700-ab73b1d40f17",
   "metadata": {},
   "outputs": [],
   "source": [
    "A1 = fake_set[0]\n",
    "A2 = fake_set[1]\n",
    "\n",
    "G1 = nx.from_numpy_matrix(np.matrix(A1), create_using=nx.DiGraph)\n",
    "G2 = nx.from_numpy_matrix(np.matrix(A2), create_using=nx.DiGraph)"
   ]
  },
  {
   "cell_type": "code",
   "execution_count": 17,
   "id": "dfa02de1-2909-4787-87ac-45c3967eac2d",
   "metadata": {},
   "outputs": [
    {
     "name": "stdout",
     "output_type": "stream",
     "text": [
      "CPU times: user 315 ms, sys: 1.94 ms, total: 317 ms\n",
      "Wall time: 315 ms\n"
     ]
    },
    {
     "data": {
      "text/plain": [
       "0.0036325336164365614"
      ]
     },
     "execution_count": 17,
     "metadata": {},
     "output_type": "execute_result"
    }
   ],
   "source": [
    "%%time\n",
    "c1 = nx.average_clustering(G1, weight = 'weight')\n",
    "c1"
   ]
  },
  {
   "cell_type": "code",
   "execution_count": 18,
   "id": "ae5e9c43-8492-4a62-9da5-bf67a73e40cc",
   "metadata": {},
   "outputs": [
    {
     "name": "stdout",
     "output_type": "stream",
     "text": [
      "CPU times: user 214 ms, sys: 1.69 ms, total: 216 ms\n",
      "Wall time: 215 ms\n"
     ]
    },
    {
     "data": {
      "text/plain": [
       "0.00614141163603167"
      ]
     },
     "execution_count": 18,
     "metadata": {},
     "output_type": "execute_result"
    }
   ],
   "source": [
    "%%time\n",
    "c2 = nx.average_clustering(G2, weight = 'weight')\n",
    "c2"
   ]
  },
  {
   "cell_type": "code",
   "execution_count": 15,
   "id": "c756661f-5421-4029-a897-091abd73484f",
   "metadata": {},
   "outputs": [
    {
     "data": {
      "text/plain": [
       "0.002508878019595109"
      ]
     },
     "execution_count": 15,
     "metadata": {},
     "output_type": "execute_result"
    }
   ],
   "source": [
    "c2-c1"
   ]
  },
  {
   "cell_type": "code",
   "execution_count": null,
   "id": "739a9300-81de-4c5e-ba0e-af3b7f938923",
   "metadata": {},
   "outputs": [],
   "source": []
  }
 ],
 "metadata": {
  "kernelspec": {
   "display_name": "Python [conda env:skm]",
   "language": "python",
   "name": "skm"
  },
  "language_info": {
   "codemirror_mode": {
    "name": "ipython",
    "version": 3
   },
   "file_extension": ".py",
   "mimetype": "text/x-python",
   "name": "python",
   "nbconvert_exporter": "python",
   "pygments_lexer": "ipython3",
   "version": "3.7.13"
  }
 },
 "nbformat": 4,
 "nbformat_minor": 5
}
