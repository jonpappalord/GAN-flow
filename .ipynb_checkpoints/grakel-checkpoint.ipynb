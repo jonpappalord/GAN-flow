{
 "cells": [
  {
   "cell_type": "code",
   "execution_count": 70,
   "id": "ae8e907d-681d-4de2-a369-074a8a6d5fd0",
   "metadata": {
    "scrolled": true
   },
   "outputs": [],
   "source": [
    "import grakel\n",
    "from grakel.utils import graph_from_networkx\n",
    "import numpy as np\n",
    "import networkx as nx\n",
    "import pickle\n",
    "from grakel import Graph\n",
    "from grakel import GraphKernel"
   ]
  },
  {
   "cell_type": "code",
   "execution_count": 11,
   "id": "0b7c4898-5c4f-4af4-891b-16ff4cde45cc",
   "metadata": {
    "scrolled": true
   },
   "outputs": [],
   "source": [
    "city = 'NYC'\n",
    "transp = 'Bike'"
   ]
  },
  {
   "cell_type": "code",
   "execution_count": 12,
   "id": "7698de8a-5b32-4b80-82cf-9497b588cad6",
   "metadata": {
    "scrolled": true
   },
   "outputs": [],
   "source": [
    "with open(\"./\" +transp + city +\"/fake_set_gravity.txt\", \"rb\") as fp:   # Unpickling\n",
    "    fake_set = pickle.load(fp)"
   ]
  },
  {
   "cell_type": "code",
   "execution_count": 13,
   "id": "9e642cee-6dbd-4a85-8381-c3e3be502106",
   "metadata": {
    "scrolled": true
   },
   "outputs": [],
   "source": [
    "with open(\"./\" +transp + city +\"/v_test.txt\", \"rb\") as fp:   # Unpickling\n",
    "    v_test = pickle.load(fp)"
   ]
  },
  {
   "cell_type": "code",
   "execution_count": 15,
   "id": "2cc537f9-cb55-4578-a0e3-7072fb881176",
   "metadata": {
    "scrolled": true
   },
   "outputs": [],
   "source": [
    "A = v_test[0]"
   ]
  },
  {
   "cell_type": "code",
   "execution_count": 36,
   "id": "1a517e37-a858-45eb-b56f-77a9b6281984",
   "metadata": {
    "scrolled": true
   },
   "outputs": [],
   "source": [
    "G = nx.from_numpy_matrix(A, create_using=nx.DiGraph)"
   ]
  },
  {
   "cell_type": "code",
   "execution_count": 81,
   "id": "e6efc454-d394-47bc-97e5-1470a56f9160",
   "metadata": {
    "scrolled": true
   },
   "outputs": [],
   "source": [
    "Gk = graph_from_networkx(G, edge_weight_tag='weight')"
   ]
  },
  {
   "cell_type": "code",
   "execution_count": null,
   "id": "352b2c6f-5a40-48c5-8c25-e06f92b1960e",
   "metadata": {},
   "outputs": [],
   "source": []
  },
  {
   "cell_type": "code",
   "execution_count": 82,
   "id": "47de3260-48de-4e8c-8bf7-8ba07f7954cd",
   "metadata": {
    "scrolled": true
   },
   "outputs": [],
   "source": [
    "A = v_test[1]"
   ]
  },
  {
   "cell_type": "code",
   "execution_count": 83,
   "id": "261240d4-1975-4392-b2fe-0f4bfb335865",
   "metadata": {
    "scrolled": true
   },
   "outputs": [],
   "source": [
    "G = nx.from_numpy_matrix(A, create_using=nx.DiGraph)"
   ]
  },
  {
   "cell_type": "code",
   "execution_count": 85,
   "id": "e51345cd-70e5-4c4f-a450-004f035ca7ba",
   "metadata": {
    "scrolled": true
   },
   "outputs": [],
   "source": [
    "Gk1 = graph_from_networkx(G, edge_weight_tag='weight')"
   ]
  },
  {
   "cell_type": "code",
   "execution_count": null,
   "id": "7776f5f5-323a-4516-940d-b4e04b4b069f",
   "metadata": {},
   "outputs": [],
   "source": []
  },
  {
   "cell_type": "code",
   "execution_count": null,
   "id": "145e7de1-dd2e-4dba-b68e-00e20bb285b2",
   "metadata": {},
   "outputs": [],
   "source": []
  },
  {
   "cell_type": "code",
   "execution_count": 86,
   "id": "0140137f-dd8d-47ff-9d41-fd00c857b87f",
   "metadata": {},
   "outputs": [],
   "source": [
    "sp_kernel = GraphKernel(kernel = 'shortest_path', normalize=True)"
   ]
  },
  {
   "cell_type": "code",
   "execution_count": null,
   "id": "36b184b4-4389-4cb4-ada7-c7b2c842c24a",
   "metadata": {},
   "outputs": [],
   "source": []
  }
 ],
 "metadata": {
  "kernelspec": {
   "display_name": "Python [conda env: skm]",
   "language": "python",
   "name": "skm"
  },
  "language_info": {
   "codemirror_mode": {
    "name": "ipython",
    "version": 3
   },
   "file_extension": ".py",
   "mimetype": "text/x-python",
   "name": "python",
   "nbconvert_exporter": "python",
   "pygments_lexer": "ipython3",
   "version": "3.7.11"
  }
 },
 "nbformat": 4,
 "nbformat_minor": 5
}
