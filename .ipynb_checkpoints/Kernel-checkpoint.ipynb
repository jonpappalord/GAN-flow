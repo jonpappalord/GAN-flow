{
 "cells": [
  {
   "cell_type": "code",
   "execution_count": 1,
   "id": "8b088713",
   "metadata": {
    "scrolled": true
   },
   "outputs": [],
   "source": [
    "import numpy as np\n",
    "import networkx as nx\n",
    "import pickle\n",
    "\n",
    "from grakel.utils import graph_from_networkx\n",
    "from grakel.kernels import EdgeHistogram"
   ]
  },
  {
   "cell_type": "code",
   "execution_count": 2,
   "id": "b4f021b7",
   "metadata": {
    "scrolled": true
   },
   "outputs": [],
   "source": [
    "G1 = nx.fast_gnp_random_graph(4096,0.1)\n",
    "G11 = G1.copy()\n",
    "for i in G1.edges():\n",
    "    G1.edges()[i][\"weight\"] = np.random.randint(0,10)\n",
    "    G11.edges()[i][\"weight\"] = np.random.randint(0,10)\n",
    "    \n",
    "G111 = nx.fast_gnp_random_graph(4096,0.1)\n",
    "for i in G111.edges():\n",
    "    G111.edges()[i][\"weight\"] = np.random.randint(0,10)\n",
    "    \n",
    "    \n",
    "    \n",
    "G2 = nx.fast_gnp_random_graph(4096,0.2)\n",
    "for i in G2.edges():\n",
    "    G2.edges()[i][\"weight\"] = np.random.randint(0,20)"
   ]
  },
  {
   "cell_type": "code",
   "execution_count": 3,
   "id": "e9c2222c",
   "metadata": {
    "scrolled": true
   },
   "outputs": [],
   "source": [
    "from grakel.utils import graph_from_networkx"
   ]
  },
  {
   "cell_type": "code",
   "execution_count": 4,
   "id": "200c81ef-30ee-48dd-99b9-813ba2f8bc52",
   "metadata": {},
   "outputs": [
    {
     "name": "stdout",
     "output_type": "stream",
     "text": [
      "1 - Simple graphs transformed\n",
      "\n"
     ]
    }
   ],
   "source": [
    "G_nx = [G1, G11]# G111, G2]\n",
    "\n",
    "# Transforms list of NetworkX graphs into a list of GraKeL graphs\n",
    "G = graph_from_networkx(G_nx,edge_labels_tag=\"weight\")\n",
    "print(\"1 - Simple graphs transformed\\n\")"
   ]
  },
  {
   "cell_type": "code",
   "execution_count": 5,
   "id": "b25c6d9e",
   "metadata": {
    "scrolled": true
   },
   "outputs": [
    {
     "data": {
      "text/plain": [
       "<generator object graph_from_networkx at 0x7f9af9830850>"
      ]
     },
     "execution_count": 5,
     "metadata": {},
     "output_type": "execute_result"
    }
   ],
   "source": [
    "G"
   ]
  },
  {
   "cell_type": "code",
   "execution_count": 6,
   "id": "2c442f53",
   "metadata": {
    "scrolled": true
   },
   "outputs": [
    {
     "name": "stdout",
     "output_type": "stream",
     "text": [
      "CPU times: user 3.25 s, sys: 192 ms, total: 3.44 s\n",
      "Wall time: 3.44 s\n"
     ]
    }
   ],
   "source": [
    "%%time\n",
    "gk = EdgeHistogram(normalize=True)\n",
    "K_train = gk.fit_transform(G)"
   ]
  },
  {
   "cell_type": "code",
   "execution_count": 7,
   "id": "67af84ca",
   "metadata": {
    "scrolled": true
   },
   "outputs": [
    {
     "data": {
      "text/plain": [
       "array([[1.        , 0.99999149],\n",
       "       [0.99999149, 1.        ]])"
      ]
     },
     "execution_count": 7,
     "metadata": {},
     "output_type": "execute_result"
    }
   ],
   "source": [
    "K_train"
   ]
  },
  {
   "cell_type": "code",
   "execution_count": 8,
   "id": "e6747711-ee30-4c2b-888d-d12efb310340",
   "metadata": {},
   "outputs": [
    {
     "data": {
      "text/plain": [
       "0.9999914853804285"
      ]
     },
     "execution_count": 8,
     "metadata": {},
     "output_type": "execute_result"
    }
   ],
   "source": [
    "K_train[0,1]"
   ]
  },
  {
   "cell_type": "code",
   "execution_count": 24,
   "id": "1a148e6f-3814-43d4-a987-3d519297315a",
   "metadata": {},
   "outputs": [],
   "source": [
    "b = K_train.transpose()"
   ]
  },
  {
   "cell_type": "code",
   "execution_count": 25,
   "id": "b841b69c-29cb-45d8-b74e-1126b77b5b26",
   "metadata": {},
   "outputs": [
    {
     "data": {
      "text/plain": [
       "array([[1.        , 0.99998353, 0.99998817, 0.70655428],\n",
       "       [0.99998353, 1.        , 0.99997747, 0.70654896],\n",
       "       [0.99998817, 0.99997747, 1.        , 0.70655861],\n",
       "       [0.70655428, 0.70654896, 0.70655861, 1.        ]])"
      ]
     },
     "execution_count": 25,
     "metadata": {},
     "output_type": "execute_result"
    }
   ],
   "source": [
    "b"
   ]
  },
  {
   "cell_type": "code",
   "execution_count": 26,
   "id": "8bcdb50e-5eb0-4db0-8c86-79f9a6545ecc",
   "metadata": {},
   "outputs": [
    {
     "data": {
      "text/plain": [
       "True"
      ]
     },
     "execution_count": 26,
     "metadata": {},
     "output_type": "execute_result"
    }
   ],
   "source": [
    "np.array_equal(K_train,b)"
   ]
  },
  {
   "cell_type": "code",
   "execution_count": null,
   "id": "cbd4d44d-3901-410b-9038-6194bbb13632",
   "metadata": {},
   "outputs": [],
   "source": []
  },
  {
   "cell_type": "code",
   "execution_count": null,
   "id": "3bb54233-94b6-48a7-8e25-a6d81d0d9321",
   "metadata": {},
   "outputs": [],
   "source": []
  },
  {
   "cell_type": "code",
   "execution_count": 9,
   "id": "8fff8267-898d-4338-b6e5-178776871ec9",
   "metadata": {
    "scrolled": true
   },
   "outputs": [],
   "source": [
    "with open(\"./BikeCHI/v_test.txt\", \"rb\") as fp:   # Unpickling\n",
    "    v_test = pickle.load(fp)"
   ]
  },
  {
   "cell_type": "code",
   "execution_count": 10,
   "id": "cc2a29bc-cd1a-4f77-9906-80b8443da2a4",
   "metadata": {},
   "outputs": [],
   "source": [
    "l = []\n",
    "for A in v_test:\n",
    "    G = nx.from_numpy_matrix(np.matrix(A), create_using=nx.DiGraph)\n",
    "    l.append(G)"
   ]
  },
  {
   "cell_type": "code",
   "execution_count": 29,
   "id": "d291a6ab-b46f-40ac-a2f3-2f8283f43a5e",
   "metadata": {},
   "outputs": [
    {
     "name": "stdout",
     "output_type": "stream",
     "text": [
      "1 - Simple graphs transformed\n",
      "\n"
     ]
    }
   ],
   "source": [
    "G_l = graph_from_networkx(l,edge_labels_tag=\"weight\")\n",
    "print(\"1 - Simple graphs transformed\\n\")"
   ]
  },
  {
   "cell_type": "code",
   "execution_count": 30,
   "id": "8085f1e1-8fc9-4d9a-ab41-33273319cd1d",
   "metadata": {},
   "outputs": [
    {
     "name": "stdout",
     "output_type": "stream",
     "text": [
      "CPU times: user 99.4 ms, sys: 2.82 ms, total: 102 ms\n",
      "Wall time: 101 ms\n"
     ]
    }
   ],
   "source": [
    "%%time\n",
    "gk = EdgeHistogram(normalize=True)\n",
    "K_train = gk.fit_transform(G_l)"
   ]
  },
  {
   "cell_type": "code",
   "execution_count": 32,
   "id": "73e4e1b8-fa8c-4e4b-bc6f-240fe761801d",
   "metadata": {},
   "outputs": [
    {
     "data": {
      "text/plain": [
       "(146, 146)"
      ]
     },
     "execution_count": 32,
     "metadata": {},
     "output_type": "execute_result"
    }
   ],
   "source": [
    "K_train.shape"
   ]
  },
  {
   "cell_type": "code",
   "execution_count": 33,
   "id": "2afaddbd-fa7e-448a-bcd2-4877ce52202b",
   "metadata": {},
   "outputs": [
    {
     "data": {
      "text/plain": [
       "(0.9237769316621324, 0.9887936280657196, 1.0)"
      ]
     },
     "execution_count": 33,
     "metadata": {},
     "output_type": "execute_result"
    }
   ],
   "source": [
    "(np.min(K_train), np.average(K_train),  np.max(K_train) )"
   ]
  },
  {
   "cell_type": "code",
   "execution_count": 34,
   "id": "f2f9e48c-3319-4cb8-9b08-5e38b8b29183",
   "metadata": {},
   "outputs": [],
   "source": [
    "b = K_train.transpose()"
   ]
  },
  {
   "cell_type": "code",
   "execution_count": 35,
   "id": "c982711a-3fdd-45ec-a7e6-0fc35a09156d",
   "metadata": {},
   "outputs": [
    {
     "data": {
      "text/plain": [
       "True"
      ]
     },
     "execution_count": 35,
     "metadata": {},
     "output_type": "execute_result"
    }
   ],
   "source": [
    "np.array_equal(K_train, b)"
   ]
  },
  {
   "cell_type": "code",
   "execution_count": 49,
   "id": "db50c1f5-738e-4e44-8ecf-2c5540950986",
   "metadata": {},
   "outputs": [],
   "source": [
    "c = K_train[np.triu_indices(146, k=1)]"
   ]
  },
  {
   "cell_type": "code",
   "execution_count": 50,
   "id": "ef900e95-ba9c-4919-bb61-2411c636b86a",
   "metadata": {},
   "outputs": [
    {
     "data": {
      "text/plain": [
       "10585"
      ]
     },
     "execution_count": 50,
     "metadata": {},
     "output_type": "execute_result"
    }
   ],
   "source": [
    "len(c)"
   ]
  },
  {
   "cell_type": "code",
   "execution_count": 51,
   "id": "ba56e11b-e8dd-43d8-b386-3ac0a41431f1",
   "metadata": {},
   "outputs": [
    {
     "data": {
      "text/plain": [
       "array([0.990983  , 0.99597473, 0.983767  , ..., 0.99337175, 0.99522901,\n",
       "       0.99543929])"
      ]
     },
     "execution_count": 51,
     "metadata": {},
     "output_type": "execute_result"
    }
   ],
   "source": [
    "c"
   ]
  },
  {
   "cell_type": "code",
   "execution_count": 52,
   "id": "3bf90cd6-0f91-492c-ae27-c03dd2f6c073",
   "metadata": {},
   "outputs": [],
   "source": [
    "c = K_train[np.triu_indices(K_train.shape[0], k=1)]"
   ]
  },
  {
   "cell_type": "code",
   "execution_count": 53,
   "id": "943792d5-1bfc-4a22-b008-7af8735b2901",
   "metadata": {},
   "outputs": [
    {
     "data": {
      "text/plain": [
       "10585"
      ]
     },
     "execution_count": 53,
     "metadata": {},
     "output_type": "execute_result"
    }
   ],
   "source": [
    "len(c)"
   ]
  },
  {
   "cell_type": "code",
   "execution_count": 54,
   "id": "180b467b-b476-4e3d-bbd0-41229af34353",
   "metadata": {},
   "outputs": [
    {
     "data": {
      "text/plain": [
       "array([0.990983  , 0.99597473, 0.983767  , ..., 0.99337175, 0.99522901,\n",
       "       0.99543929])"
      ]
     },
     "execution_count": 54,
     "metadata": {},
     "output_type": "execute_result"
    }
   ],
   "source": [
    "c"
   ]
  },
  {
   "cell_type": "code",
   "execution_count": null,
   "id": "4b13a2e0-ce4f-45f2-8d84-14559abeb0f8",
   "metadata": {},
   "outputs": [],
   "source": []
  }
 ],
 "metadata": {
  "kernelspec": {
   "display_name": "Python [conda env:skm]",
   "language": "python",
   "name": "skm"
  },
  "language_info": {
   "codemirror_mode": {
    "name": "ipython",
    "version": 3
   },
   "file_extension": ".py",
   "mimetype": "text/x-python",
   "name": "python",
   "nbconvert_exporter": "python",
   "pygments_lexer": "ipython3",
   "version": "3.7.13"
  }
 },
 "nbformat": 4,
 "nbformat_minor": 5
}
