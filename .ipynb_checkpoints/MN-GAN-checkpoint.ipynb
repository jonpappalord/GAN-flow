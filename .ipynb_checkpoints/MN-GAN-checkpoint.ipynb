{
 "cells": [
  {
   "cell_type": "code",
   "execution_count": null,
   "metadata": {
    "execution": {
     "iopub.execute_input": "2021-06-20T16:17:04.274361Z",
     "iopub.status.busy": "2021-06-20T16:17:04.274034Z",
     "iopub.status.idle": "2021-06-20T16:17:04.280288Z",
     "shell.execute_reply": "2021-06-20T16:17:04.279474Z",
     "shell.execute_reply.started": "2021-06-20T16:17:04.274329Z"
    },
    "id": "y-TIe7aAzDnI"
   },
   "outputs": [],
   "source": [
    "import argparse\n",
    "import os\n",
    "import numpy as np\n",
    "import math\n",
    "\n",
    "import torchvision.transforms as transforms\n",
    "from torchvision.utils import save_image\n",
    "\n",
    "from torch.utils.data import DataLoader\n",
    "from torchvision import datasets\n",
    "from torch.autograd import Variable\n",
    "\n",
    "import torch.nn as nn\n",
    "import torch.nn.functional as F\n",
    "import torch\n",
    "import matplotlib.pyplot as plt\n",
    "plt.rcParams[\"figure.figsize\"] = (12, 9) # (w, h)\n",
    "\n",
    "import sklearn\n",
    "from sklearn.model_selection import train_test_split\n",
    "import networkx as nx\n",
    "\n",
    "import itertools\n",
    "\n",
    "from random import sample\n",
    "\n"
   ]
  },
  {
   "cell_type": "code",
   "execution_count": null,
   "metadata": {
    "execution": {
     "iopub.execute_input": "2021-06-20T16:17:04.323275Z",
     "iopub.status.busy": "2021-06-20T16:17:04.323022Z",
     "iopub.status.idle": "2021-06-20T16:17:04.330013Z",
     "shell.execute_reply": "2021-06-20T16:17:04.329052Z",
     "shell.execute_reply.started": "2021-06-20T16:17:04.32325Z"
    },
    "id": "BQXA0EC6zPl1",
    "outputId": "82e01e2d-61e0-41bb-9af0-cf65c8cca2b5"
   },
   "outputs": [],
   "source": [
    "n_epochs = 4000\n",
    "batch_size = 146\n",
    "lr = 0.0002\n",
    "b1 = 0.5\n",
    "b2 = 0.999\n",
    "n_cpu = 8\n",
    "latent_dim = 100\n",
    "channels = 1\n",
    "sample_interval = 400\n",
    "\n",
    "\n",
    "torch.manual_seed(3110)"
   ]
  },
  {
   "cell_type": "code",
   "execution_count": null,
   "metadata": {
    "execution": {
     "iopub.execute_input": "2021-06-20T16:17:04.361059Z",
     "iopub.status.busy": "2021-06-20T16:17:04.360793Z",
     "iopub.status.idle": "2021-06-20T16:17:05.054711Z",
     "shell.execute_reply": "2021-06-20T16:17:05.053855Z",
     "shell.execute_reply.started": "2021-06-20T16:17:04.361034Z"
    },
    "id": "MtjskXmlteX8"
   },
   "outputs": [],
   "source": [
    "import os\n",
    "dir = \"Adj\"\n",
    "arrays = []\n",
    "for filename in os.listdir(dir):\n",
    "    if filename.endswith('.npy'):\n",
    "        arrays.append(np.load(dir + \"/\"+filename))\n",
    "v = arrays"
   ]
  },
  {
   "cell_type": "code",
   "execution_count": null,
   "metadata": {
    "execution": {
     "iopub.execute_input": "2021-06-20T16:17:05.058381Z",
     "iopub.status.busy": "2021-06-20T16:17:05.058114Z",
     "iopub.status.idle": "2021-06-20T16:17:05.066211Z",
     "shell.execute_reply": "2021-06-20T16:17:05.065413Z",
     "shell.execute_reply.started": "2021-06-20T16:17:05.058355Z"
    }
   },
   "outputs": [],
   "source": [
    "img_size = v[0].shape[1]\n",
    "\n",
    "\n",
    "v_train, v_test = train_test_split(v, test_size=0.2, random_state=42)\n",
    "v = v_train"
   ]
  },
  {
   "cell_type": "code",
   "execution_count": null,
   "metadata": {
    "execution": {
     "iopub.execute_input": "2021-06-20T16:17:05.262787Z",
     "iopub.status.busy": "2021-06-20T16:17:05.262361Z",
     "iopub.status.idle": "2021-06-20T16:17:05.270622Z",
     "shell.execute_reply": "2021-06-20T16:17:05.269548Z",
     "shell.execute_reply.started": "2021-06-20T16:17:05.262735Z"
    },
    "id": "hmcKvsr4Dr_P",
    "outputId": "d8899563-222f-4cd9-d07c-d6e3a785dd69"
   },
   "outputs": [],
   "source": [
    "v[0].shape"
   ]
  },
  {
   "cell_type": "code",
   "execution_count": null,
   "metadata": {
    "execution": {
     "iopub.execute_input": "2021-06-20T16:17:05.27251Z",
     "iopub.status.busy": "2021-06-20T16:17:05.27198Z",
     "iopub.status.idle": "2021-06-20T16:17:05.277636Z",
     "shell.execute_reply": "2021-06-20T16:17:05.276452Z",
     "shell.execute_reply.started": "2021-06-20T16:17:05.272465Z"
    },
    "id": "EKlxhGVXzkFU"
   },
   "outputs": [],
   "source": [
    "q = [0,massimo]"
   ]
  },
  {
   "cell_type": "markdown",
   "metadata": {},
   "source": [
    "# Normalization #"
   ]
  },
  {
   "cell_type": "code",
   "execution_count": null,
   "metadata": {
    "execution": {
     "iopub.execute_input": "2021-06-20T16:17:05.279311Z",
     "iopub.status.busy": "2021-06-20T16:17:05.278982Z",
     "iopub.status.idle": "2021-06-20T16:17:05.310548Z",
     "shell.execute_reply": "2021-06-20T16:17:05.309809Z",
     "shell.execute_reply.started": "2021-06-20T16:17:05.279278Z"
    },
    "id": "-aYZRCzWzo2F",
    "outputId": "8e172ad5-05b5-49cf-d849-2bd9a3070fef"
   },
   "outputs": [],
   "source": [
    "i = 0\n",
    "for vector in v:\n",
    "    d = 2.*(vector)/np.ptp(q)-1\n",
    "    v[i] = d\n",
    "    i += 1"
   ]
  },
  {
   "cell_type": "code",
   "execution_count": null,
   "metadata": {
    "execution": {
     "iopub.execute_input": "2021-06-20T16:17:05.314098Z",
     "iopub.status.busy": "2021-06-20T16:17:05.313863Z",
     "iopub.status.idle": "2021-06-20T16:17:05.318063Z",
     "shell.execute_reply": "2021-06-20T16:17:05.317242Z",
     "shell.execute_reply.started": "2021-06-20T16:17:05.314075Z"
    },
    "id": "-2OrHdSEztlS",
    "outputId": "45283d3b-16a0-4c13-c9ff-ab0d332e41c3"
   },
   "outputs": [],
   "source": [
    "cuda = True if torch.cuda.is_available() else False\n",
    "print(cuda)"
   ]
  },
  {
   "cell_type": "code",
   "execution_count": null,
   "metadata": {
    "execution": {
     "iopub.execute_input": "2021-06-20T16:17:05.320528Z",
     "iopub.status.busy": "2021-06-20T16:17:05.319912Z",
     "iopub.status.idle": "2021-06-20T16:17:05.336057Z",
     "shell.execute_reply": "2021-06-20T16:17:05.335274Z",
     "shell.execute_reply.started": "2021-06-20T16:17:05.320489Z"
    },
    "id": "JjNwCmOHzyNH",
    "outputId": "ba3d75eb-21d0-4e10-cafc-d5f84f3156e9"
   },
   "outputs": [],
   "source": [
    "img_shape = (channels, img_size, img_size)\n",
    "img_shape"
   ]
  },
  {
   "cell_type": "code",
   "execution_count": null,
   "metadata": {
    "execution": {
     "iopub.execute_input": "2021-06-20T16:17:05.337525Z",
     "iopub.status.busy": "2021-06-20T16:17:05.337168Z",
     "iopub.status.idle": "2021-06-20T16:17:05.368458Z",
     "shell.execute_reply": "2021-06-20T16:17:05.367634Z",
     "shell.execute_reply.started": "2021-06-20T16:17:05.33749Z"
    },
    "id": "rXC9MLwv0rop"
   },
   "outputs": [],
   "source": [
    "class VectorialDataset(torch.utils.data.Dataset):\n",
    "    def __init__(self, input_data, transform=None):\n",
    "        super(VectorialDataset, self).__init__()\n",
    "        self.input_data = torch.tensor(np.expand_dims(input_data, axis = 1)).float()\n",
    "        self.transform = transform\n",
    "\n",
    "    def __len__(self):\n",
    "        return self.input_data.shape[0]\n",
    "    \n",
    "    def __getitem__(self, idx):\n",
    "        if torch.is_tensor(idx):\n",
    "            idx = idx.tolist()\n",
    "        sample = self.input_data[idx, :]\n",
    "\n",
    "        if self.transform:\n",
    "            sample = self.transform(sample)\n",
    "\n",
    "        return sample \n",
    "\n",
    "\n",
    "training_set = VectorialDataset(input_data=v)\n",
    "dataloader = torch.utils.data.DataLoader(training_set, \n",
    "                                           batch_size=batch_size, \n",
    "                                           shuffle=True)"
   ]
  },
  {
   "cell_type": "code",
   "execution_count": null,
   "metadata": {
    "execution": {
     "iopub.execute_input": "2021-06-20T16:17:05.370098Z",
     "iopub.status.busy": "2021-06-20T16:17:05.369616Z",
     "iopub.status.idle": "2021-06-20T16:17:05.378256Z",
     "shell.execute_reply": "2021-06-20T16:17:05.377138Z",
     "shell.execute_reply.started": "2021-06-20T16:17:05.37006Z"
    },
    "id": "w1BeiLQMz2ig"
   },
   "outputs": [],
   "source": [
    "class Generator(nn.Module):\n",
    "    def __init__(self):\n",
    "        super(Generator, self).__init__()\n",
    "\n",
    "        def block(in_feat, out_feat, normalize=True):\n",
    "            layers = [nn.Linear(in_feat, out_feat)]\n",
    "            if normalize:\n",
    "                layers.append(nn.BatchNorm1d(out_feat, 0.8))\n",
    "            layers.append(nn.LeakyReLU(0.2, inplace=True))\n",
    "            return layers\n",
    "\n",
    "        self.model = nn.Sequential(\n",
    "            *block(latent_dim, 128, normalize=True),\n",
    "            *block(128, 256),\n",
    "            *block(256, 512),\n",
    "            *block(512, 1024),\n",
    "            nn.Linear(1024, int(np.prod(img_shape))),\n",
    "            nn.Tanh()\n",
    "            #nn.ReLU()\n",
    "        )\n",
    "\n",
    "    def forward(self, z):\n",
    "        img = self.model(z)\n",
    "        img = img.view(img.size(0), *img_shape)\n",
    "        return img"
   ]
  },
  {
   "cell_type": "code",
   "execution_count": null,
   "metadata": {
    "execution": {
     "iopub.execute_input": "2021-06-20T16:17:05.380008Z",
     "iopub.status.busy": "2021-06-20T16:17:05.379564Z",
     "iopub.status.idle": "2021-06-20T16:17:05.389196Z",
     "shell.execute_reply": "2021-06-20T16:17:05.388406Z",
     "shell.execute_reply.started": "2021-06-20T16:17:05.379974Z"
    },
    "id": "YA0wZDYo0DsZ"
   },
   "outputs": [],
   "source": [
    "class Discriminator(nn.Module):\n",
    "    def __init__(self):\n",
    "        super(Discriminator, self).__init__()\n",
    "\n",
    "        self.model = nn.Sequential(\n",
    "            nn.Linear(int(np.prod(img_shape)), 512),\n",
    "            nn.LeakyReLU(0.2, inplace=True),\n",
    "            nn.Dropout(0.3),\n",
    "            nn.Linear(512, 256),\n",
    "            nn.LeakyReLU(0.2, inplace=True),\n",
    "            nn.Dropout(0.3),\n",
    "            nn.Linear(256, 1),\n",
    "            nn.Sigmoid(),\n",
    "        )\n",
    "\n",
    "    def forward(self, img):\n",
    "        img_flat = img.view(img.size(0), -1)\n",
    "        validity = self.model(img_flat)\n",
    "\n",
    "        return validity"
   ]
  },
  {
   "cell_type": "code",
   "execution_count": null,
   "metadata": {
    "execution": {
     "iopub.execute_input": "2021-06-20T16:17:05.392343Z",
     "iopub.status.busy": "2021-06-20T16:17:05.392041Z",
     "iopub.status.idle": "2021-06-20T16:17:05.454277Z",
     "shell.execute_reply": "2021-06-20T16:17:05.45353Z",
     "shell.execute_reply.started": "2021-06-20T16:17:05.392317Z"
    },
    "id": "fRJbtvPU0OkZ"
   },
   "outputs": [],
   "source": [
    "# Loss function\n",
    "adversarial_loss = torch.nn.BCELoss()\n",
    "\n",
    "# Initialization\n",
    "generator = Generator()\n",
    "discriminator = Discriminator()\n",
    "\n",
    "if cuda:\n",
    "    generator.cuda()\n",
    "    discriminator.cuda()\n",
    "    adversarial_loss.cuda()\n"
   ]
  },
  {
   "cell_type": "code",
   "execution_count": null,
   "metadata": {
    "execution": {
     "iopub.execute_input": "2021-06-20T16:20:25.645156Z",
     "iopub.status.busy": "2021-06-20T16:20:25.644735Z",
     "iopub.status.idle": "2021-06-20T16:20:25.653975Z",
     "shell.execute_reply": "2021-06-20T16:20:25.653199Z",
     "shell.execute_reply.started": "2021-06-20T16:20:25.645116Z"
    }
   },
   "outputs": [],
   "source": [
    "generator"
   ]
  },
  {
   "cell_type": "code",
   "execution_count": null,
   "metadata": {
    "execution": {
     "iopub.execute_input": "2021-06-20T16:20:25.656069Z",
     "iopub.status.busy": "2021-06-20T16:20:25.655482Z",
     "iopub.status.idle": "2021-06-20T16:20:25.661919Z",
     "shell.execute_reply": "2021-06-20T16:20:25.660922Z",
     "shell.execute_reply.started": "2021-06-20T16:20:25.656035Z"
    }
   },
   "outputs": [],
   "source": [
    "discriminator"
   ]
  },
  {
   "cell_type": "code",
   "execution_count": null,
   "metadata": {
    "execution": {
     "iopub.execute_input": "2021-06-20T16:17:05.457076Z",
     "iopub.status.busy": "2021-06-20T16:17:05.456817Z",
     "iopub.status.idle": "2021-06-20T16:17:05.463226Z",
     "shell.execute_reply": "2021-06-20T16:17:05.462054Z",
     "shell.execute_reply.started": "2021-06-20T16:17:05.45705Z"
    },
    "id": "BwOYr7tr0Q1u"
   },
   "outputs": [],
   "source": [
    "optimizer_G = torch.optim.Adam(generator.parameters(), lr=lr, betas=(b1, b2), weight_decay=1e-6)\n",
    "optimizer_D = torch.optim.Adam(discriminator.parameters(), lr=lr, betas=(b1, b2), weight_decay=1e-6)\n",
    "\n",
    "Tensor = torch.cuda.FloatTensor if cuda else torch.FloatTensor"
   ]
  },
  {
   "cell_type": "markdown",
   "metadata": {},
   "source": [
    "# Training #"
   ]
  },
  {
   "cell_type": "code",
   "execution_count": null,
   "metadata": {
    "execution": {
     "iopub.execute_input": "2021-06-20T16:17:05.484527Z",
     "iopub.status.busy": "2021-06-20T16:17:05.484298Z",
     "iopub.status.idle": "2021-06-20T16:20:23.886077Z",
     "shell.execute_reply": "2021-06-20T16:20:23.884687Z",
     "shell.execute_reply.started": "2021-06-20T16:17:05.484504Z"
    },
    "id": "aRmYWnYC0UMU",
    "outputId": "0dce9449-1a26-45b1-ad79-f4df931cdf64",
    "scrolled": true
   },
   "outputs": [],
   "source": [
    "%%time\n",
    "G_losses = []\n",
    "D_losses = []\n",
    "\n",
    "real_scores = np.zeros(n_epochs)\n",
    "fake_scores = np.zeros(n_epochs)\n",
    "\n",
    "for epoch in range(n_epochs):\n",
    "    for i, imgs in enumerate(dataloader):\n",
    "\n",
    "        # labels\n",
    "        valid = Variable(Tensor(imgs.size(0), 1).fill_(1.0), requires_grad=False)\n",
    "        fake = Variable(Tensor(imgs.size(0), 1).fill_(0.0), requires_grad=False)\n",
    "\n",
    "        # input\n",
    "        real_imgs = Variable(imgs.type(Tensor))\n",
    "\n",
    "        # -----------------\n",
    "        #  Training Gen\n",
    "        # -----------------\n",
    "\n",
    "        optimizer_G.zero_grad()\n",
    "\n",
    "        # Gen input\n",
    "        z = Variable(Tensor(np.random.normal(0, 1, (imgs.shape[0], latent_dim))))\n",
    "\n",
    "        # Generate a batch of matrices\n",
    "        gen_imgs = generator(z)\n",
    "\n",
    "        # G loss\n",
    "        g_loss = adversarial_loss(discriminator(gen_imgs), valid)\n",
    "\n",
    "        g_loss.backward()\n",
    "        optimizer_G.step()\n",
    "\n",
    "        # ---------------------\n",
    "        #  Training Discr\n",
    "        # ---------------------\n",
    "\n",
    "        optimizer_D.zero_grad()\n",
    "\n",
    "        # D loss\n",
    "        real_loss = adversarial_loss(discriminator(real_imgs), valid)\n",
    "        fake_loss = adversarial_loss(discriminator(gen_imgs.detach()), fake)\n",
    "        d_loss = (real_loss + fake_loss) / 2\n",
    "\n",
    "\n",
    "        #Accuracies\n",
    "        outputs = discriminator(real_imgs)\n",
    "        real_score = outputs\n",
    "        outputs = discriminator(gen_imgs.detach())\n",
    "        fake_score = outputs\n",
    "\n",
    "\n",
    "        d_loss.backward()\n",
    "        optimizer_D.step()\n",
    "\n",
    "        if epoch%100 == 0 and i == len(dataloader)-1:\n",
    "            print(\n",
    "            \"[Epoch %d/%d] [Batch %d/%d] [D loss: %f] [G loss: %f]\"\n",
    "            % (epoch, n_epochs, i, len(dataloader), d_loss.item(), g_loss.item())\n",
    "            )\n",
    "\n",
    "        # Save Losses for plotting later and accuracies\n",
    "        G_losses.append(g_loss.item())\n",
    "        D_losses.append(d_loss.item())\n",
    "\n",
    "        real_scores[epoch] = real_scores[epoch]*(i/(i+1.)) + real_score.mean().data*(1./(i+1.))\n",
    "        fake_scores[epoch] = fake_scores[epoch]*(i/(i+1.)) + fake_score.mean().data*(1./(i+1.))\n"
   ]
  },
  {
   "cell_type": "markdown",
   "metadata": {
    "id": "DCzoGXLONArF"
   },
   "source": [
    "# EVALUATION #"
   ]
  },
  {
   "cell_type": "markdown",
   "metadata": {
    "id": "xl8EB0onNKpc"
   },
   "source": [
    "## PERFORMANCE ##"
   ]
  },
  {
   "cell_type": "code",
   "execution_count": null,
   "metadata": {
    "execution": {
     "iopub.execute_input": "2021-06-20T16:20:23.887782Z",
     "iopub.status.busy": "2021-06-20T16:20:23.887431Z",
     "iopub.status.idle": "2021-06-20T16:20:24.292665Z",
     "shell.execute_reply": "2021-06-20T16:20:24.291732Z",
     "shell.execute_reply.started": "2021-06-20T16:20:23.887744Z"
    },
    "id": "DQz040tg7qo-",
    "outputId": "caa8ec7b-5d31-4a59-8576-1b79a646c3fa"
   },
   "outputs": [],
   "source": [
    "plt.title(\"MN-GAN Training\", size = 23, fontweight=\"bold\")\n",
    "plt.plot(G_losses,label=\"Generator\")\n",
    "plt.plot(D_losses,label=\"Discriminator\")\n",
    "plt.xlabel(\"iterations\", size = 23)\n",
    "plt.ylabel(\"loss\", size = 23)\n",
    "\n",
    "plt.tick_params(labelsize=20)\n",
    "\n",
    "plt.legend(prop={'size': 18})\n",
    "plt.savefig('lossGAN.pdf')  \n",
    "plt.show()"
   ]
  },
  {
   "cell_type": "code",
   "execution_count": null,
   "metadata": {
    "execution": {
     "iopub.execute_input": "2021-06-20T16:20:24.650884Z",
     "iopub.status.busy": "2021-06-20T16:20:24.650375Z",
     "iopub.status.idle": "2021-06-20T16:20:24.950456Z",
     "shell.execute_reply": "2021-06-20T16:20:24.949442Z",
     "shell.execute_reply.started": "2021-06-20T16:20:24.650826Z"
    },
    "id": "A7Y-iaKD7vht",
    "outputId": "157ad65b-993b-439b-856c-3fc36b9496cc"
   },
   "outputs": [],
   "source": [
    "plt.title(\"MN-GAN: Scores\", size = 23, fontweight=\"bold\")\n",
    "plt.plot(fake_scores, label='synthetic score')\n",
    "plt.plot(real_scores, label='real score')    \n",
    "\n",
    "plt.xlabel(\"epochs\", size = 23)\n",
    "plt.ylabel(\"score\", size = 23)\n",
    "\n",
    "plt.tick_params(labelsize=20)\n",
    "\n",
    "plt.legend(prop={'size': 18})\n",
    "plt.savefig(\"scoresGAN.pdf\")\n",
    "plt.show()"
   ]
  },
  {
   "cell_type": "code",
   "execution_count": null,
   "metadata": {
    "execution": {
     "iopub.execute_input": "2021-06-20T16:20:25.626475Z",
     "iopub.status.busy": "2021-06-20T16:20:25.62614Z",
     "iopub.status.idle": "2021-06-20T16:20:25.643564Z",
     "shell.execute_reply": "2021-06-20T16:20:25.642754Z",
     "shell.execute_reply.started": "2021-06-20T16:20:25.62644Z"
    }
   },
   "outputs": [],
   "source": [
    "import pickle\n",
    "with open(\"fake_set.txt\", \"wb\") as fp:   #Pickling\n",
    "    pickle.dump(fake_set, fp) "
   ]
  }
 ],
 "metadata": {
  "kernelspec": {
   "display_name": "Python 3",
   "language": "python",
   "name": "python3"
  },
  "language_info": {
   "codemirror_mode": {
    "name": "ipython",
    "version": 3
   },
   "file_extension": ".py",
   "mimetype": "text/x-python",
   "name": "python",
   "nbconvert_exporter": "python",
   "pygments_lexer": "ipython3",
   "version": "3.7.9"
  }
 },
 "nbformat": 4,
 "nbformat_minor": 4
}
