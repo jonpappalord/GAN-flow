{
 "cells": [
  {
   "cell_type": "code",
   "execution_count": 15,
   "metadata": {
    "id": "x561-XD-JziU"
   },
   "outputs": [],
   "source": [
    "from utils import *\n",
    "\n",
    "import numpy as np\n",
    "from sklearn.model_selection import train_test_split\n",
    "import itertools\n",
    "from random import sample\n",
    "import pickle\n",
    "from scipy.spatial import distance\n",
    "\n",
    "\n",
    "%matplotlib inline\n",
    "from matplotlib import pyplot as plt\n",
    "from matplotlib.offsetbox import AnchoredText\n",
    "plt.rcParams[\"figure.figsize\"] = (12, 9) # (w, h)"
   ]
  },
  {
   "cell_type": "code",
   "execution_count": 42,
   "metadata": {},
   "outputs": [],
   "source": [
    "city = 'NYC'\n",
    "transp = 'Bike'"
   ]
  },
  {
   "cell_type": "code",
   "execution_count": 43,
   "metadata": {},
   "outputs": [
    {
     "data": {
      "text/plain": [
       "array([[0.8       , 1.04457947, 2.08900526, ..., 8.92751626, 8.42290739,\n",
       "        8.35724999],\n",
       "       [1.04457947, 0.8       , 1.04442579, ..., 9.34506394, 8.6144561 ,\n",
       "        8.42166846],\n",
       "       [2.08900526, 1.04442579, 0.8       , ..., 9.85599213, 8.9248904 ,\n",
       "        8.61318888],\n",
       "       ...,\n",
       "       [8.92751626, 9.34506394, 9.85599213, ..., 0.8       , 2.08992727,\n",
       "        3.13466041],\n",
       "       [8.42290739, 8.6144561 , 8.9248904 , ..., 2.08992727, 0.8       ,\n",
       "        1.04473314],\n",
       "       [8.35724999, 8.42166846, 8.61318888, ..., 3.13466041, 1.04473314,\n",
       "        0.8       ]])"
      ]
     },
     "execution_count": 43,
     "metadata": {},
     "output_type": "execute_result"
    }
   ],
   "source": [
    "distanze = np.load(\"./DataLoading/dist_mat_\" +city +\".npy\")\n",
    "np.fill_diagonal(distanze, 0.8)\n",
    "distanze"
   ]
  },
  {
   "cell_type": "code",
   "execution_count": 44,
   "metadata": {},
   "outputs": [],
   "source": [
    "with open(\"./\" +transp + city +\"/fake_set_gravity.txt\", \"rb\") as fp:   # Unpickling\n",
    "    fake_set = pickle.load(fp)"
   ]
  },
  {
   "cell_type": "code",
   "execution_count": 45,
   "metadata": {},
   "outputs": [],
   "source": [
    "with open(\"./\" +transp + city +\"/v_test.txt\", \"rb\") as fp:   # Unpickling\n",
    "    v_test = pickle.load(fp)"
   ]
  },
  {
   "cell_type": "code",
   "execution_count": 46,
   "metadata": {
    "id": "zp2jVvl3XjrJ"
   },
   "outputs": [],
   "source": [
    "number_of_items = np.floor(len(v_test)/(1.5)).astype(int)\n",
    "uno = sample(v_test, number_of_items)\n",
    "due = sample(fake_set, number_of_items)\n",
    "mixed_set_pairs = [pair for pair in itertools.product(uno , due)]"
   ]
  },
  {
   "cell_type": "code",
   "execution_count": 47,
   "metadata": {},
   "outputs": [
    {
     "data": {
      "text/plain": [
       "(146, 146, 9409, 97)"
      ]
     },
     "execution_count": 47,
     "metadata": {},
     "output_type": "execute_result"
    }
   ],
   "source": [
    "len(fake_set), len(v_test), len(mixed_set_pairs), number_of_items"
   ]
  },
  {
   "cell_type": "markdown",
   "metadata": {
    "id": "6mEM3DVeHi9Q"
   },
   "source": [
    "# EXPERIMENTS #"
   ]
  },
  {
   "cell_type": "markdown",
   "metadata": {
    "id": "XzPB9XWoOanV"
   },
   "source": [
    "## EXPERIMENT WEIGHT 1 ##"
   ]
  },
  {
   "cell_type": "code",
   "execution_count": 9,
   "metadata": {
    "id": "PRtuOlDTOZ1S"
   },
   "outputs": [
    {
     "name": "stdout",
     "output_type": "stream",
     "text": [
      "10585\n",
      "Wall time: 20.7 s\n"
     ]
    }
   ],
   "source": [
    "%%time\n",
    "exp_weight_1_sim = get_exp_dist(v_test)\n",
    "print(len(exp_weight_1_sim))"
   ]
  },
  {
   "cell_type": "markdown",
   "metadata": {
    "id": "NwQgygIBTN7A"
   },
   "source": [
    "## EXPERIMENT WEIGHT 2 ##"
   ]
  },
  {
   "cell_type": "code",
   "execution_count": 10,
   "metadata": {
    "id": "0_nKOfgjUsjG"
   },
   "outputs": [
    {
     "name": "stdout",
     "output_type": "stream",
     "text": [
      "10585\n",
      "Wall time: 20.7 s\n"
     ]
    }
   ],
   "source": [
    "%%time\n",
    "exp_weight_2_sim = get_exp_dist(fake_set)\n",
    "print(len(exp_weight_2_sim))"
   ]
  },
  {
   "cell_type": "markdown",
   "metadata": {
    "id": "W7THJs8wWw1W"
   },
   "source": [
    "### EXPERIMENT WEIGHT 3 ##"
   ]
  },
  {
   "cell_type": "code",
   "execution_count": 11,
   "metadata": {
    "id": "juGnCDFka4Rx"
   },
   "outputs": [
    {
     "name": "stdout",
     "output_type": "stream",
     "text": [
      "9409\n",
      "Wall time: 17 s\n"
     ]
    }
   ],
   "source": [
    "%%time\n",
    "exp_weight_3_sim =get_exp_dist(mixed_set_pairs, paired = True)\n",
    "print(len(exp_weight_3_sim))\n"
   ]
  },
  {
   "cell_type": "markdown",
   "metadata": {},
   "source": [
    "# WEIGHT-DISTANCES #"
   ]
  },
  {
   "cell_type": "markdown",
   "metadata": {
    "id": "XzPB9XWoOanV"
   },
   "source": [
    "## EXPERIMENT WEIGHT-DIST 1 ##"
   ]
  },
  {
   "cell_type": "code",
   "execution_count": 12,
   "metadata": {
    "id": "PRtuOlDTOZ1S"
   },
   "outputs": [
    {
     "name": "stdout",
     "output_type": "stream",
     "text": [
      "Wall time: 24.1 s\n"
     ]
    }
   ],
   "source": [
    "%%time\n",
    "exp_weight_dist_1_sim = get_exp_dist(v_test,method = \"weight-dist\", distanze = distanze)"
   ]
  },
  {
   "cell_type": "code",
   "execution_count": 13,
   "metadata": {},
   "outputs": [
    {
     "name": "stdout",
     "output_type": "stream",
     "text": [
      "10585\n"
     ]
    }
   ],
   "source": [
    "print(len(exp_weight_dist_1_sim))"
   ]
  },
  {
   "cell_type": "markdown",
   "metadata": {
    "id": "NwQgygIBTN7A"
   },
   "source": [
    "## EXPERIMENT WEIGHT-DIST 2 ##"
   ]
  },
  {
   "cell_type": "code",
   "execution_count": 14,
   "metadata": {
    "id": "0_nKOfgjUsjG"
   },
   "outputs": [
    {
     "name": "stdout",
     "output_type": "stream",
     "text": [
      "Wall time: 23.3 s\n"
     ]
    }
   ],
   "source": [
    "%%time\n",
    "exp_weight_dist_2_sim = get_exp_dist(fake_set,method = \"weight-dist\", distanze = distanze)"
   ]
  },
  {
   "cell_type": "code",
   "execution_count": 15,
   "metadata": {
    "id": "laqIddf_U3Bo"
   },
   "outputs": [
    {
     "name": "stdout",
     "output_type": "stream",
     "text": [
      "10585\n"
     ]
    }
   ],
   "source": [
    "print(len(exp_weight_dist_2_sim))"
   ]
  },
  {
   "cell_type": "markdown",
   "metadata": {
    "id": "W7THJs8wWw1W"
   },
   "source": [
    "## EXPERIMENT WEIGHT-DIST 3 ##"
   ]
  },
  {
   "cell_type": "code",
   "execution_count": 16,
   "metadata": {
    "id": "zp2jVvl3XjrJ"
   },
   "outputs": [],
   "source": [
    "mixed_set_pairs = [pair for pair in itertools.product(uno , due)]"
   ]
  },
  {
   "cell_type": "code",
   "execution_count": 17,
   "metadata": {
    "id": "juGnCDFka4Rx"
   },
   "outputs": [
    {
     "name": "stdout",
     "output_type": "stream",
     "text": [
      "Wall time: 22.4 s\n"
     ]
    }
   ],
   "source": [
    "%%time\n",
    "exp_weight_dist_3_sim =get_exp_dist(mixed_set_pairs, paired = True, method = \"weight-dist\", distanze = distanze)"
   ]
  },
  {
   "cell_type": "code",
   "execution_count": 18,
   "metadata": {
    "id": "08mbubRja4SR"
   },
   "outputs": [
    {
     "name": "stdout",
     "output_type": "stream",
     "text": [
      "9409\n"
     ]
    }
   ],
   "source": [
    "print(len(exp_weight_dist_3_sim))"
   ]
  },
  {
   "cell_type": "markdown",
   "metadata": {},
   "source": [
    "# OTHER MEASURES #"
   ]
  },
  {
   "cell_type": "markdown",
   "metadata": {},
   "source": [
    "### WARNING, COMPUTATIONLLY REALLY HEAVY ###"
   ]
  },
  {
   "cell_type": "markdown",
   "metadata": {
    "id": "4FnCq26Cgzfl"
   },
   "source": [
    "## EXPERIMENT CUTNORM 1 ##"
   ]
  },
  {
   "cell_type": "code",
   "execution_count": 19,
   "metadata": {
    "id": "IZGkLTt4RRln"
   },
   "outputs": [
    {
     "name": "stdout",
     "output_type": "stream",
     "text": [
      "10585\n",
      "Wall time: 53min 10s\n"
     ]
    }
   ],
   "source": [
    "%%time\n",
    "exp_cutnorm_1_sim = get_exp_measures(v_test, method = \"cutnorm\")\n",
    "print(len(exp_cutnorm_1_sim))"
   ]
  },
  {
   "cell_type": "markdown",
   "metadata": {
    "id": "olo2K08ERRmH"
   },
   "source": [
    "## EXPERIMENT CUTNORM 2 ##"
   ]
  },
  {
   "cell_type": "code",
   "execution_count": 20,
   "metadata": {
    "id": "-y2zQiXXRRmI"
   },
   "outputs": [
    {
     "name": "stdout",
     "output_type": "stream",
     "text": [
      "10585\n",
      "Wall time: 53min 10s\n"
     ]
    }
   ],
   "source": [
    "%%time\n",
    "exp_cutnorm_2_sim = get_exp_measures(fake_set, method = \"cutnorm\")\n",
    "print(len(exp_cutnorm_2_sim))"
   ]
  },
  {
   "cell_type": "markdown",
   "metadata": {
    "id": "omk2JlX0RRmK"
   },
   "source": [
    "## EXPERIMENT CUTNORM 3 ##"
   ]
  },
  {
   "cell_type": "code",
   "execution_count": null,
   "metadata": {
    "id": "1FF59hplRRmL"
   },
   "outputs": [],
   "source": [
    "%%time\n",
    "exp_cutnorm_3_sim = get_exp_measures(mixed_set_pairs, paired = True, method=\"cutnorm\")\n",
    "print(len(exp_cutnorm_3_sim))"
   ]
  },
  {
   "cell_type": "markdown",
   "metadata": {},
   "source": [
    "## EXPERIMENT CPC 1 ##"
   ]
  },
  {
   "cell_type": "code",
   "execution_count": null,
   "metadata": {
    "id": "IZGkLTt4RRln"
   },
   "outputs": [],
   "source": [
    "%%time\n",
    "exp_cpc_1_sim = get_exp_measures(v_test, method = \"cpc\")"
   ]
  },
  {
   "cell_type": "code",
   "execution_count": null,
   "metadata": {
    "id": "4BO0cyuoRRmE"
   },
   "outputs": [],
   "source": [
    "print(len(exp_cpc_1_sim))"
   ]
  },
  {
   "cell_type": "markdown",
   "metadata": {
    "id": "olo2K08ERRmH"
   },
   "source": [
    "## EXPERIMENT CPC 2 ##"
   ]
  },
  {
   "cell_type": "code",
   "execution_count": null,
   "metadata": {
    "id": "-y2zQiXXRRmI"
   },
   "outputs": [],
   "source": [
    "%%time\n",
    "exp_cpc_2_sim = get_exp_measures(fake_set, method = \"cpc\")"
   ]
  },
  {
   "cell_type": "code",
   "execution_count": null,
   "metadata": {
    "id": "FCsQUj0rRRmJ"
   },
   "outputs": [],
   "source": [
    "print(len(exp_cpc_2_sim))"
   ]
  },
  {
   "cell_type": "markdown",
   "metadata": {
    "id": "omk2JlX0RRmK"
   },
   "source": [
    "## EXPERIMENT CPC 3 ##"
   ]
  },
  {
   "cell_type": "code",
   "execution_count": null,
   "metadata": {
    "id": "1FF59hplRRmL"
   },
   "outputs": [],
   "source": [
    "%%time\n",
    "exp_cpc_3_sim = get_exp_measures(mixed_set_pairs, paired = True, method=\"cpc\")"
   ]
  },
  {
   "cell_type": "code",
   "execution_count": null,
   "metadata": {},
   "outputs": [],
   "source": [
    "print(len(exp_cpc_3_sim))"
   ]
  },
  {
   "cell_type": "markdown",
   "metadata": {},
   "source": [
    "## EXPERIMENT RMSE 1 ##"
   ]
  },
  {
   "cell_type": "code",
   "execution_count": 48,
   "metadata": {
    "id": "IZGkLTt4RRln"
   },
   "outputs": [
    {
     "name": "stdout",
     "output_type": "stream",
     "text": [
      "Wall time: 1.88 s\n"
     ]
    }
   ],
   "source": [
    "%%time\n",
    "exp_rmse_1_sim = get_exp_measures(v_test, method = \"rmse\")"
   ]
  },
  {
   "cell_type": "code",
   "execution_count": 49,
   "metadata": {
    "id": "4BO0cyuoRRmE"
   },
   "outputs": [
    {
     "name": "stdout",
     "output_type": "stream",
     "text": [
      "10585\n"
     ]
    }
   ],
   "source": [
    "print(len(exp_rmse_1_sim))"
   ]
  },
  {
   "cell_type": "markdown",
   "metadata": {
    "id": "olo2K08ERRmH"
   },
   "source": [
    "## EXPERIMENT RMSE 2 ##"
   ]
  },
  {
   "cell_type": "code",
   "execution_count": 50,
   "metadata": {
    "id": "-y2zQiXXRRmI"
   },
   "outputs": [
    {
     "name": "stdout",
     "output_type": "stream",
     "text": [
      "Wall time: 2.17 s\n"
     ]
    }
   ],
   "source": [
    "%%time\n",
    "exp_rmse_2_sim = get_exp_measures(fake_set, method = \"rmse\")"
   ]
  },
  {
   "cell_type": "code",
   "execution_count": 51,
   "metadata": {
    "id": "FCsQUj0rRRmJ"
   },
   "outputs": [
    {
     "name": "stdout",
     "output_type": "stream",
     "text": [
      "10585\n"
     ]
    }
   ],
   "source": [
    "print(len(exp_rmse_2_sim))"
   ]
  },
  {
   "cell_type": "markdown",
   "metadata": {
    "id": "omk2JlX0RRmK"
   },
   "source": [
    "## EXPERIMENT RMSE 3 ##"
   ]
  },
  {
   "cell_type": "code",
   "execution_count": 52,
   "metadata": {
    "id": "1FF59hplRRmL"
   },
   "outputs": [
    {
     "name": "stdout",
     "output_type": "stream",
     "text": [
      "Wall time: 2.32 s\n"
     ]
    }
   ],
   "source": [
    "%%time\n",
    "exp_rmse_3_sim = get_exp_measures(mixed_set_pairs, paired = True, method=\"rmse\")"
   ]
  },
  {
   "cell_type": "code",
   "execution_count": 53,
   "metadata": {},
   "outputs": [
    {
     "name": "stdout",
     "output_type": "stream",
     "text": [
      "9409\n"
     ]
    }
   ],
   "source": [
    "print(len(exp_rmse_3_sim))"
   ]
  },
  {
   "cell_type": "code",
   "execution_count": 54,
   "metadata": {},
   "outputs": [
    {
     "data": {
      "text/plain": [
       "'\\nwith open(\"./\" + transp+city+\"/experiments/cpc/Gravity/1.txt\", \"wb\") as fp:   #Pickling\\n    pickle.dump(exp_cpc_1_sim, fp)\\nwith open(\"./\" + transp+city+\"/experiments/cpc/Gravity/2.txt\", \"wb\") as fp:   #Pickling\\n    pickle.dump(exp_cpc_2_sim, fp)\\nwith open(\"./\" + transp+city+\"/experiments/cpc/Gravity/3.txt\", \"wb\") as fp:   #Pickling\\n    pickle.dump(exp_cpc_3_sim, fp)\\n'"
      ]
     },
     "execution_count": 54,
     "metadata": {},
     "output_type": "execute_result"
    }
   ],
   "source": [
    "'''\n",
    "with open(\"./\" + transp+city+\"/experiments/weight/Gravity/1.txt\", \"wb\") as fp:   #Pickling\n",
    "    pickle.dump(exp_weight_1_sim, fp)\n",
    "with open(\"./\" + transp+city+\"/experiments/weight/Gravity/2.txt\", \"wb\") as fp:   #Pickling\n",
    "    pickle.dump(exp_weight_2_sim, fp)\n",
    "with open(\"./\" + transp+city+\"/experiments/weight/Gravity/3.txt\", \"wb\") as fp:   #Pickling\n",
    "    pickle.dump(exp_weight_3_sim, fp)\n",
    "    \n",
    "with open(\"./\" + transp+city+\"/experiments/weightdist/Gravity/1.txt\", \"wb\") as fp:   #Pickling\n",
    "    pickle.dump(exp_weight_dist_1_sim, fp)\n",
    "with open(\"./\" + transp+city+\"/experiments/weightdist/Gravity/2.txt\", \"wb\") as fp:   #Pickling\n",
    "    pickle.dump(exp_weight_dist_2_sim, fp)\n",
    "with open(\"./\" + transp+city+\"/experiments/weightdist/Gravity/3.txt\", \"wb\") as fp:   #Pickling\n",
    "    pickle.dump(exp_weight_dist_3_sim, fp)\n",
    "\n",
    "with open(\"./\" + transp+city+\"/experiments/cutnorm/Gravity/1.txt\", \"wb\") as fp:   #Pickling\n",
    "    pickle.dump(exp_cutnorm_1_sim, fp)\n",
    "with open(\"./\" + transp+city+\"/experiments/cutnorm/Gravity/2.txt\", \"wb\") as fp:   #Pickling\n",
    "    pickle.dump(exp_cutnorm_2_sim, fp)\n",
    "with open(\"./\" + transp+city+\"/experiments/cutnorm/Gravity/3.txt\", \"wb\") as fp:   #Pickling\n",
    "    pickle.dump(exp_cutnorm_3_sim, fp)\n",
    "'''\n",
    "\n",
    "with open(\"./\" + transp+city+\"/experiments/rmse/Gravity/1.txt\", \"wb\") as fp:   #Pickling\n",
    "    pickle.dump(exp_rmse_1_sim, fp)\n",
    "with open(\"./\" + transp+city+\"/experiments/rmse/Gravity/2.txt\", \"wb\") as fp:   #Pickling\n",
    "    pickle.dump(exp_rmse_2_sim, fp)\n",
    "with open(\"./\" + transp+city+\"/experiments/rmse/Gravity/3.txt\", \"wb\") as fp:   #Pickling\n",
    "    pickle.dump(exp_rmse_3_sim, fp)\n",
    "\n",
    "'''\n",
    "with open(\"./\" + transp+city+\"/experiments/cpc/Gravity/1.txt\", \"wb\") as fp:   #Pickling\n",
    "    pickle.dump(exp_cpc_1_sim, fp)\n",
    "with open(\"./\" + transp+city+\"/experiments/cpc/Gravity/2.txt\", \"wb\") as fp:   #Pickling\n",
    "    pickle.dump(exp_cpc_2_sim, fp)\n",
    "with open(\"./\" + transp+city+\"/experiments/cpc/Gravity/3.txt\", \"wb\") as fp:   #Pickling\n",
    "    pickle.dump(exp_cpc_3_sim, fp)\n",
    "'''"
   ]
  },
  {
   "cell_type": "code",
   "execution_count": null,
   "metadata": {},
   "outputs": [],
   "source": []
  }
 ],
 "metadata": {
  "accelerator": "GPU",
  "colab": {
   "name": "DCGAN-backupBCN.ipynb",
   "provenance": []
  },
  "kernelspec": {
   "display_name": "Python [conda env: skm]",
   "language": "python",
   "name": "skm"
  },
  "language_info": {
   "codemirror_mode": {
    "name": "ipython",
    "version": 3
   },
   "file_extension": ".py",
   "mimetype": "text/x-python",
   "name": "python",
   "nbconvert_exporter": "python",
   "pygments_lexer": "ipython3",
   "version": "3.7.11"
  }
 },
 "nbformat": 4,
 "nbformat_minor": 4
}
